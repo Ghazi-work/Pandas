{
 "cells": [
  {
   "cell_type": "markdown",
   "metadata": {},
   "source": [
    "# Ydata Automatic profiling"
   ]
  },
  {
   "cell_type": "code",
   "execution_count": 9,
   "metadata": {},
   "outputs": [],
   "source": [
    "import numpy as np\n",
    "import pandas as pd\n",
    "import ydata_profiling as yd\n",
    "import seaborn as sns"
   ]
  },
  {
   "cell_type": "code",
   "execution_count": 18,
   "metadata": {},
   "outputs": [
    {
     "name": "stderr",
     "output_type": "stream",
     "text": [
      "C:\\Users\\Ghazi ali\\AppData\\Local\\Temp\\ipykernel_6792\\1267357796.py:1: DtypeWarning: Columns (2,21,23,51,89,90,94,99,104,109) have mixed types. Specify dtype option on import or set low_memory=False.\n",
      "  df_cus = pd.read_csv('Datasets\\customer-dbase.csv')\n",
      "Summarize dataset: 100%|█████████▉| 1905/1908 [08:27<00:03,  1.31s/it, Detecting duplicates]                  c:\\Users\\Ghazi ali\\miniconda3\\envs\\ydata_profiling\\Lib\\site-packages\\ydata_profiling\\model\\pandas\\duplicates_pandas.py:40: PerformanceWarning: DataFrame is highly fragmented.  This is usually the result of calling `frame.insert` many times, which has poor performance.  Consider joining all columns at once using pd.concat(axis=1) instead. To get a de-fragmented frame, use `newframe = frame.copy()`\n",
      "  .reset_index(name=duplicates_key)\n",
      "c:\\Users\\Ghazi ali\\miniconda3\\envs\\ydata_profiling\\Lib\\site-packages\\ydata_profiling\\model\\pandas\\duplicates_pandas.py:40: PerformanceWarning: DataFrame is highly fragmented.  This is usually the result of calling `frame.insert` many times, which has poor performance.  Consider joining all columns at once using pd.concat(axis=1) instead. To get a de-fragmented frame, use `newframe = frame.copy()`\n",
      "  .reset_index(name=duplicates_key)\n",
      "c:\\Users\\Ghazi ali\\miniconda3\\envs\\ydata_profiling\\Lib\\site-packages\\ydata_profiling\\model\\pandas\\duplicates_pandas.py:40: PerformanceWarning: DataFrame is highly fragmented.  This is usually the result of calling `frame.insert` many times, which has poor performance.  Consider joining all columns at once using pd.concat(axis=1) instead. To get a de-fragmented frame, use `newframe = frame.copy()`\n",
      "  .reset_index(name=duplicates_key)\n",
      "c:\\Users\\Ghazi ali\\miniconda3\\envs\\ydata_profiling\\Lib\\site-packages\\ydata_profiling\\model\\pandas\\duplicates_pandas.py:40: PerformanceWarning: DataFrame is highly fragmented.  This is usually the result of calling `frame.insert` many times, which has poor performance.  Consider joining all columns at once using pd.concat(axis=1) instead. To get a de-fragmented frame, use `newframe = frame.copy()`\n",
      "  .reset_index(name=duplicates_key)\n",
      "c:\\Users\\Ghazi ali\\miniconda3\\envs\\ydata_profiling\\Lib\\site-packages\\ydata_profiling\\model\\pandas\\duplicates_pandas.py:40: PerformanceWarning: DataFrame is highly fragmented.  This is usually the result of calling `frame.insert` many times, which has poor performance.  Consider joining all columns at once using pd.concat(axis=1) instead. To get a de-fragmented frame, use `newframe = frame.copy()`\n",
      "  .reset_index(name=duplicates_key)\n",
      "c:\\Users\\Ghazi ali\\miniconda3\\envs\\ydata_profiling\\Lib\\site-packages\\ydata_profiling\\model\\pandas\\duplicates_pandas.py:40: PerformanceWarning: DataFrame is highly fragmented.  This is usually the result of calling `frame.insert` many times, which has poor performance.  Consider joining all columns at once using pd.concat(axis=1) instead. To get a de-fragmented frame, use `newframe = frame.copy()`\n",
      "  .reset_index(name=duplicates_key)\n",
      "c:\\Users\\Ghazi ali\\miniconda3\\envs\\ydata_profiling\\Lib\\site-packages\\ydata_profiling\\model\\pandas\\duplicates_pandas.py:40: PerformanceWarning: DataFrame is highly fragmented.  This is usually the result of calling `frame.insert` many times, which has poor performance.  Consider joining all columns at once using pd.concat(axis=1) instead. To get a de-fragmented frame, use `newframe = frame.copy()`\n",
      "  .reset_index(name=duplicates_key)\n",
      "c:\\Users\\Ghazi ali\\miniconda3\\envs\\ydata_profiling\\Lib\\site-packages\\ydata_profiling\\model\\pandas\\duplicates_pandas.py:40: PerformanceWarning: DataFrame is highly fragmented.  This is usually the result of calling `frame.insert` many times, which has poor performance.  Consider joining all columns at once using pd.concat(axis=1) instead. To get a de-fragmented frame, use `newframe = frame.copy()`\n",
      "  .reset_index(name=duplicates_key)\n",
      "c:\\Users\\Ghazi ali\\miniconda3\\envs\\ydata_profiling\\Lib\\site-packages\\ydata_profiling\\model\\pandas\\duplicates_pandas.py:40: PerformanceWarning: DataFrame is highly fragmented.  This is usually the result of calling `frame.insert` many times, which has poor performance.  Consider joining all columns at once using pd.concat(axis=1) instead. To get a de-fragmented frame, use `newframe = frame.copy()`\n",
      "  .reset_index(name=duplicates_key)\n",
      "c:\\Users\\Ghazi ali\\miniconda3\\envs\\ydata_profiling\\Lib\\site-packages\\ydata_profiling\\model\\pandas\\duplicates_pandas.py:40: PerformanceWarning: DataFrame is highly fragmented.  This is usually the result of calling `frame.insert` many times, which has poor performance.  Consider joining all columns at once using pd.concat(axis=1) instead. To get a de-fragmented frame, use `newframe = frame.copy()`\n",
      "  .reset_index(name=duplicates_key)\n",
      "c:\\Users\\Ghazi ali\\miniconda3\\envs\\ydata_profiling\\Lib\\site-packages\\ydata_profiling\\model\\pandas\\duplicates_pandas.py:40: PerformanceWarning: DataFrame is highly fragmented.  This is usually the result of calling `frame.insert` many times, which has poor performance.  Consider joining all columns at once using pd.concat(axis=1) instead. To get a de-fragmented frame, use `newframe = frame.copy()`\n",
      "  .reset_index(name=duplicates_key)\n",
      "c:\\Users\\Ghazi ali\\miniconda3\\envs\\ydata_profiling\\Lib\\site-packages\\ydata_profiling\\model\\pandas\\duplicates_pandas.py:40: PerformanceWarning: DataFrame is highly fragmented.  This is usually the result of calling `frame.insert` many times, which has poor performance.  Consider joining all columns at once using pd.concat(axis=1) instead. To get a de-fragmented frame, use `newframe = frame.copy()`\n",
      "  .reset_index(name=duplicates_key)\n",
      "c:\\Users\\Ghazi ali\\miniconda3\\envs\\ydata_profiling\\Lib\\site-packages\\ydata_profiling\\model\\pandas\\duplicates_pandas.py:40: PerformanceWarning: DataFrame is highly fragmented.  This is usually the result of calling `frame.insert` many times, which has poor performance.  Consider joining all columns at once using pd.concat(axis=1) instead. To get a de-fragmented frame, use `newframe = frame.copy()`\n",
      "  .reset_index(name=duplicates_key)\n",
      "c:\\Users\\Ghazi ali\\miniconda3\\envs\\ydata_profiling\\Lib\\site-packages\\ydata_profiling\\model\\pandas\\duplicates_pandas.py:40: PerformanceWarning: DataFrame is highly fragmented.  This is usually the result of calling `frame.insert` many times, which has poor performance.  Consider joining all columns at once using pd.concat(axis=1) instead. To get a de-fragmented frame, use `newframe = frame.copy()`\n",
      "  .reset_index(name=duplicates_key)\n",
      "c:\\Users\\Ghazi ali\\miniconda3\\envs\\ydata_profiling\\Lib\\site-packages\\ydata_profiling\\model\\pandas\\duplicates_pandas.py:40: PerformanceWarning: DataFrame is highly fragmented.  This is usually the result of calling `frame.insert` many times, which has poor performance.  Consider joining all columns at once using pd.concat(axis=1) instead. To get a de-fragmented frame, use `newframe = frame.copy()`\n",
      "  .reset_index(name=duplicates_key)\n",
      "c:\\Users\\Ghazi ali\\miniconda3\\envs\\ydata_profiling\\Lib\\site-packages\\ydata_profiling\\model\\pandas\\duplicates_pandas.py:40: PerformanceWarning: DataFrame is highly fragmented.  This is usually the result of calling `frame.insert` many times, which has poor performance.  Consider joining all columns at once using pd.concat(axis=1) instead. To get a de-fragmented frame, use `newframe = frame.copy()`\n",
      "  .reset_index(name=duplicates_key)\n",
      "c:\\Users\\Ghazi ali\\miniconda3\\envs\\ydata_profiling\\Lib\\site-packages\\ydata_profiling\\model\\pandas\\duplicates_pandas.py:40: PerformanceWarning: DataFrame is highly fragmented.  This is usually the result of calling `frame.insert` many times, which has poor performance.  Consider joining all columns at once using pd.concat(axis=1) instead. To get a de-fragmented frame, use `newframe = frame.copy()`\n",
      "  .reset_index(name=duplicates_key)\n",
      "c:\\Users\\Ghazi ali\\miniconda3\\envs\\ydata_profiling\\Lib\\site-packages\\ydata_profiling\\model\\pandas\\duplicates_pandas.py:40: PerformanceWarning: DataFrame is highly fragmented.  This is usually the result of calling `frame.insert` many times, which has poor performance.  Consider joining all columns at once using pd.concat(axis=1) instead. To get a de-fragmented frame, use `newframe = frame.copy()`\n",
      "  .reset_index(name=duplicates_key)\n",
      "c:\\Users\\Ghazi ali\\miniconda3\\envs\\ydata_profiling\\Lib\\site-packages\\ydata_profiling\\model\\pandas\\duplicates_pandas.py:40: PerformanceWarning: DataFrame is highly fragmented.  This is usually the result of calling `frame.insert` many times, which has poor performance.  Consider joining all columns at once using pd.concat(axis=1) instead. To get a de-fragmented frame, use `newframe = frame.copy()`\n",
      "  .reset_index(name=duplicates_key)\n",
      "c:\\Users\\Ghazi ali\\miniconda3\\envs\\ydata_profiling\\Lib\\site-packages\\ydata_profiling\\model\\pandas\\duplicates_pandas.py:40: PerformanceWarning: DataFrame is highly fragmented.  This is usually the result of calling `frame.insert` many times, which has poor performance.  Consider joining all columns at once using pd.concat(axis=1) instead. To get a de-fragmented frame, use `newframe = frame.copy()`\n",
      "  .reset_index(name=duplicates_key)\n",
      "c:\\Users\\Ghazi ali\\miniconda3\\envs\\ydata_profiling\\Lib\\site-packages\\ydata_profiling\\model\\pandas\\duplicates_pandas.py:40: PerformanceWarning: DataFrame is highly fragmented.  This is usually the result of calling `frame.insert` many times, which has poor performance.  Consider joining all columns at once using pd.concat(axis=1) instead. To get a de-fragmented frame, use `newframe = frame.copy()`\n",
      "  .reset_index(name=duplicates_key)\n",
      "c:\\Users\\Ghazi ali\\miniconda3\\envs\\ydata_profiling\\Lib\\site-packages\\ydata_profiling\\model\\pandas\\duplicates_pandas.py:40: PerformanceWarning: DataFrame is highly fragmented.  This is usually the result of calling `frame.insert` many times, which has poor performance.  Consider joining all columns at once using pd.concat(axis=1) instead. To get a de-fragmented frame, use `newframe = frame.copy()`\n",
      "  .reset_index(name=duplicates_key)\n",
      "c:\\Users\\Ghazi ali\\miniconda3\\envs\\ydata_profiling\\Lib\\site-packages\\ydata_profiling\\model\\pandas\\duplicates_pandas.py:40: PerformanceWarning: DataFrame is highly fragmented.  This is usually the result of calling `frame.insert` many times, which has poor performance.  Consider joining all columns at once using pd.concat(axis=1) instead. To get a de-fragmented frame, use `newframe = frame.copy()`\n",
      "  .reset_index(name=duplicates_key)\n",
      "c:\\Users\\Ghazi ali\\miniconda3\\envs\\ydata_profiling\\Lib\\site-packages\\ydata_profiling\\model\\pandas\\duplicates_pandas.py:40: PerformanceWarning: DataFrame is highly fragmented.  This is usually the result of calling `frame.insert` many times, which has poor performance.  Consider joining all columns at once using pd.concat(axis=1) instead. To get a de-fragmented frame, use `newframe = frame.copy()`\n",
      "  .reset_index(name=duplicates_key)\n",
      "c:\\Users\\Ghazi ali\\miniconda3\\envs\\ydata_profiling\\Lib\\site-packages\\ydata_profiling\\model\\pandas\\duplicates_pandas.py:40: PerformanceWarning: DataFrame is highly fragmented.  This is usually the result of calling `frame.insert` many times, which has poor performance.  Consider joining all columns at once using pd.concat(axis=1) instead. To get a de-fragmented frame, use `newframe = frame.copy()`\n",
      "  .reset_index(name=duplicates_key)\n",
      "c:\\Users\\Ghazi ali\\miniconda3\\envs\\ydata_profiling\\Lib\\site-packages\\ydata_profiling\\model\\pandas\\duplicates_pandas.py:40: PerformanceWarning: DataFrame is highly fragmented.  This is usually the result of calling `frame.insert` many times, which has poor performance.  Consider joining all columns at once using pd.concat(axis=1) instead. To get a de-fragmented frame, use `newframe = frame.copy()`\n",
      "  .reset_index(name=duplicates_key)\n",
      "Summarize dataset: 100%|██████████| 1908/1908 [08:27<00:00,  3.76it/s, Completed]               \n",
      "Generate report structure: 100%|██████████| 1/1 [01:14<00:00, 74.53s/it]\n",
      "Render HTML: 100%|██████████| 1/1 [01:21<00:00, 81.13s/it]\n",
      "Export report to file: 100%|██████████| 1/1 [00:01<00:00,  1.32s/it]\n"
     ]
    }
   ],
   "source": [
    "df_cus = pd.read_csv('Datasets\\customer-dbase.csv')\n",
    "profile_customerdbase = yd.ProfileReport(df_cus)\n",
    "profile_customerdbase.to_file(output_file=\"./outputs/CustomerDbase_profiling.html\")"
   ]
  },
  {
   "cell_type": "code",
   "execution_count": null,
   "metadata": {},
   "outputs": [],
   "source": []
  }
 ],
 "metadata": {
  "kernelspec": {
   "display_name": "base",
   "language": "python",
   "name": "python3"
  },
  "language_info": {
   "codemirror_mode": {
    "name": "ipython",
    "version": 3
   },
   "file_extension": ".py",
   "mimetype": "text/x-python",
   "name": "python",
   "nbconvert_exporter": "python",
   "pygments_lexer": "ipython3",
   "version": "3.11.5"
  }
 },
 "nbformat": 4,
 "nbformat_minor": 2
}
