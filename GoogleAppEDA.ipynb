{
 "cells": [
  {
   "cell_type": "markdown",
   "metadata": {},
   "source": [
    "# EDA on Google's play store Apps"
   ]
  },
  {
   "cell_type": "markdown",
   "metadata": {},
   "source": [
    "**Author Name:** Syed Ghazi Ali Zaidi \\\n",
    "**Email:** sghazializaidi@gmail.com"
   ]
  },
  {
   "cell_type": "markdown",
   "metadata": {},
   "source": [
    "The data was downloaded from [link](https://www.kaggle.com/datasets/lava18/google-play-store-apps)"
   ]
  },
  {
   "cell_type": "markdown",
   "metadata": {},
   "source": [
    "## *The data collected from the source has the following description:*"
   ]
  },
  {
   "cell_type": "markdown",
   "metadata": {},
   "source": [
    "## About the Dataset\n",
    "\n",
    "### Context\n",
    "While numerous public datasets, such as those on Kaggle, provide Apple App Store data, equivalent datasets for Google Play Store apps are scarce across the web. Upon closer examination, it becomes evident that the iTunes App Store employs a well-organized, index-like structure, facilitating straightforward web scraping. In contrast, the Google Play Store utilizes sophisticated, modern techniques, including dynamic page loading with JQuery, presenting a more challenging environment for scraping.\n",
    "\n",
    "### Content\n",
    "Each entry in the dataset represents an app, featuring information such as category, rating, size, and more.\n",
    "\n",
    "### Acknowledgements\n",
    "The data presented here has been scraped from the Google Play Store. This valuable app information would not be accessible without the efforts involved in scraping.\n",
    "\n",
    "### Inspiration\n",
    "The dataset containing information on Play Store apps holds immense potential for guiding app development businesses toward success. Developers can extract actionable insights to target specific areas and capitalize on opportunities within the Android market!"
   ]
  },
  {
   "cell_type": "markdown",
   "metadata": {},
   "source": [
    "# 1. Importing Libraries"
   ]
  },
  {
   "cell_type": "code",
   "execution_count": 1,
   "metadata": {},
   "outputs": [],
   "source": [
    "import pandas as pd\n",
    "import numpy as np\n",
    "import matplotlib.pyplot as plt\n",
    "import seaborn as sns\n",
    "%matplotlib inline"
   ]
  },
  {
   "cell_type": "markdown",
   "metadata": {},
   "source": [
    "# 2. Data Loading and Exploration | Cleaning"
   ]
  },
  {
   "cell_type": "markdown",
   "metadata": {},
   "source": [
    "- let's load the csv"
   ]
  },
  {
   "cell_type": "code",
   "execution_count": 2,
   "metadata": {},
   "outputs": [],
   "source": [
    "df = pd.read_csv('./Datasets/googleplaystore.csv')"
   ]
  },
  {
   "cell_type": "markdown",
   "metadata": {},
   "source": [
    "- Important code to run"
   ]
  },
  {
   "cell_type": "code",
   "execution_count": 3,
   "metadata": {},
   "outputs": [],
   "source": [
    "# Set options to be maximum for rows and columns\n",
    "pd.set_option('display.max_columns',None)\n",
    "pd.set_option('display.max_rows',None)\n",
    "\n",
    "# hide all warnings\n",
    "import warnings \n",
    "warnings.filterwarnings('ignore')"
   ]
  },
  {
   "cell_type": "markdown",
   "metadata": {},
   "source": [
    "- Looking at first 5 rows"
   ]
  },
  {
   "cell_type": "code",
   "execution_count": 4,
   "metadata": {},
   "outputs": [
    {
     "data": {
      "text/html": [
       "<div>\n",
       "<style scoped>\n",
       "    .dataframe tbody tr th:only-of-type {\n",
       "        vertical-align: middle;\n",
       "    }\n",
       "\n",
       "    .dataframe tbody tr th {\n",
       "        vertical-align: top;\n",
       "    }\n",
       "\n",
       "    .dataframe thead th {\n",
       "        text-align: right;\n",
       "    }\n",
       "</style>\n",
       "<table border=\"1\" class=\"dataframe\">\n",
       "  <thead>\n",
       "    <tr style=\"text-align: right;\">\n",
       "      <th></th>\n",
       "      <th>App</th>\n",
       "      <th>Category</th>\n",
       "      <th>Rating</th>\n",
       "      <th>Reviews</th>\n",
       "      <th>Size</th>\n",
       "      <th>Installs</th>\n",
       "      <th>Type</th>\n",
       "      <th>Price</th>\n",
       "      <th>Content Rating</th>\n",
       "      <th>Genres</th>\n",
       "      <th>Last Updated</th>\n",
       "      <th>Current Ver</th>\n",
       "      <th>Android Ver</th>\n",
       "    </tr>\n",
       "  </thead>\n",
       "  <tbody>\n",
       "    <tr>\n",
       "      <th>0</th>\n",
       "      <td>Photo Editor &amp; Candy Camera &amp; Grid &amp; ScrapBook</td>\n",
       "      <td>ART_AND_DESIGN</td>\n",
       "      <td>4.1</td>\n",
       "      <td>159</td>\n",
       "      <td>19M</td>\n",
       "      <td>10,000+</td>\n",
       "      <td>Free</td>\n",
       "      <td>0</td>\n",
       "      <td>Everyone</td>\n",
       "      <td>Art &amp; Design</td>\n",
       "      <td>January 7, 2018</td>\n",
       "      <td>1.0.0</td>\n",
       "      <td>4.0.3 and up</td>\n",
       "    </tr>\n",
       "    <tr>\n",
       "      <th>1</th>\n",
       "      <td>Coloring book moana</td>\n",
       "      <td>ART_AND_DESIGN</td>\n",
       "      <td>3.9</td>\n",
       "      <td>967</td>\n",
       "      <td>14M</td>\n",
       "      <td>500,000+</td>\n",
       "      <td>Free</td>\n",
       "      <td>0</td>\n",
       "      <td>Everyone</td>\n",
       "      <td>Art &amp; Design;Pretend Play</td>\n",
       "      <td>January 15, 2018</td>\n",
       "      <td>2.0.0</td>\n",
       "      <td>4.0.3 and up</td>\n",
       "    </tr>\n",
       "    <tr>\n",
       "      <th>2</th>\n",
       "      <td>U Launcher Lite – FREE Live Cool Themes, Hide ...</td>\n",
       "      <td>ART_AND_DESIGN</td>\n",
       "      <td>4.7</td>\n",
       "      <td>87510</td>\n",
       "      <td>8.7M</td>\n",
       "      <td>5,000,000+</td>\n",
       "      <td>Free</td>\n",
       "      <td>0</td>\n",
       "      <td>Everyone</td>\n",
       "      <td>Art &amp; Design</td>\n",
       "      <td>August 1, 2018</td>\n",
       "      <td>1.2.4</td>\n",
       "      <td>4.0.3 and up</td>\n",
       "    </tr>\n",
       "    <tr>\n",
       "      <th>3</th>\n",
       "      <td>Sketch - Draw &amp; Paint</td>\n",
       "      <td>ART_AND_DESIGN</td>\n",
       "      <td>4.5</td>\n",
       "      <td>215644</td>\n",
       "      <td>25M</td>\n",
       "      <td>50,000,000+</td>\n",
       "      <td>Free</td>\n",
       "      <td>0</td>\n",
       "      <td>Teen</td>\n",
       "      <td>Art &amp; Design</td>\n",
       "      <td>June 8, 2018</td>\n",
       "      <td>Varies with device</td>\n",
       "      <td>4.2 and up</td>\n",
       "    </tr>\n",
       "    <tr>\n",
       "      <th>4</th>\n",
       "      <td>Pixel Draw - Number Art Coloring Book</td>\n",
       "      <td>ART_AND_DESIGN</td>\n",
       "      <td>4.3</td>\n",
       "      <td>967</td>\n",
       "      <td>2.8M</td>\n",
       "      <td>100,000+</td>\n",
       "      <td>Free</td>\n",
       "      <td>0</td>\n",
       "      <td>Everyone</td>\n",
       "      <td>Art &amp; Design;Creativity</td>\n",
       "      <td>June 20, 2018</td>\n",
       "      <td>1.1</td>\n",
       "      <td>4.4 and up</td>\n",
       "    </tr>\n",
       "  </tbody>\n",
       "</table>\n",
       "</div>"
      ],
      "text/plain": [
       "                                                 App        Category  Rating  \\\n",
       "0     Photo Editor & Candy Camera & Grid & ScrapBook  ART_AND_DESIGN     4.1   \n",
       "1                                Coloring book moana  ART_AND_DESIGN     3.9   \n",
       "2  U Launcher Lite – FREE Live Cool Themes, Hide ...  ART_AND_DESIGN     4.7   \n",
       "3                              Sketch - Draw & Paint  ART_AND_DESIGN     4.5   \n",
       "4              Pixel Draw - Number Art Coloring Book  ART_AND_DESIGN     4.3   \n",
       "\n",
       "   Reviews  Size     Installs  Type Price Content Rating  \\\n",
       "0      159   19M      10,000+  Free     0       Everyone   \n",
       "1      967   14M     500,000+  Free     0       Everyone   \n",
       "2    87510  8.7M   5,000,000+  Free     0       Everyone   \n",
       "3   215644   25M  50,000,000+  Free     0           Teen   \n",
       "4      967  2.8M     100,000+  Free     0       Everyone   \n",
       "\n",
       "                      Genres      Last Updated         Current Ver  \\\n",
       "0               Art & Design   January 7, 2018               1.0.0   \n",
       "1  Art & Design;Pretend Play  January 15, 2018               2.0.0   \n",
       "2               Art & Design    August 1, 2018               1.2.4   \n",
       "3               Art & Design      June 8, 2018  Varies with device   \n",
       "4    Art & Design;Creativity     June 20, 2018                 1.1   \n",
       "\n",
       "    Android Ver  \n",
       "0  4.0.3 and up  \n",
       "1  4.0.3 and up  \n",
       "2  4.0.3 and up  \n",
       "3    4.2 and up  \n",
       "4    4.4 and up  "
      ]
     },
     "execution_count": 4,
     "metadata": {},
     "output_type": "execute_result"
    }
   ],
   "source": [
    "df.head(5)"
   ]
  },
  {
   "cell_type": "code",
   "execution_count": 5,
   "metadata": {},
   "outputs": [
    {
     "name": "stdout",
     "output_type": "stream",
     "text": [
      "There are 10840 rows and 13 columns in the dataset.\n"
     ]
    }
   ],
   "source": [
    "print(f\"There are {df.shape[0]} rows and {df.shape[1]} columns in the dataset.\")"
   ]
  },
  {
   "cell_type": "code",
   "execution_count": 6,
   "metadata": {},
   "outputs": [
    {
     "data": {
      "text/plain": [
       "Index(['App', 'Category', 'Rating', 'Reviews', 'Size', 'Installs', 'Type',\n",
       "       'Price', 'Content Rating', 'Genres', 'Last Updated', 'Current Ver',\n",
       "       'Android Ver'],\n",
       "      dtype='object')"
      ]
     },
     "execution_count": 6,
     "metadata": {},
     "output_type": "execute_result"
    }
   ],
   "source": [
    "df.columns"
   ]
  },
  {
   "cell_type": "code",
   "execution_count": 7,
   "metadata": {},
   "outputs": [
    {
     "name": "stdout",
     "output_type": "stream",
     "text": [
      "<class 'pandas.core.frame.DataFrame'>\n",
      "RangeIndex: 10840 entries, 0 to 10839\n",
      "Data columns (total 13 columns):\n",
      " #   Column          Non-Null Count  Dtype  \n",
      "---  ------          --------------  -----  \n",
      " 0   App             10840 non-null  object \n",
      " 1   Category        10840 non-null  object \n",
      " 2   Rating          9366 non-null   float64\n",
      " 3   Reviews         10840 non-null  int64  \n",
      " 4   Size            10840 non-null  object \n",
      " 5   Installs        10840 non-null  object \n",
      " 6   Type            10839 non-null  object \n",
      " 7   Price           10840 non-null  object \n",
      " 8   Content Rating  10840 non-null  object \n",
      " 9   Genres          10840 non-null  object \n",
      " 10  Last Updated    10840 non-null  object \n",
      " 11  Current Ver     10832 non-null  object \n",
      " 12  Android Ver     10838 non-null  object \n",
      "dtypes: float64(1), int64(1), object(11)\n",
      "memory usage: 1.1+ MB\n"
     ]
    }
   ],
   "source": [
    "df.info()"
   ]
  },
  {
   "cell_type": "markdown",
   "metadata": {},
   "source": [
    "- To check which columns are numeric"
   ]
  },
  {
   "cell_type": "code",
   "execution_count": 8,
   "metadata": {},
   "outputs": [
    {
     "data": {
      "text/html": [
       "<div>\n",
       "<style scoped>\n",
       "    .dataframe tbody tr th:only-of-type {\n",
       "        vertical-align: middle;\n",
       "    }\n",
       "\n",
       "    .dataframe tbody tr th {\n",
       "        vertical-align: top;\n",
       "    }\n",
       "\n",
       "    .dataframe thead th {\n",
       "        text-align: right;\n",
       "    }\n",
       "</style>\n",
       "<table border=\"1\" class=\"dataframe\">\n",
       "  <thead>\n",
       "    <tr style=\"text-align: right;\">\n",
       "      <th></th>\n",
       "      <th>Rating</th>\n",
       "      <th>Reviews</th>\n",
       "    </tr>\n",
       "  </thead>\n",
       "  <tbody>\n",
       "    <tr>\n",
       "      <th>count</th>\n",
       "      <td>9366.000000</td>\n",
       "      <td>1.084000e+04</td>\n",
       "    </tr>\n",
       "    <tr>\n",
       "      <th>mean</th>\n",
       "      <td>4.191757</td>\n",
       "      <td>4.441529e+05</td>\n",
       "    </tr>\n",
       "    <tr>\n",
       "      <th>std</th>\n",
       "      <td>0.515219</td>\n",
       "      <td>2.927761e+06</td>\n",
       "    </tr>\n",
       "    <tr>\n",
       "      <th>min</th>\n",
       "      <td>1.000000</td>\n",
       "      <td>0.000000e+00</td>\n",
       "    </tr>\n",
       "    <tr>\n",
       "      <th>25%</th>\n",
       "      <td>4.000000</td>\n",
       "      <td>3.800000e+01</td>\n",
       "    </tr>\n",
       "    <tr>\n",
       "      <th>50%</th>\n",
       "      <td>4.300000</td>\n",
       "      <td>2.094000e+03</td>\n",
       "    </tr>\n",
       "    <tr>\n",
       "      <th>75%</th>\n",
       "      <td>4.500000</td>\n",
       "      <td>5.477550e+04</td>\n",
       "    </tr>\n",
       "    <tr>\n",
       "      <th>max</th>\n",
       "      <td>5.000000</td>\n",
       "      <td>7.815831e+07</td>\n",
       "    </tr>\n",
       "  </tbody>\n",
       "</table>\n",
       "</div>"
      ],
      "text/plain": [
       "            Rating       Reviews\n",
       "count  9366.000000  1.084000e+04\n",
       "mean      4.191757  4.441529e+05\n",
       "std       0.515219  2.927761e+06\n",
       "min       1.000000  0.000000e+00\n",
       "25%       4.000000  3.800000e+01\n",
       "50%       4.300000  2.094000e+03\n",
       "75%       4.500000  5.477550e+04\n",
       "max       5.000000  7.815831e+07"
      ]
     },
     "execution_count": 8,
     "metadata": {},
     "output_type": "execute_result"
    }
   ],
   "source": [
    "df.describe()"
   ]
  },
  {
   "cell_type": "markdown",
   "metadata": {},
   "source": [
    "#### We analyzed that there must be 5 columns that are numeric, but we have 2"
   ]
  },
  {
   "cell_type": "code",
   "execution_count": 9,
   "metadata": {},
   "outputs": [
    {
     "data": {
      "text/html": [
       "<div>\n",
       "<style scoped>\n",
       "    .dataframe tbody tr th:only-of-type {\n",
       "        vertical-align: middle;\n",
       "    }\n",
       "\n",
       "    .dataframe tbody tr th {\n",
       "        vertical-align: top;\n",
       "    }\n",
       "\n",
       "    .dataframe thead th {\n",
       "        text-align: right;\n",
       "    }\n",
       "</style>\n",
       "<table border=\"1\" class=\"dataframe\">\n",
       "  <thead>\n",
       "    <tr style=\"text-align: right;\">\n",
       "      <th></th>\n",
       "      <th>Size</th>\n",
       "      <th>Installs</th>\n",
       "      <th>Price</th>\n",
       "    </tr>\n",
       "  </thead>\n",
       "  <tbody>\n",
       "    <tr>\n",
       "      <th>911</th>\n",
       "      <td>13M</td>\n",
       "      <td>1,000,000+</td>\n",
       "      <td>0</td>\n",
       "    </tr>\n",
       "    <tr>\n",
       "      <th>5052</th>\n",
       "      <td>53M</td>\n",
       "      <td>100+</td>\n",
       "      <td>0</td>\n",
       "    </tr>\n",
       "    <tr>\n",
       "      <th>7267</th>\n",
       "      <td>29M</td>\n",
       "      <td>10,000,000+</td>\n",
       "      <td>0</td>\n",
       "    </tr>\n",
       "    <tr>\n",
       "      <th>6763</th>\n",
       "      <td>373k</td>\n",
       "      <td>5,000,000+</td>\n",
       "      <td>0</td>\n",
       "    </tr>\n",
       "    <tr>\n",
       "      <th>5198</th>\n",
       "      <td>26M</td>\n",
       "      <td>1,000+</td>\n",
       "      <td>0</td>\n",
       "    </tr>\n",
       "  </tbody>\n",
       "</table>\n",
       "</div>"
      ],
      "text/plain": [
       "      Size     Installs Price\n",
       "911    13M   1,000,000+     0\n",
       "5052   53M         100+     0\n",
       "7267   29M  10,000,000+     0\n",
       "6763  373k   5,000,000+     0\n",
       "5198   26M       1,000+     0"
      ]
     },
     "execution_count": 9,
     "metadata": {},
     "output_type": "execute_result"
    }
   ],
   "source": [
    "df[['Size','Installs','Price']].sample(5)"
   ]
  },
  {
   "cell_type": "markdown",
   "metadata": {},
   "source": [
    "# Making columns numeric"
   ]
  },
  {
   "cell_type": "markdown",
   "metadata": {},
   "source": [
    "# 1. Size"
   ]
  },
  {
   "cell_type": "code",
   "execution_count": 10,
   "metadata": {},
   "outputs": [
    {
     "data": {
      "text/plain": [
       "Size\n",
       "Varies with device    1695\n",
       "11M                    198\n",
       "12M                    196\n",
       "14M                    194\n",
       "13M                    191\n",
       "15M                    184\n",
       "17M                    160\n",
       "19M                    154\n",
       "26M                    149\n",
       "16M                    149\n",
       "25M                    143\n",
       "20M                    139\n",
       "21M                    138\n",
       "10M                    136\n",
       "24M                    136\n",
       "18M                    133\n",
       "23M                    117\n",
       "22M                    114\n",
       "29M                    103\n",
       "27M                     97\n",
       "28M                     95\n",
       "30M                     84\n",
       "33M                     79\n",
       "3.3M                    77\n",
       "37M                     76\n",
       "35M                     72\n",
       "31M                     70\n",
       "2.9M                    69\n",
       "2.5M                    68\n",
       "2.3M                    68\n",
       "2.8M                    65\n",
       "3.4M                    65\n",
       "32M                     63\n",
       "34M                     63\n",
       "3.7M                    63\n",
       "40M                     62\n",
       "3.9M                    62\n",
       "3.8M                    62\n",
       "4.0M                    61\n",
       "44M                     61\n",
       "3.0M                    61\n",
       "36M                     60\n",
       "48M                     59\n",
       "46M                     59\n",
       "4.2M                    59\n",
       "5.0M                    58\n",
       "3.6M                    57\n",
       "3.1M                    56\n",
       "39M                     56\n",
       "3.2M                    55\n",
       "38M                     55\n",
       "4.3M                    54\n",
       "2.7M                    53\n",
       "4.1M                    52\n",
       "2.0M                    51\n",
       "3.5M                    51\n",
       "5.4M                    51\n",
       "1.8M                    50\n",
       "4.9M                    50\n",
       "2.6M                    50\n",
       "5.7M                    48\n",
       "1.5M                    48\n",
       "2.4M                    48\n",
       "41M                     48\n",
       "43M                     47\n",
       "4.6M                    46\n",
       "6.3M                    45\n",
       "2.2M                    45\n",
       "49M                     45\n",
       "50M                     44\n",
       "5.3M                    44\n",
       "5.1M                    43\n",
       "53M                     43\n",
       "4.4M                    42\n",
       "1.2M                    41\n",
       "42M                     41\n",
       "63M                     41\n",
       "2.1M                    40\n",
       "45M                     40\n",
       "4.5M                    40\n",
       "1.7M                    40\n",
       "6.9M                    40\n",
       "1.6M                    39\n",
       "8.7M                    39\n",
       "99M                     39\n",
       "6.1M                    39\n",
       "59M                     38\n",
       "57M                     37\n",
       "47M                     37\n",
       "7.3M                    37\n",
       "1.4M                    37\n",
       "5.9M                    37\n",
       "8.5M                    36\n",
       "4.7M                    36\n",
       "60M                     36\n",
       "5.8M                    35\n",
       "5.2M                    35\n",
       "1.3M                    35\n",
       "52M                     35\n",
       "4.8M                    34\n",
       "6.5M                    34\n",
       "6.0M                    34\n",
       "7.9M                    33\n",
       "9.2M                    33\n",
       "6.6M                    33\n",
       "51M                     33\n",
       "7.0M                    33\n",
       "5.5M                    33\n",
       "1.9M                    32\n",
       "1.1M                    32\n",
       "62M                     32\n",
       "67M                     32\n",
       "5.6M                    31\n",
       "56M                     31\n",
       "8.4M                    30\n",
       "8.3M                    30\n",
       "7.2M                    30\n",
       "6.2M                    30\n",
       "55M                     30\n",
       "9.8M                    30\n",
       "7.6M                    29\n",
       "9.1M                    29\n",
       "6.4M                    29\n",
       "54M                     29\n",
       "7.8M                    29\n",
       "8.2M                    28\n",
       "8.9M                    28\n",
       "7.4M                    28\n",
       "9.9M                    28\n",
       "9.5M                    28\n",
       "6.8M                    28\n",
       "7.5M                    28\n",
       "8.1M                    27\n",
       "9.0M                    27\n",
       "70M                     27\n",
       "8.8M                    27\n",
       "76M                     27\n",
       "96M                     26\n",
       "7.7M                    26\n",
       "7.1M                    26\n",
       "61M                     26\n",
       "58M                     26\n",
       "6.7M                    25\n",
       "8.6M                    25\n",
       "9.7M                    24\n",
       "9.4M                    24\n",
       "78M                     23\n",
       "8.0M                    23\n",
       "69M                     23\n",
       "91M                     22\n",
       "82M                     21\n",
       "97M                     20\n",
       "74M                     20\n",
       "72M                     19\n",
       "95M                     18\n",
       "68M                     18\n",
       "94M                     17\n",
       "85M                     17\n",
       "98M                     16\n",
       "93M                     16\n",
       "100M                    16\n",
       "66M                     16\n",
       "64M                     15\n",
       "92M                     15\n",
       "9.6M                    15\n",
       "73M                     15\n",
       "9.3M                    15\n",
       "83M                     15\n",
       "71M                     14\n",
       "88M                     14\n",
       "87M                     13\n",
       "75M                     13\n",
       "77M                     13\n",
       "80M                     13\n",
       "79M                     11\n",
       "81M                     11\n",
       "10.0M                   10\n",
       "65M                     10\n",
       "89M                      9\n",
       "84M                      9\n",
       "86M                      8\n",
       "1.0M                     7\n",
       "90M                      6\n",
       "266k                     3\n",
       "79k                      3\n",
       "118k                     3\n",
       "201k                     3\n",
       "375k                     3\n",
       "26k                      2\n",
       "323k                     2\n",
       "51k                      2\n",
       "364k                     2\n",
       "196k                     2\n",
       "192k                     2\n",
       "17k                      2\n",
       "592k                     2\n",
       "948k                     2\n",
       "335k                     2\n",
       "72k                      2\n",
       "656k                     2\n",
       "318k                     2\n",
       "228k                     2\n",
       "417k                     2\n",
       "842k                     2\n",
       "33k                      2\n",
       "70k                      2\n",
       "957k                     2\n",
       "473k                     2\n",
       "172k                     2\n",
       "206k                     2\n",
       "58k                      2\n",
       "141k                     2\n",
       "704k                     2\n",
       "18k                      2\n",
       "29k                      2\n",
       "334k                     2\n",
       "643k                     1\n",
       "34k                      1\n",
       "108k                     1\n",
       "940k                     1\n",
       "551k                     1\n",
       "176k                     1\n",
       "785k                     1\n",
       "103k                     1\n",
       "663k                     1\n",
       "942k                     1\n",
       "221k                     1\n",
       "259k                     1\n",
       "164k                     1\n",
       "898k                     1\n",
       "458k                     1\n",
       "245k                     1\n",
       "743k                     1\n",
       "629k                     1\n",
       "116k                     1\n",
       "28k                      1\n",
       "288k                     1\n",
       "153k                     1\n",
       "209k                     1\n",
       "601k                     1\n",
       "50k                      1\n",
       "269k                     1\n",
       "237k                     1\n",
       "787k                     1\n",
       "801k                     1\n",
       "986k                     1\n",
       "400k                     1\n",
       "97k                      1\n",
       "516k                     1\n",
       "837k                     1\n",
       "411k                     1\n",
       "780k                     1\n",
       "961k                     1\n",
       "20k                      1\n",
       "353k                     1\n",
       "122k                     1\n",
       "498k                     1\n",
       "600k                     1\n",
       "809k                     1\n",
       "749k                     1\n",
       "514k                     1\n",
       "642k                     1\n",
       "881k                     1\n",
       "597k                     1\n",
       "173k                     1\n",
       "499k                     1\n",
       "775k                     1\n",
       "67k                      1\n",
       "636k                     1\n",
       "470k                     1\n",
       "170k                     1\n",
       "160k                     1\n",
       "144k                     1\n",
       "143k                     1\n",
       "190k                     1\n",
       "376k                     1\n",
       "193k                     1\n",
       "246k                     1\n",
       "73k                      1\n",
       "658k                     1\n",
       "992k                     1\n",
       "253k                     1\n",
       "420k                     1\n",
       "404k                     1\n",
       "226k                     1\n",
       "916k                     1\n",
       "240k                     1\n",
       "89k                      1\n",
       "234k                     1\n",
       "257k                     1\n",
       "861k                     1\n",
       "467k                     1\n",
       "157k                     1\n",
       "44k                      1\n",
       "676k                     1\n",
       "208k                     1\n",
       "552k                     1\n",
       "885k                     1\n",
       "1020k                    1\n",
       "582k                     1\n",
       "970k                     1\n",
       "39k                      1\n",
       "879k                     1\n",
       "161k                     1\n",
       "994k                     1\n",
       "309k                     1\n",
       "485k                     1\n",
       "914k                     1\n",
       "903k                     1\n",
       "608k                     1\n",
       "500k                     1\n",
       "54k                      1\n",
       "562k                     1\n",
       "847k                     1\n",
       "688k                     1\n",
       "811k                     1\n",
       "270k                     1\n",
       "48k                      1\n",
       "329k                     1\n",
       "523k                     1\n",
       "921k                     1\n",
       "874k                     1\n",
       "981k                     1\n",
       "784k                     1\n",
       "280k                     1\n",
       "24k                      1\n",
       "518k                     1\n",
       "754k                     1\n",
       "892k                     1\n",
       "154k                     1\n",
       "860k                     1\n",
       "387k                     1\n",
       "626k                     1\n",
       "913k                     1\n",
       "371k                     1\n",
       "82k                      1\n",
       "924k                     1\n",
       "746k                     1\n",
       "203k                     1\n",
       "314k                     1\n",
       "239k                     1\n",
       "220k                     1\n",
       "730k                     1\n",
       "756k                     1\n",
       "91k                      1\n",
       "293k                     1\n",
       "74k                      1\n",
       "14k                      1\n",
       "317k                     1\n",
       "78k                      1\n",
       "902k                     1\n",
       "540k                     1\n",
       "818k                     1\n",
       "81k                      1\n",
       "939k                     1\n",
       "169k                     1\n",
       "45k                      1\n",
       "475k                     1\n",
       "965k                     1\n",
       "545k                     1\n",
       "61k                      1\n",
       "283k                     1\n",
       "655k                     1\n",
       "714k                     1\n",
       "93k                      1\n",
       "313k                     1\n",
       "930k                     1\n",
       "27k                      1\n",
       "975k                     1\n",
       "23k                      1\n",
       "695k                     1\n",
       "556k                     1\n",
       "526k                     1\n",
       "232k                     1\n",
       "624k                     1\n",
       "8.5k                     1\n",
       "41k                      1\n",
       "292k                     1\n",
       "11k                      1\n",
       "862k                     1\n",
       "899k                     1\n",
       "378k                     1\n",
       "980k                     1\n",
       "251k                     1\n",
       "696k                     1\n",
       "544k                     1\n",
       "525k                     1\n",
       "920k                     1\n",
       "779k                     1\n",
       "853k                     1\n",
       "720k                     1\n",
       "713k                     1\n",
       "772k                     1\n",
       "241k                     1\n",
       "857k                     1\n",
       "953k                     1\n",
       "865k                     1\n",
       "872k                     1\n",
       "121k                     1\n",
       "322k                     1\n",
       "437k                     1\n",
       "506k                     1\n",
       "887k                     1\n",
       "613k                     1\n",
       "243k                     1\n",
       "569k                     1\n",
       "778k                     1\n",
       "683k                     1\n",
       "319k                     1\n",
       "186k                     1\n",
       "840k                     1\n",
       "647k                     1\n",
       "191k                     1\n",
       "373k                     1\n",
       "598k                     1\n",
       "976k                     1\n",
       "716k                     1\n",
       "585k                     1\n",
       "982k                     1\n",
       "222k                     1\n",
       "219k                     1\n",
       "55k                      1\n",
       "691k                     1\n",
       "511k                     1\n",
       "951k                     1\n",
       "963k                     1\n",
       "25k                      1\n",
       "554k                     1\n",
       "351k                     1\n",
       "414k                     1\n",
       "816k                     1\n",
       "496k                     1\n",
       "728k                     1\n",
       "238k                     1\n",
       "549k                     1\n",
       "954k                     1\n",
       "444k                     1\n",
       "717k                     1\n",
       "210k                     1\n",
       "609k                     1\n",
       "308k                     1\n",
       "705k                     1\n",
       "306k                     1\n",
       "904k                     1\n",
       "175k                     1\n",
       "350k                     1\n",
       "383k                     1\n",
       "454k                     1\n",
       "421k                     1\n",
       "812k                     1\n",
       "442k                     1\n",
       "412k                     1\n",
       "459k                     1\n",
       "478k                     1\n",
       "782k                     1\n",
       "721k                     1\n",
       "430k                     1\n",
       "429k                     1\n",
       "200k                     1\n",
       "460k                     1\n",
       "619k                     1\n",
       "Name: count, dtype: int64"
      ]
     },
     "execution_count": 10,
     "metadata": {},
     "output_type": "execute_result"
    }
   ],
   "source": [
    "df['Size'].value_counts()"
   ]
  },
  {
   "cell_type": "markdown",
   "metadata": {},
   "source": [
    "Observations:\n",
    "1. Varies with device\n",
    "2. M \n",
    "3. K\n",
    "\n",
    "- We will remove `Varies with device` with `NAN`\n",
    "- Remove M\n",
    "- Remove k and dividing it by 1024"
   ]
  },
  {
   "cell_type": "code",
   "execution_count": 11,
   "metadata": {},
   "outputs": [
    {
     "data": {
      "text/plain": [
       "0"
      ]
     },
     "execution_count": 11,
     "metadata": {},
     "output_type": "execute_result"
    }
   ],
   "source": [
    "df['Size'].isna().sum()"
   ]
  },
  {
   "cell_type": "code",
   "execution_count": 12,
   "metadata": {},
   "outputs": [
    {
     "data": {
      "text/plain": [
       "1695"
      ]
     },
     "execution_count": 12,
     "metadata": {},
     "output_type": "execute_result"
    }
   ],
   "source": [
    "# Sum of Varies with device available in Size column\n",
    "df['Size'].loc[df['Size'].str.contains('Varies with device')].value_counts().sum()"
   ]
  },
  {
   "cell_type": "code",
   "execution_count": 13,
   "metadata": {},
   "outputs": [
    {
     "data": {
      "text/plain": [
       "8829"
      ]
     },
     "execution_count": 13,
     "metadata": {},
     "output_type": "execute_result"
    }
   ],
   "source": [
    "# Sum of M available in Size column\n",
    "df['Size'].loc[df['Size'].str.contains('M')].value_counts().sum()"
   ]
  },
  {
   "cell_type": "code",
   "execution_count": 14,
   "metadata": {},
   "outputs": [
    {
     "data": {
      "text/plain": [
       "316"
      ]
     },
     "execution_count": 14,
     "metadata": {},
     "output_type": "execute_result"
    }
   ],
   "source": [
    "# Sum of k available in Size column\n",
    "df['Size'].loc[df['Size'].str.contains('k')].value_counts().sum()"
   ]
  },
  {
   "cell_type": "code",
   "execution_count": 15,
   "metadata": {},
   "outputs": [
    {
     "data": {
      "text/plain": [
       "10840"
      ]
     },
     "execution_count": 15,
     "metadata": {},
     "output_type": "execute_result"
    }
   ],
   "source": [
    "df['Size'].value_counts().sum()"
   ]
  },
  {
   "cell_type": "markdown",
   "metadata": {},
   "source": [
    "#### Removing `Varies with device` with numpy NAN"
   ]
  },
  {
   "cell_type": "code",
   "execution_count": 16,
   "metadata": {},
   "outputs": [],
   "source": [
    "df['Size'] = df['Size'].replace('Varies with device',np.nan)"
   ]
  },
  {
   "cell_type": "code",
   "execution_count": 17,
   "metadata": {},
   "outputs": [
    {
     "data": {
      "text/plain": [
       "1695"
      ]
     },
     "execution_count": 17,
     "metadata": {},
     "output_type": "execute_result"
    }
   ],
   "source": [
    "df['Size'].isnull().sum()"
   ]
  },
  {
   "cell_type": "markdown",
   "metadata": {},
   "source": [
    "#### Replacing `M` with empty space"
   ]
  },
  {
   "cell_type": "code",
   "execution_count": 18,
   "metadata": {},
   "outputs": [],
   "source": [
    "df['Size'] = df['Size'].str.replace('M','')"
   ]
  },
  {
   "cell_type": "markdown",
   "metadata": {},
   "source": [
    "### Making function to handle `K` and divide it by 1024"
   ]
  },
  {
   "cell_type": "code",
   "execution_count": 19,
   "metadata": {},
   "outputs": [],
   "source": [
    "def covert_k(size):\n",
    "    if isinstance(size,str):\n",
    "        if 'k' in size:\n",
    "            return float(size.replace('k',\"\")) / 1024\n",
    "    return size"
   ]
  },
  {
   "cell_type": "markdown",
   "metadata": {},
   "source": [
    "- Calling the function"
   ]
  },
  {
   "cell_type": "code",
   "execution_count": 20,
   "metadata": {},
   "outputs": [
    {
     "data": {
      "text/plain": [
       "array(['19', '14', '8.7', '25', '2.8', '5.6', '29', '33', '3.1', '28',\n",
       "       '12', '20', '21', '37', '2.7', '5.5', '17', '39', '31', '4.2',\n",
       "       '7.0', '23', '6.0', '6.1', '4.6', '9.2', '5.2', '11', '24', nan,\n",
       "       '9.4', '15', '10', '1.2', '26', '8.0', '7.9', '56', '57', '35',\n",
       "       '54', 0.1962890625, '3.6', '5.7', '8.6', '2.4', '27', '2.5', '16',\n",
       "       '3.4', '8.9', '3.9', '2.9', '38', '32', '5.4', '18', '1.1', '2.2',\n",
       "       '4.5', '9.8', '52', '9.0', '6.7', '30', '2.6', '7.1', '3.7', '22',\n",
       "       '7.4', '6.4', '3.2', '8.2', '9.9', '4.9', '9.5', '5.0', '5.9',\n",
       "       '13', '73', '6.8', '3.5', '4.0', '2.3', '7.2', '2.1', '42', '7.3',\n",
       "       '9.1', '55', 0.0224609375, '6.5', '1.5', '7.5', '51', '41', '48',\n",
       "       '8.5', '46', '8.3', '4.3', '4.7', '3.3', '40', '7.8', '8.8', '6.6',\n",
       "       '5.1', '61', '66', 0.0771484375, '8.4', 0.115234375, '44',\n",
       "       0.6787109375, '1.6', '6.2', 0.017578125, '53', '1.4', '3.0', '5.8',\n",
       "       '3.8', '9.6', '45', '63', '49', '77', '4.4', '4.8', '70', '6.9',\n",
       "       '9.3', '10.0', '8.1', '36', '84', '97', '2.0', '1.9', '1.8', '5.3',\n",
       "       '47', 0.54296875, 0.513671875, '76', '7.6', '59', '9.7', '78',\n",
       "       '72', '43', '7.7', '6.3', 0.326171875, '34', '93', '65', '79',\n",
       "       '100', '58', '50', '68', '64', '67', '60', '94', 0.2265625, '99',\n",
       "       0.609375, '95', 0.00830078125, 0.0400390625, 0.28515625,\n",
       "       0.0107421875, '80', '1.7', '74', '62', '69', '75', '98', '85',\n",
       "       '82', '96', '87', '71', '86', '91', '81', '92', '83', '88', 0.6875,\n",
       "       0.841796875, 0.8779296875, 0.369140625, 0.259765625, 0.3662109375,\n",
       "       '1.3', 0.9521484375, 0.95703125, '4.1', '89', 0.6796875, 0.53125,\n",
       "       0.5126953125, 0.8984375, 0.7607421875, 0.8330078125, 0.703125,\n",
       "       0.6962890625, 0.75390625, 0.310546875, 0.056640625, 0.2353515625,\n",
       "       0.19140625, 0.8369140625, 0.0498046875, 0.9306640625, 0.8447265625,\n",
       "       0.2451171875, 0.908203125, 0.52734375, 0.3056640625, 0.728515625,\n",
       "       0.1982421875, 0.025390625, 0.306640625, 0.2333984375, 0.3623046875,\n",
       "       0.21484375, 0.712890625, 0.73828125, 0.0888671875, 0.2861328125,\n",
       "       0.0166015625, 0.072265625, 0.013671875, 0.3095703125, 0.076171875,\n",
       "       0.90234375, 0.880859375, 0.798828125, 0.0791015625, 0.9169921875,\n",
       "       0.1650390625, 0.0439453125, 0.4638671875, 0.9423828125, '90',\n",
       "       0.5322265625, 0.0595703125, 0.2763671875, 0.6396484375,\n",
       "       0.697265625, 0.0908203125, 0.8515625, 0.1181640625, 0.314453125,\n",
       "       '1.0', 0.953125, 0.16796875, 0.232421875, 0.5361328125,\n",
       "       0.201171875, 0.931640625, 0.43359375, 0.7001953125, 0.205078125,\n",
       "       0.5947265625, 0.30078125, 0.6884765625, 0.298828125, 0.8828125,\n",
       "       0.4619140625, 0.1708984375, 0.341796875, 0.3740234375, 0.443359375,\n",
       "       0.4111328125, 0.068359375, 0.79296875, 0.431640625, 0.822265625,\n",
       "       0.4072265625, 0.40234375, 0.4482421875, 0.466796875, 0.3271484375,\n",
       "       0.763671875, 0.7041015625, 0.419921875, 0.4189453125, 0.1875,\n",
       "       0.1953125, 0.44921875, 0.7109375, 0.484375, 0.796875, 0.404296875,\n",
       "       0.494140625, 0.8662109375, 0.5986328125, 0.2373046875,\n",
       "       0.5556640625, 0.759765625, 0.6669921875, 0.578125, 0.3115234375,\n",
       "       0.181640625, 0.8203125, 0.6318359375, 0.1865234375, 0.3642578125,\n",
       "       0.4267578125, 0.583984375, 0.69921875, 0.5712890625, 0.958984375,\n",
       "       0.216796875, 0.2138671875, 0.0537109375, 0.92578125, 0.3154296875,\n",
       "       0.6748046875, 0.4990234375, 0.9287109375, 0.9404296875,\n",
       "       0.0244140625, 0.541015625, 0.3427734375, 0.0263671875, 0.080078125,\n",
       "       0.203125, 0.8916015625, 0.501953125, 0.5380859375, 0.0283203125,\n",
       "       0.1005859375, 0.876953125, 0.7255859375, 0.11328125, 0.1494140625,\n",
       "       0.2041015625, 0.3447265625, 0.4873046875, 0.1689453125,\n",
       "       0.5830078125, 0.7900390625, 0.119140625, 0.4013671875, 0.390625,\n",
       "       0.7822265625, 0.7685546875, 0.2314453125, 0.048828125,\n",
       "       0.6279296875, 0.962890625, 0.0947265625, 0.50390625, 0.8173828125,\n",
       "       0.76171875, 0.9384765625, 0.2626953125, 0.01953125, 0.486328125,\n",
       "       0.5859375, 0.7314453125, 0.626953125, 0.8603515625, 0.0703125,\n",
       "       0.640625, 0.5869140625, 0.2158203125, 0.22265625, 0.10546875,\n",
       "       0.91796875, 0.171875, 0.0322265625, 0.6474609375, 0.033203125,\n",
       "       0.919921875, 0.2529296875, 0.16015625, 0.447265625, 0.2392578125,\n",
       "       0.6142578125, 0.02734375, 0.28125, 0.7568359375, 0.7666015625,\n",
       "       0.62109375, 0.89453125, 0.970703125, 0.3017578125, 0.4736328125,\n",
       "       0.892578125, 0.8818359375, 0.59375, 0.48828125, 0.052734375,\n",
       "       0.548828125, 0.8271484375, 0.9345703125, 0.671875, 0.7919921875,\n",
       "       0.263671875, 0.046875, 0.3212890625, 0.5107421875, 0.8994140625,\n",
       "       0.853515625, 0.9580078125, 0.765625, 0.2734375, 0.0234375,\n",
       "       0.505859375, 0.736328125, 0.87109375, 0.150390625, 0.83984375,\n",
       "       0.35546875, 0.3779296875, 0.611328125, 0.1572265625, 0.8583984375,\n",
       "       0.0380859375, 0.947265625, 0.166015625, 0.1376953125, 0.15625,\n",
       "       0.140625, 0.1396484375, 0.185546875, 0.3671875, 0.1884765625,\n",
       "       0.240234375, 0.0712890625, 0.642578125, 0.96875, 0.2470703125,\n",
       "       0.41015625, 0.39453125, 0.458984375, 0.220703125, 0.234375,\n",
       "       0.0869140625, 0.228515625, 0.2509765625, 0.8408203125,\n",
       "       0.4560546875, 0.1533203125, 0.04296875, 0.66015625, 0.0654296875,\n",
       "       0.5390625, 0.8642578125, 0.99609375, 0.568359375, 0.6044921875],\n",
       "      dtype=object)"
      ]
     },
     "execution_count": 20,
     "metadata": {},
     "output_type": "execute_result"
    }
   ],
   "source": [
    "df['Size'] = df['Size'].apply(covert_k)\n",
    "df['Size'].unique()"
   ]
  },
  {
   "cell_type": "code",
   "execution_count": 21,
   "metadata": {},
   "outputs": [
    {
     "name": "stdout",
     "output_type": "stream",
     "text": [
      "<class 'pandas.core.frame.DataFrame'>\n",
      "RangeIndex: 10840 entries, 0 to 10839\n",
      "Data columns (total 13 columns):\n",
      " #   Column          Non-Null Count  Dtype  \n",
      "---  ------          --------------  -----  \n",
      " 0   App             10840 non-null  object \n",
      " 1   Category        10840 non-null  object \n",
      " 2   Rating          9366 non-null   float64\n",
      " 3   Reviews         10840 non-null  int64  \n",
      " 4   Size            9145 non-null   float64\n",
      " 5   Installs        10840 non-null  object \n",
      " 6   Type            10839 non-null  object \n",
      " 7   Price           10840 non-null  object \n",
      " 8   Content Rating  10840 non-null  object \n",
      " 9   Genres          10840 non-null  object \n",
      " 10  Last Updated    10840 non-null  object \n",
      " 11  Current Ver     10832 non-null  object \n",
      " 12  Android Ver     10838 non-null  object \n",
      "dtypes: float64(2), int64(1), object(10)\n",
      "memory usage: 1.1+ MB\n"
     ]
    }
   ],
   "source": [
    "df['Size'] = df['Size'].astype('float64')\n",
    "df.info()"
   ]
  },
  {
   "cell_type": "markdown",
   "metadata": {},
   "source": [
    "# 2. Installs"
   ]
  },
  {
   "cell_type": "code",
   "execution_count": 22,
   "metadata": {},
   "outputs": [
    {
     "data": {
      "text/plain": [
       "2323        500,000+\n",
       "6976      1,000,000+\n",
       "7679          1,000+\n",
       "1986    100,000,000+\n",
       "4090     10,000,000+\n",
       "Name: Installs, dtype: object"
      ]
     },
     "execution_count": 22,
     "metadata": {},
     "output_type": "execute_result"
    }
   ],
   "source": [
    "df['Installs'].sample(5)"
   ]
  },
  {
   "cell_type": "markdown",
   "metadata": {},
   "source": [
    "**Observations:**\n",
    "1. Remove `+`\n",
    "2. Remove `,`\n",
    "3. Convert astype to int64"
   ]
  },
  {
   "cell_type": "code",
   "execution_count": 23,
   "metadata": {},
   "outputs": [
    {
     "data": {
      "text/plain": [
       "10554           5\n",
       "9442         1000\n",
       "8553        10000\n",
       "6433          100\n",
       "5845           10\n",
       "9648           10\n",
       "6264       100000\n",
       "1323     10000000\n",
       "8885          100\n",
       "2165      5000000\n",
       "Name: Installs, dtype: int64"
      ]
     },
     "execution_count": 23,
     "metadata": {},
     "output_type": "execute_result"
    }
   ],
   "source": [
    "df['Installs'] = df['Installs'].str.replace('+','')\n",
    "df['Installs'] = df['Installs'].str.replace(',','')\n",
    "df['Installs'] = df['Installs'].astype('int64')\n",
    "df['Installs'].sample(10)"
   ]
  },
  {
   "cell_type": "markdown",
   "metadata": {},
   "source": [
    "# 3. Price"
   ]
  },
  {
   "cell_type": "code",
   "execution_count": 24,
   "metadata": {},
   "outputs": [
    {
     "data": {
      "text/plain": [
       "9696     0\n",
       "2852     0\n",
       "10503    0\n",
       "4683     0\n",
       "7814     0\n",
       "Name: Price, dtype: object"
      ]
     },
     "execution_count": 24,
     "metadata": {},
     "output_type": "execute_result"
    }
   ],
   "source": [
    "df['Price'].sample(5)"
   ]
  },
  {
   "cell_type": "markdown",
   "metadata": {},
   "source": [
    "## **Observations:**\n",
    "#### 1. `$` sign is what causing the issue, we need to remove it"
   ]
  },
  {
   "cell_type": "code",
   "execution_count": 25,
   "metadata": {},
   "outputs": [],
   "source": [
    "df['Price'] = df['Price'].str.replace('$','')\n",
    "df['Price'] = df['Price'].astype('float64')"
   ]
  },
  {
   "cell_type": "code",
   "execution_count": null,
   "metadata": {},
   "outputs": [],
   "source": []
  }
 ],
 "metadata": {
  "kernelspec": {
   "display_name": "ydata_profiling",
   "language": "python",
   "name": "python3"
  },
  "language_info": {
   "codemirror_mode": {
    "name": "ipython",
    "version": 3
   },
   "file_extension": ".py",
   "mimetype": "text/x-python",
   "name": "python",
   "nbconvert_exporter": "python",
   "pygments_lexer": "ipython3",
   "version": "3.11.5"
  }
 },
 "nbformat": 4,
 "nbformat_minor": 2
}
