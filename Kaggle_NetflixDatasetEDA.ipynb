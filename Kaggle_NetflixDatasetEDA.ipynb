{
 "cells": [
  {
   "cell_type": "markdown",
   "metadata": {},
   "source": [
    "# **EDA on NETFLIX 🍿🎥**"
   ]
  },
  {
   "cell_type": "markdown",
   "metadata": {},
   "source": [
    "<img src=\"./images/Netflix_Homepage.jpg\" alt=\"Image Description\">"
   ]
  },
  {
   "cell_type": "markdown",
   "metadata": {},
   "source": [
    "---\n",
    "**Author:** `Syed Ghazi Ali Zaidi`\n",
    "\n",
    "* Contact: _sghazializaidi@gmail.com_\n",
    "* Explore my code: _https://github.com/Ghazi-work_\n",
    "* Connect with me: _https://www.linkedin.com/in/syed-ghazi-ali-zaidi-405931217_\n",
    "\n",
    "\n",
    "---"
   ]
  },
  {
   "cell_type": "markdown",
   "metadata": {},
   "source": [
    " ## **Data Overview 📊**\n",
    "\n",
    "* **Attributes:** Explore key details such as show ID, type (movie or TV show), title, director, cast, country, date added, release year, rating, duration, and more.\n",
    "* **Record Structure:** Each row unfolds a unique show, providing a snapshot of its cinematic attributes.\n",
    "\n",
    "| Column        | Data Type | Description |\n",
    "|---------------|-----------|-------------|\n",
    "| show_id       | Object    | Identifier for the show/movie |\n",
    "| type          | Object    | Type of the content (Movie or TV Show) |\n",
    "| title         | Object    | Title of the show |\n",
    "| director      | Object    | Director of the show/movie (if available) |\n",
    "| cast          | Object    | Cast members of the show/movie |\n",
    "| country       | Object    | Country where the show/movie was produced |\n",
    "| date_added    | Object    | Date when the show/movie was added to Netflix |\n",
    "| release_year  | Numeric   | Year when the show/movie was released |\n",
    "| rating        | Object    | Content rating of the show/movie |\n",
    "| duration      | Object    | Duration of the show/movie |\n",
    "| listed_in     | Object    | Categories in which the show/movie is listed |\n",
    "| description   | Object    | Brief description of the show/movie |\n",
    "\n",
    "## **Motivation 🚀** \n",
    "\n",
    "While movie databases are aplenty, exploring the Netflix galaxy provides a unique perspective. This dataset opens doors to analyze content trends, viewer preferences, and the global impact of Netflix's vast library. Gathering this celestial data had its challenges, making it an even more intriguing resource.\n",
    "\n",
    "\n",
    "## **Credits and Acknowledgements 🌟**\n",
    "\n",
    "A heartfelt gratitude to the data curators at Netflix and the original contributors on [Kaggle](https://www.kaggle.com/shivamb/netflix-shows). Their dedication has bestowed upon us this remarkable dataset, opening doors to endless possibilities.\n",
    "\n",
    "Special thanks to [Dr. Aammar Tufail](https://github.com/AammarTufail), whose guidance has been a beacon in the sea of data exploration.\n",
    "\n",
    "Let the analysis begin! 🚀📊"
   ]
  },
  {
   "cell_type": "markdown",
   "metadata": {},
   "source": [
    "#### **Kernel Version**:\n",
    "* Python 3.11.5"
   ]
  },
  {
   "cell_type": "markdown",
   "metadata": {},
   "source": [
    "# **1. Importing Libraries**"
   ]
  },
  {
   "cell_type": "code",
   "execution_count": 42,
   "metadata": {},
   "outputs": [
    {
     "data": {
      "text/html": [
       "        <script type=\"text/javascript\">\n",
       "        window.PlotlyConfig = {MathJaxConfig: 'local'};\n",
       "        if (window.MathJax && window.MathJax.Hub && window.MathJax.Hub.Config) {window.MathJax.Hub.Config({SVG: {font: \"STIX-Web\"}});}\n",
       "        if (typeof require !== 'undefined') {\n",
       "        require.undef(\"plotly\");\n",
       "        requirejs.config({\n",
       "            paths: {\n",
       "                'plotly': ['https://cdn.plot.ly/plotly-2.27.0.min']\n",
       "            }\n",
       "        });\n",
       "        require(['plotly'], function(Plotly) {\n",
       "            window._Plotly = Plotly;\n",
       "        });\n",
       "        }\n",
       "        </script>\n",
       "        "
      ]
     },
     "metadata": {},
     "output_type": "display_data"
    },
    {
     "data": {
      "text/plain": [
       "<pandas._config.config.option_context at 0x237361fd090>"
      ]
     },
     "execution_count": 42,
     "metadata": {},
     "output_type": "execute_result"
    }
   ],
   "source": [
    "import pandas as pd\n",
    "import numpy as np\n",
    "import matplotlib.pyplot as plt\n",
    "import seaborn as sns\n",
    "from scipy import stats\n",
    "import plotly\n",
    "# connected=True means it will download the latest version of plotly javascript library.\n",
    "plotly.offline.init_notebook_mode(connected=True)\n",
    "import plotly.graph_objs as go\n",
    "import plotly.figure_factory as ff\n",
    "import plotly.express as px\n",
    "%matplotlib inline\n",
    "import warnings\n",
    "warnings.filterwarnings('ignore')\n",
    "pd.option_context('display.max_columns', None)"
   ]
  },
  {
   "cell_type": "markdown",
   "metadata": {},
   "source": [
    "# **2. Loading Dataset and Exploring**"
   ]
  },
  {
   "cell_type": "code",
   "execution_count": 2,
   "metadata": {},
   "outputs": [],
   "source": [
    "df = pd.read_csv('./Datasets/Netflix_data.csv')"
   ]
  },
  {
   "cell_type": "markdown",
   "metadata": {},
   "source": [
    "* Sneak peek at the dataset"
   ]
  },
  {
   "cell_type": "code",
   "execution_count": 3,
   "metadata": {},
   "outputs": [
    {
     "data": {
      "text/html": [
       "<div>\n",
       "<style scoped>\n",
       "    .dataframe tbody tr th:only-of-type {\n",
       "        vertical-align: middle;\n",
       "    }\n",
       "\n",
       "    .dataframe tbody tr th {\n",
       "        vertical-align: top;\n",
       "    }\n",
       "\n",
       "    .dataframe thead th {\n",
       "        text-align: right;\n",
       "    }\n",
       "</style>\n",
       "<table border=\"1\" class=\"dataframe\">\n",
       "  <thead>\n",
       "    <tr style=\"text-align: right;\">\n",
       "      <th></th>\n",
       "      <th>show_id</th>\n",
       "      <th>type</th>\n",
       "      <th>title</th>\n",
       "      <th>director</th>\n",
       "      <th>cast</th>\n",
       "      <th>country</th>\n",
       "      <th>date_added</th>\n",
       "      <th>release_year</th>\n",
       "      <th>rating</th>\n",
       "      <th>duration</th>\n",
       "      <th>listed_in</th>\n",
       "      <th>description</th>\n",
       "    </tr>\n",
       "  </thead>\n",
       "  <tbody>\n",
       "    <tr>\n",
       "      <th>0</th>\n",
       "      <td>s1</td>\n",
       "      <td>Movie</td>\n",
       "      <td>Dick Johnson Is Dead</td>\n",
       "      <td>Kirsten Johnson</td>\n",
       "      <td>NaN</td>\n",
       "      <td>United States</td>\n",
       "      <td>September 25, 2021</td>\n",
       "      <td>2020</td>\n",
       "      <td>PG-13</td>\n",
       "      <td>90 min</td>\n",
       "      <td>Documentaries</td>\n",
       "      <td>As her father nears the end of his life, filmm...</td>\n",
       "    </tr>\n",
       "    <tr>\n",
       "      <th>1</th>\n",
       "      <td>s2</td>\n",
       "      <td>TV Show</td>\n",
       "      <td>Blood &amp; Water</td>\n",
       "      <td>NaN</td>\n",
       "      <td>Ama Qamata, Khosi Ngema, Gail Mabalane, Thaban...</td>\n",
       "      <td>South Africa</td>\n",
       "      <td>September 24, 2021</td>\n",
       "      <td>2021</td>\n",
       "      <td>TV-MA</td>\n",
       "      <td>2 Seasons</td>\n",
       "      <td>International TV Shows, TV Dramas, TV Mysteries</td>\n",
       "      <td>After crossing paths at a party, a Cape Town t...</td>\n",
       "    </tr>\n",
       "    <tr>\n",
       "      <th>2</th>\n",
       "      <td>s3</td>\n",
       "      <td>TV Show</td>\n",
       "      <td>Ganglands</td>\n",
       "      <td>Julien Leclercq</td>\n",
       "      <td>Sami Bouajila, Tracy Gotoas, Samuel Jouy, Nabi...</td>\n",
       "      <td>NaN</td>\n",
       "      <td>September 24, 2021</td>\n",
       "      <td>2021</td>\n",
       "      <td>TV-MA</td>\n",
       "      <td>1 Season</td>\n",
       "      <td>Crime TV Shows, International TV Shows, TV Act...</td>\n",
       "      <td>To protect his family from a powerful drug lor...</td>\n",
       "    </tr>\n",
       "    <tr>\n",
       "      <th>3</th>\n",
       "      <td>s4</td>\n",
       "      <td>TV Show</td>\n",
       "      <td>Jailbirds New Orleans</td>\n",
       "      <td>NaN</td>\n",
       "      <td>NaN</td>\n",
       "      <td>NaN</td>\n",
       "      <td>September 24, 2021</td>\n",
       "      <td>2021</td>\n",
       "      <td>TV-MA</td>\n",
       "      <td>1 Season</td>\n",
       "      <td>Docuseries, Reality TV</td>\n",
       "      <td>Feuds, flirtations and toilet talk go down amo...</td>\n",
       "    </tr>\n",
       "    <tr>\n",
       "      <th>4</th>\n",
       "      <td>s5</td>\n",
       "      <td>TV Show</td>\n",
       "      <td>Kota Factory</td>\n",
       "      <td>NaN</td>\n",
       "      <td>Mayur More, Jitendra Kumar, Ranjan Raj, Alam K...</td>\n",
       "      <td>India</td>\n",
       "      <td>September 24, 2021</td>\n",
       "      <td>2021</td>\n",
       "      <td>TV-MA</td>\n",
       "      <td>2 Seasons</td>\n",
       "      <td>International TV Shows, Romantic TV Shows, TV ...</td>\n",
       "      <td>In a city of coaching centers known to train I...</td>\n",
       "    </tr>\n",
       "  </tbody>\n",
       "</table>\n",
       "</div>"
      ],
      "text/plain": [
       "  show_id     type                  title         director  \\\n",
       "0      s1    Movie   Dick Johnson Is Dead  Kirsten Johnson   \n",
       "1      s2  TV Show          Blood & Water              NaN   \n",
       "2      s3  TV Show              Ganglands  Julien Leclercq   \n",
       "3      s4  TV Show  Jailbirds New Orleans              NaN   \n",
       "4      s5  TV Show           Kota Factory              NaN   \n",
       "\n",
       "                                                cast        country  \\\n",
       "0                                                NaN  United States   \n",
       "1  Ama Qamata, Khosi Ngema, Gail Mabalane, Thaban...   South Africa   \n",
       "2  Sami Bouajila, Tracy Gotoas, Samuel Jouy, Nabi...            NaN   \n",
       "3                                                NaN            NaN   \n",
       "4  Mayur More, Jitendra Kumar, Ranjan Raj, Alam K...          India   \n",
       "\n",
       "           date_added  release_year rating   duration  \\\n",
       "0  September 25, 2021          2020  PG-13     90 min   \n",
       "1  September 24, 2021          2021  TV-MA  2 Seasons   \n",
       "2  September 24, 2021          2021  TV-MA   1 Season   \n",
       "3  September 24, 2021          2021  TV-MA   1 Season   \n",
       "4  September 24, 2021          2021  TV-MA  2 Seasons   \n",
       "\n",
       "                                           listed_in  \\\n",
       "0                                      Documentaries   \n",
       "1    International TV Shows, TV Dramas, TV Mysteries   \n",
       "2  Crime TV Shows, International TV Shows, TV Act...   \n",
       "3                             Docuseries, Reality TV   \n",
       "4  International TV Shows, Romantic TV Shows, TV ...   \n",
       "\n",
       "                                         description  \n",
       "0  As her father nears the end of his life, filmm...  \n",
       "1  After crossing paths at a party, a Cape Town t...  \n",
       "2  To protect his family from a powerful drug lor...  \n",
       "3  Feuds, flirtations and toilet talk go down amo...  \n",
       "4  In a city of coaching centers known to train I...  "
      ]
     },
     "execution_count": 3,
     "metadata": {},
     "output_type": "execute_result"
    }
   ],
   "source": [
    "df.head()"
   ]
  },
  {
   "cell_type": "code",
   "execution_count": 4,
   "metadata": {},
   "outputs": [
    {
     "name": "stdout",
     "output_type": "stream",
     "text": [
      "There are 8807 rows and 12 columns in the dataset.\n"
     ]
    }
   ],
   "source": [
    "print(f'There are {df.shape[0]} rows and {df.shape[1]} columns in the dataset.')"
   ]
  },
  {
   "cell_type": "code",
   "execution_count": 5,
   "metadata": {},
   "outputs": [
    {
     "name": "stdout",
     "output_type": "stream",
     "text": [
      "<class 'pandas.core.frame.DataFrame'>\n",
      "RangeIndex: 8807 entries, 0 to 8806\n",
      "Data columns (total 12 columns):\n",
      " #   Column        Non-Null Count  Dtype \n",
      "---  ------        --------------  ----- \n",
      " 0   show_id       8807 non-null   object\n",
      " 1   type          8807 non-null   object\n",
      " 2   title         8807 non-null   object\n",
      " 3   director      6173 non-null   object\n",
      " 4   cast          7982 non-null   object\n",
      " 5   country       7976 non-null   object\n",
      " 6   date_added    8797 non-null   object\n",
      " 7   release_year  8807 non-null   int64 \n",
      " 8   rating        8803 non-null   object\n",
      " 9   duration      8804 non-null   object\n",
      " 10  listed_in     8807 non-null   object\n",
      " 11  description   8807 non-null   object\n",
      "dtypes: int64(1), object(11)\n",
      "memory usage: 825.8+ KB\n"
     ]
    }
   ],
   "source": [
    "df.info()"
   ]
  },
  {
   "cell_type": "markdown",
   "metadata": {},
   "source": [
    "> ##### 1. The column `show_id` can be numeric after removing the character `s`.\n",
    "> ##### 2. The column `date_added` can be divided in to different column like `day`,`month`, and `year` for better analysis.\n",
    "\n"
   ]
  },
  {
   "cell_type": "markdown",
   "metadata": {},
   "source": [
    "#### Looking at selected columns to find something intresting 🔎"
   ]
  },
  {
   "cell_type": "code",
   "execution_count": 6,
   "metadata": {},
   "outputs": [
    {
     "data": {
      "text/plain": [
       "duration\n",
       "1 Season     1793\n",
       "2 Seasons     425\n",
       "3 Seasons     199\n",
       "90 min        152\n",
       "94 min        146\n",
       "             ... \n",
       "16 min          1\n",
       "186 min         1\n",
       "193 min         1\n",
       "189 min         1\n",
       "191 min         1\n",
       "Name: count, Length: 220, dtype: int64"
      ]
     },
     "execution_count": 6,
     "metadata": {},
     "output_type": "execute_result"
    }
   ],
   "source": [
    "df['duration'].value_counts()"
   ]
  },
  {
   "cell_type": "markdown",
   "metadata": {},
   "source": [
    "* **Intresting** the `duration` column can be used to make **2** different dataframes one for only **movies** that holds time and seperate for **Seasons** that holds season count. Help us get good insights 🤩"
   ]
  },
  {
   "cell_type": "code",
   "execution_count": 7,
   "metadata": {},
   "outputs": [
    {
     "data": {
      "text/plain": [
       "rating\n",
       "TV-MA       3207\n",
       "TV-14       2160\n",
       "TV-PG        863\n",
       "R            799\n",
       "PG-13        490\n",
       "TV-Y7        334\n",
       "TV-Y         307\n",
       "PG           287\n",
       "TV-G         220\n",
       "NR            80\n",
       "G             41\n",
       "TV-Y7-FV       6\n",
       "NC-17          3\n",
       "UR             3\n",
       "74 min         1\n",
       "84 min         1\n",
       "66 min         1\n",
       "Name: count, dtype: int64"
      ]
     },
     "execution_count": 7,
     "metadata": {},
     "output_type": "execute_result"
    }
   ],
   "source": [
    "df['rating'].value_counts()"
   ]
  },
  {
   "cell_type": "markdown",
   "metadata": {},
   "source": [
    "* **Hmmmm 🤔** looks like some other column data has replaced the `rating` data which needs to be handled in the next phase.\n",
    "\n",
    "* Also the `rating` column data doesn't communicate much.. I'll try to give meaningful names to each.\\\n",
    "like: PG as *Parents Guidance*"
   ]
  },
  {
   "cell_type": "code",
   "execution_count": 8,
   "metadata": {},
   "outputs": [
    {
     "data": {
      "text/plain": [
       "country\n",
       "United States                             2818\n",
       "India                                      972\n",
       "United Kingdom                             419\n",
       "Japan                                      245\n",
       "South Korea                                199\n",
       "                                          ... \n",
       "Romania, Bulgaria, Hungary                   1\n",
       "Uruguay, Guatemala                           1\n",
       "France, Senegal, Belgium                     1\n",
       "Mexico, United States, Spain, Colombia       1\n",
       "United Arab Emirates, Jordan                 1\n",
       "Name: count, Length: 748, dtype: int64"
      ]
     },
     "execution_count": 8,
     "metadata": {},
     "output_type": "execute_result"
    }
   ],
   "source": [
    "df['country'].value_counts()"
   ]
  },
  {
   "cell_type": "markdown",
   "metadata": {},
   "source": [
    "* Looks like some movie/shows have **more than 1** country listed, it can be due to collaborative work between two or more countries"
   ]
  },
  {
   "cell_type": "code",
   "execution_count": 9,
   "metadata": {},
   "outputs": [
    {
     "data": {
      "text/plain": [
       "listed_in\n",
       "Dramas, International Movies                          362\n",
       "Documentaries                                         359\n",
       "Stand-Up Comedy                                       334\n",
       "Comedies, Dramas, International Movies                274\n",
       "Dramas, Independent Movies, International Movies      252\n",
       "                                                     ... \n",
       "Kids' TV, TV Action & Adventure, TV Dramas              1\n",
       "TV Comedies, TV Dramas, TV Horror                       1\n",
       "Children & Family Movies, Comedies, LGBTQ Movies        1\n",
       "Kids' TV, Spanish-Language TV Shows, Teen TV Shows      1\n",
       "Cult Movies, Dramas, Thrillers                          1\n",
       "Name: count, Length: 514, dtype: int64"
      ]
     },
     "execution_count": 9,
     "metadata": {},
     "output_type": "execute_result"
    }
   ],
   "source": [
    "df['listed_in'].value_counts()"
   ]
  },
  {
   "cell_type": "markdown",
   "metadata": {},
   "source": [
    "### **Observations:** \n",
    "----\n",
    "1. There are 8807 rows and 12 columns.\n",
    "\n",
    "2. The columns in the dataset are:\n",
    "    - **`'show_id', 'type', 'title', 'director', 'cast', 'country', 'date_added',\n",
    "       'release_year', 'rating', 'duration', 'listed_in', 'description'`**\n",
    "\n",
    "#### **Operations to be Performed ⚒️**\n",
    " 1. `show_id` which can be numeric if we remove `s` \n",
    " \n",
    " 2. `date_added` can be divided into 3 columns. `Year`,`month`, and `Day`\n",
    " 3. `rating` data has to be labeled into more meaningful way, also handle the replaced values by duration.\n",
    " 4.  `duration` **2** dataframes will be made for each:\n",
    "        - Movie: This dataframe will hold `duration` in *Hours*\n",
    "        - Show: This dataframe will hold `duration` as *Season count*\n",
    "----"
   ]
  },
  {
   "cell_type": "markdown",
   "metadata": {},
   "source": [
    "# **3. Data Pre-processing**"
   ]
  },
  {
   "cell_type": "markdown",
   "metadata": {},
   "source": [
    "* In this section we'll do cleaning, transforming, and integrating of the Netflix dataframe, the above mention operations will be performed step by step. So sit back and watch... 😃"
   ]
  },
  {
   "cell_type": "markdown",
   "metadata": {},
   "source": [
    "#### **1. Show_id**\n",
    "\n",
    "* **Recap:** character `s` has to be removed later convert it into int64.\n",
    "\n",
    "* **Reason:** After converting to *Numeric* aggeragate functions can be applied on this column."
   ]
  },
  {
   "cell_type": "markdown",
   "metadata": {},
   "source": [
    "* checking null values"
   ]
  },
  {
   "cell_type": "code",
   "execution_count": 10,
   "metadata": {},
   "outputs": [
    {
     "data": {
      "text/plain": [
       "0"
      ]
     },
     "execution_count": 10,
     "metadata": {},
     "output_type": "execute_result"
    }
   ],
   "source": [
    "df['show_id'].isnull().sum()"
   ]
  },
  {
   "cell_type": "code",
   "execution_count": 11,
   "metadata": {},
   "outputs": [
    {
     "name": "stdout",
     "output_type": "stream",
     "text": [
      "['s1' 's2' 's3' ... 's8805' 's8806' 's8807']\n",
      "---------------------\n"
     ]
    },
    {
     "data": {
      "text/plain": [
       "show_id\n",
       "s1       1\n",
       "s5875    1\n",
       "s5869    1\n",
       "s5870    1\n",
       "s5871    1\n",
       "        ..\n",
       "s2931    1\n",
       "s2930    1\n",
       "s2929    1\n",
       "s2928    1\n",
       "s8807    1\n",
       "Name: count, Length: 8807, dtype: int64"
      ]
     },
     "execution_count": 11,
     "metadata": {},
     "output_type": "execute_result"
    }
   ],
   "source": [
    "print(df['show_id'].unique())\n",
    "\n",
    "print('---------------------') # seperator\n",
    "\n",
    "df['show_id'].value_counts()"
   ]
  },
  {
   "cell_type": "markdown",
   "metadata": {},
   "source": [
    "> ##### * It shows that the values are indeed `unique id` of the show/movie."
   ]
  },
  {
   "cell_type": "markdown",
   "metadata": {},
   "source": [
    "* Replacing `s` with empty space"
   ]
  },
  {
   "cell_type": "code",
   "execution_count": 12,
   "metadata": {},
   "outputs": [
    {
     "name": "stdout",
     "output_type": "stream",
     "text": [
      "<class 'pandas.core.series.Series'>\n",
      "RangeIndex: 8807 entries, 0 to 8806\n",
      "Series name: show_id\n",
      "Non-Null Count  Dtype\n",
      "--------------  -----\n",
      "8807 non-null   int64\n",
      "dtypes: int64(1)\n",
      "memory usage: 68.9 KB\n"
     ]
    }
   ],
   "source": [
    "df['show_id'] = df['show_id'].str.replace('s','') # replacing 's'\n",
    "\n",
    "df['show_id'] = df['show_id'].astype('int64') # Converting it to int64 \n",
    "\n",
    "df['show_id'].info() # checking the data type after converting"
   ]
  },
  {
   "cell_type": "markdown",
   "metadata": {},
   "source": [
    "#### **2. Date_added**"
   ]
  },
  {
   "cell_type": "markdown",
   "metadata": {},
   "source": [
    "* **Recap:** The date will divided into 3 columns `Year`, `Month`, and `Day`\n",
    "\n",
    "* **Reason:** Would be helpful in generating insights even on `Day` and `Month` level"
   ]
  },
  {
   "cell_type": "markdown",
   "metadata": {},
   "source": [
    "- Viewing to understanding the pattern"
   ]
  },
  {
   "cell_type": "code",
   "execution_count": 13,
   "metadata": {},
   "outputs": [
    {
     "data": {
      "text/plain": [
       "5884    November 13, 2015\n",
       "7826        June 11, 2019\n",
       "8395     November 6, 2020\n",
       "535          July 6, 2021\n",
       "2710        April 3, 2020\n",
       "Name: date_added, dtype: object"
      ]
     },
     "execution_count": 13,
     "metadata": {},
     "output_type": "execute_result"
    }
   ],
   "source": [
    "df['date_added'].sample(5)"
   ]
  },
  {
   "cell_type": "markdown",
   "metadata": {},
   "source": [
    "> * Month first, then the day in last we get the year"
   ]
  },
  {
   "cell_type": "code",
   "execution_count": 14,
   "metadata": {},
   "outputs": [],
   "source": [
    "# Converting the datatype of 'date_added' to date time\n",
    "df['date_added'] = pd.to_datetime(df['date_added'], errors='coerce')\n",
    "\n",
    "# Extracting year, month, and day into separate columns\n",
    "df['year_added'] = df['date_added'].dt.year\n",
    "df['month_added'] = df['date_added'].dt.month\n",
    "df['day_added'] = df['date_added'].dt.day"
   ]
  },
  {
   "cell_type": "markdown",
   "metadata": {},
   "source": [
    "* Viewing the first 5 rows after operation"
   ]
  },
  {
   "cell_type": "code",
   "execution_count": 15,
   "metadata": {},
   "outputs": [
    {
     "data": {
      "text/html": [
       "<div>\n",
       "<style scoped>\n",
       "    .dataframe tbody tr th:only-of-type {\n",
       "        vertical-align: middle;\n",
       "    }\n",
       "\n",
       "    .dataframe tbody tr th {\n",
       "        vertical-align: top;\n",
       "    }\n",
       "\n",
       "    .dataframe thead th {\n",
       "        text-align: right;\n",
       "    }\n",
       "</style>\n",
       "<table border=\"1\" class=\"dataframe\">\n",
       "  <thead>\n",
       "    <tr style=\"text-align: right;\">\n",
       "      <th></th>\n",
       "      <th>date_added</th>\n",
       "      <th>year_added</th>\n",
       "      <th>month_added</th>\n",
       "      <th>day_added</th>\n",
       "    </tr>\n",
       "  </thead>\n",
       "  <tbody>\n",
       "    <tr>\n",
       "      <th>0</th>\n",
       "      <td>2021-09-25</td>\n",
       "      <td>2021.0</td>\n",
       "      <td>9.0</td>\n",
       "      <td>25.0</td>\n",
       "    </tr>\n",
       "    <tr>\n",
       "      <th>1</th>\n",
       "      <td>2021-09-24</td>\n",
       "      <td>2021.0</td>\n",
       "      <td>9.0</td>\n",
       "      <td>24.0</td>\n",
       "    </tr>\n",
       "    <tr>\n",
       "      <th>2</th>\n",
       "      <td>2021-09-24</td>\n",
       "      <td>2021.0</td>\n",
       "      <td>9.0</td>\n",
       "      <td>24.0</td>\n",
       "    </tr>\n",
       "    <tr>\n",
       "      <th>3</th>\n",
       "      <td>2021-09-24</td>\n",
       "      <td>2021.0</td>\n",
       "      <td>9.0</td>\n",
       "      <td>24.0</td>\n",
       "    </tr>\n",
       "    <tr>\n",
       "      <th>4</th>\n",
       "      <td>2021-09-24</td>\n",
       "      <td>2021.0</td>\n",
       "      <td>9.0</td>\n",
       "      <td>24.0</td>\n",
       "    </tr>\n",
       "  </tbody>\n",
       "</table>\n",
       "</div>"
      ],
      "text/plain": [
       "  date_added  year_added  month_added  day_added\n",
       "0 2021-09-25      2021.0          9.0       25.0\n",
       "1 2021-09-24      2021.0          9.0       24.0\n",
       "2 2021-09-24      2021.0          9.0       24.0\n",
       "3 2021-09-24      2021.0          9.0       24.0\n",
       "4 2021-09-24      2021.0          9.0       24.0"
      ]
     },
     "execution_count": 15,
     "metadata": {},
     "output_type": "execute_result"
    }
   ],
   "source": [
    "df[['date_added','year_added','month_added','day_added']].head()"
   ]
  },
  {
   "cell_type": "markdown",
   "metadata": {},
   "source": [
    "#### **3. Rating**"
   ]
  },
  {
   "cell_type": "markdown",
   "metadata": {},
   "source": [
    "* **Recap:** This column data has to be converted into more meaningful way, secondly there were issues with 3 rows.\n",
    "\n",
    "* **Reason:** Would be helpful in understanding when presenting the data"
   ]
  },
  {
   "cell_type": "code",
   "execution_count": 16,
   "metadata": {},
   "outputs": [
    {
     "data": {
      "text/plain": [
       "4"
      ]
     },
     "execution_count": 16,
     "metadata": {},
     "output_type": "execute_result"
    }
   ],
   "source": [
    "df['rating'].isnull().sum()"
   ]
  },
  {
   "cell_type": "markdown",
   "metadata": {},
   "source": [
    "> * We will be dropping the nulls as they are few in numbers and cannot be imputed"
   ]
  },
  {
   "cell_type": "code",
   "execution_count": 17,
   "metadata": {},
   "outputs": [
    {
     "data": {
      "text/plain": [
       "rating\n",
       "TV-MA       3207\n",
       "TV-14       2160\n",
       "TV-PG        863\n",
       "R            799\n",
       "PG-13        490\n",
       "TV-Y7        334\n",
       "TV-Y         307\n",
       "PG           287\n",
       "TV-G         220\n",
       "NR            80\n",
       "G             41\n",
       "TV-Y7-FV       6\n",
       "NC-17          3\n",
       "UR             3\n",
       "74 min         1\n",
       "84 min         1\n",
       "66 min         1\n",
       "Name: count, dtype: int64"
      ]
     },
     "execution_count": 17,
     "metadata": {},
     "output_type": "execute_result"
    }
   ],
   "source": [
    "df['rating'].value_counts()"
   ]
  },
  {
   "cell_type": "markdown",
   "metadata": {},
   "source": [
    "#### We'll Print those rows having `74 min`, `84 min` and `66 min` in `rating` column"
   ]
  },
  {
   "cell_type": "code",
   "execution_count": 18,
   "metadata": {},
   "outputs": [
    {
     "data": {
      "text/html": [
       "<div>\n",
       "<style scoped>\n",
       "    .dataframe tbody tr th:only-of-type {\n",
       "        vertical-align: middle;\n",
       "    }\n",
       "\n",
       "    .dataframe tbody tr th {\n",
       "        vertical-align: top;\n",
       "    }\n",
       "\n",
       "    .dataframe thead th {\n",
       "        text-align: right;\n",
       "    }\n",
       "</style>\n",
       "<table border=\"1\" class=\"dataframe\">\n",
       "  <thead>\n",
       "    <tr style=\"text-align: right;\">\n",
       "      <th></th>\n",
       "      <th>show_id</th>\n",
       "      <th>rating</th>\n",
       "      <th>duration</th>\n",
       "    </tr>\n",
       "  </thead>\n",
       "  <tbody>\n",
       "    <tr>\n",
       "      <th>5541</th>\n",
       "      <td>5542</td>\n",
       "      <td>74 min</td>\n",
       "      <td>NaN</td>\n",
       "    </tr>\n",
       "    <tr>\n",
       "      <th>5794</th>\n",
       "      <td>5795</td>\n",
       "      <td>84 min</td>\n",
       "      <td>NaN</td>\n",
       "    </tr>\n",
       "    <tr>\n",
       "      <th>5813</th>\n",
       "      <td>5814</td>\n",
       "      <td>66 min</td>\n",
       "      <td>NaN</td>\n",
       "    </tr>\n",
       "  </tbody>\n",
       "</table>\n",
       "</div>"
      ],
      "text/plain": [
       "      show_id  rating duration\n",
       "5541     5542  74 min      NaN\n",
       "5794     5795  84 min      NaN\n",
       "5813     5814  66 min      NaN"
      ]
     },
     "execution_count": 18,
     "metadata": {},
     "output_type": "execute_result"
    }
   ],
   "source": [
    "# Identify rows with the specified previous 'rating' values\n",
    "wrong_ratings = ['74 min', '84 min', '66 min']\n",
    "modified = df[df['rating'].isin(wrong_ratings)]\n",
    "\n",
    "# Print the relevant columns for these rows\n",
    "modified[['show_id', 'rating', 'duration']].head()\n"
   ]
  },
  {
   "cell_type": "markdown",
   "metadata": {},
   "source": [
    "> * As can be seen that duration values have come in place of rating values, even if we swap the values we still won't be able to judge the `rating` so the best way is to remove these rows"
   ]
  },
  {
   "cell_type": "code",
   "execution_count": 19,
   "metadata": {},
   "outputs": [],
   "source": [
    "show_ids_to_remove = [5542, 5795, 5814]\n",
    "df = df.dropna(subset=['rating']) # dropping nan from rating\n",
    "df = df[~df['show_id'].isin(show_ids_to_remove)] # removing rows with specified ids"
   ]
  },
  {
   "cell_type": "markdown",
   "metadata": {},
   "source": [
    "* Now giving meaningful name to rating values. 🙂"
   ]
  },
  {
   "cell_type": "code",
   "execution_count": 20,
   "metadata": {},
   "outputs": [
    {
     "data": {
      "text/plain": [
       "array(['PG-13', 'TV-MA', 'PG', 'TV-14', 'TV-PG', 'TV-Y', 'TV-Y7', 'R',\n",
       "       'TV-G', 'G', 'NC-17', 'NR', 'TV-Y7-FV', 'UR'], dtype=object)"
      ]
     },
     "execution_count": 20,
     "metadata": {},
     "output_type": "execute_result"
    }
   ],
   "source": [
    "df['rating'].unique() # Viewing unique values in the rating"
   ]
  },
  {
   "cell_type": "markdown",
   "metadata": {},
   "source": [
    "* Mapping each column with meaningful names"
   ]
  },
  {
   "cell_type": "code",
   "execution_count": 21,
   "metadata": {},
   "outputs": [
    {
     "data": {
      "text/html": [
       "<div>\n",
       "<style scoped>\n",
       "    .dataframe tbody tr th:only-of-type {\n",
       "        vertical-align: middle;\n",
       "    }\n",
       "\n",
       "    .dataframe tbody tr th {\n",
       "        vertical-align: top;\n",
       "    }\n",
       "\n",
       "    .dataframe thead th {\n",
       "        text-align: right;\n",
       "    }\n",
       "</style>\n",
       "<table border=\"1\" class=\"dataframe\">\n",
       "  <thead>\n",
       "    <tr style=\"text-align: right;\">\n",
       "      <th></th>\n",
       "      <th>rating</th>\n",
       "      <th>rating_meaningful</th>\n",
       "    </tr>\n",
       "  </thead>\n",
       "  <tbody>\n",
       "    <tr>\n",
       "      <th>8395</th>\n",
       "      <td>PG</td>\n",
       "      <td>Parental Guidance</td>\n",
       "    </tr>\n",
       "    <tr>\n",
       "      <th>1647</th>\n",
       "      <td>TV-14</td>\n",
       "      <td>Parents Cautioned 14+</td>\n",
       "    </tr>\n",
       "    <tr>\n",
       "      <th>3963</th>\n",
       "      <td>TV-MA</td>\n",
       "      <td>Mature Audiences</td>\n",
       "    </tr>\n",
       "    <tr>\n",
       "      <th>2963</th>\n",
       "      <td>TV-G</td>\n",
       "      <td>General Audiences</td>\n",
       "    </tr>\n",
       "    <tr>\n",
       "      <th>313</th>\n",
       "      <td>TV-14</td>\n",
       "      <td>Parents Cautioned 14+</td>\n",
       "    </tr>\n",
       "  </tbody>\n",
       "</table>\n",
       "</div>"
      ],
      "text/plain": [
       "     rating      rating_meaningful\n",
       "8395     PG      Parental Guidance\n",
       "1647  TV-14  Parents Cautioned 14+\n",
       "3963  TV-MA       Mature Audiences\n",
       "2963   TV-G      General Audiences\n",
       "313   TV-14  Parents Cautioned 14+"
      ]
     },
     "execution_count": 21,
     "metadata": {},
     "output_type": "execute_result"
    }
   ],
   "source": [
    "# Mapping of original ratings to meaningful names\n",
    "rating_mapping = {\n",
    "    'PG-13': 'Parental Guidance 13+',\n",
    "    'TV-MA': 'Mature Audiences',\n",
    "    'PG': 'Parental Guidance',\n",
    "    'TV-14': 'Parents Cautioned 14+',\n",
    "    'TV-PG': 'Parental Guidance',\n",
    "    'TV-Y': 'All Children',\n",
    "    'TV-Y7': 'Directed to Older Children',\n",
    "    'R': 'Restricted',\n",
    "    'TV-G': 'General Audiences',\n",
    "    'G': 'General Audiences',\n",
    "    'NC-17': 'No one 17 and under admitted',\n",
    "    'NR': 'Not Rated',\n",
    "    'TV-Y7-FV': 'Fantasy Violence',\n",
    "    'UR': 'Unrated'\n",
    "}\n",
    "\n",
    "# Create a new column 'rating_meaningful' based on the mapping\n",
    "df['rating_meaningful'] = df['rating'].map(rating_mapping)\n",
    "\n",
    "# Print the DataFrame\n",
    "df[['rating', 'rating_meaningful']].sample(6).head()"
   ]
  },
  {
   "cell_type": "markdown",
   "metadata": {},
   "source": [
    "### **Handling Duplicates**"
   ]
  },
  {
   "cell_type": "code",
   "execution_count": 22,
   "metadata": {},
   "outputs": [
    {
     "data": {
      "text/plain": [
       "0"
      ]
     },
     "execution_count": 22,
     "metadata": {},
     "output_type": "execute_result"
    }
   ],
   "source": [
    "df.duplicated().sum()"
   ]
  },
  {
   "cell_type": "markdown",
   "metadata": {},
   "source": [
    "> * There seems no duplicated values but let me check `description` column"
   ]
  },
  {
   "cell_type": "code",
   "execution_count": 23,
   "metadata": {},
   "outputs": [
    {
     "data": {
      "text/plain": [
       "32"
      ]
     },
     "execution_count": 23,
     "metadata": {},
     "output_type": "execute_result"
    }
   ],
   "source": [
    "df['description'].duplicated().sum()"
   ]
  },
  {
   "cell_type": "markdown",
   "metadata": {},
   "source": [
    "> * 🫣 32 duplicates.. There seems to have dublicated values in the dataset, let's check which rows are they.."
   ]
  },
  {
   "cell_type": "code",
   "execution_count": 24,
   "metadata": {},
   "outputs": [
    {
     "data": {
      "text/html": [
       "<div>\n",
       "<style scoped>\n",
       "    .dataframe tbody tr th:only-of-type {\n",
       "        vertical-align: middle;\n",
       "    }\n",
       "\n",
       "    .dataframe tbody tr th {\n",
       "        vertical-align: top;\n",
       "    }\n",
       "\n",
       "    .dataframe thead th {\n",
       "        text-align: right;\n",
       "    }\n",
       "</style>\n",
       "<table border=\"1\" class=\"dataframe\">\n",
       "  <thead>\n",
       "    <tr style=\"text-align: right;\">\n",
       "      <th></th>\n",
       "      <th>show_id</th>\n",
       "      <th>title</th>\n",
       "      <th>description</th>\n",
       "      <th>date_added</th>\n",
       "      <th>release_year</th>\n",
       "    </tr>\n",
       "  </thead>\n",
       "  <tbody>\n",
       "    <tr>\n",
       "      <th>79</th>\n",
       "      <td>80</td>\n",
       "      <td>Tughlaq Durbar (Telugu)</td>\n",
       "      <td>A budding politician has devious plans to rise...</td>\n",
       "      <td>2021-09-11</td>\n",
       "      <td>2021</td>\n",
       "    </tr>\n",
       "    <tr>\n",
       "      <th>237</th>\n",
       "      <td>238</td>\n",
       "      <td>Boomika (Hindi)</td>\n",
       "      <td>Paranormal activity at a lush, abandoned prope...</td>\n",
       "      <td>2021-08-23</td>\n",
       "      <td>2021</td>\n",
       "    </tr>\n",
       "    <tr>\n",
       "      <th>238</th>\n",
       "      <td>239</td>\n",
       "      <td>Boomika (Malayalam)</td>\n",
       "      <td>Paranormal activity at a lush, abandoned prope...</td>\n",
       "      <td>2021-08-23</td>\n",
       "      <td>2021</td>\n",
       "    </tr>\n",
       "    <tr>\n",
       "      <th>239</th>\n",
       "      <td>240</td>\n",
       "      <td>Boomika (Telugu)</td>\n",
       "      <td>Paranormal activity at a lush, abandoned prope...</td>\n",
       "      <td>2021-08-23</td>\n",
       "      <td>2021</td>\n",
       "    </tr>\n",
       "    <tr>\n",
       "      <th>851</th>\n",
       "      <td>852</td>\n",
       "      <td>99 Songs (Tamil)</td>\n",
       "      <td>Challenged to compose 100 songs before he can ...</td>\n",
       "      <td>2021-05-21</td>\n",
       "      <td>2021</td>\n",
       "    </tr>\n",
       "  </tbody>\n",
       "</table>\n",
       "</div>"
      ],
      "text/plain": [
       "     show_id                    title  \\\n",
       "79        80  Tughlaq Durbar (Telugu)   \n",
       "237      238          Boomika (Hindi)   \n",
       "238      239      Boomika (Malayalam)   \n",
       "239      240         Boomika (Telugu)   \n",
       "851      852         99 Songs (Tamil)   \n",
       "\n",
       "                                           description date_added  \\\n",
       "79   A budding politician has devious plans to rise... 2021-09-11   \n",
       "237  Paranormal activity at a lush, abandoned prope... 2021-08-23   \n",
       "238  Paranormal activity at a lush, abandoned prope... 2021-08-23   \n",
       "239  Paranormal activity at a lush, abandoned prope... 2021-08-23   \n",
       "851  Challenged to compose 100 songs before he can ... 2021-05-21   \n",
       "\n",
       "     release_year  \n",
       "79           2021  \n",
       "237          2021  \n",
       "238          2021  \n",
       "239          2021  \n",
       "851          2021  "
      ]
     },
     "execution_count": 24,
     "metadata": {},
     "output_type": "execute_result"
    }
   ],
   "source": [
    "df[['show_id','title','description','date_added','release_year']].loc[df['description'].duplicated()].head().sort_index()"
   ]
  },
  {
   "cell_type": "markdown",
   "metadata": {},
   "source": [
    "> * As can be seen that there are movies that are same but in different languge, we'll be taking one of their instances."
   ]
  },
  {
   "cell_type": "markdown",
   "metadata": {},
   "source": [
    "##### Droping duplicated rows through `description` column 😀"
   ]
  },
  {
   "cell_type": "code",
   "execution_count": 25,
   "metadata": {},
   "outputs": [
    {
     "data": {
      "text/plain": [
       "0"
      ]
     },
     "execution_count": 25,
     "metadata": {},
     "output_type": "execute_result"
    }
   ],
   "source": [
    "df = df.drop_duplicates(subset='description') \n",
    "df['description'].duplicated().sum() # checking if duplicates were removed"
   ]
  },
  {
   "cell_type": "markdown",
   "metadata": {},
   "source": [
    "### **Handling Nulls**"
   ]
  },
  {
   "cell_type": "code",
   "execution_count": 26,
   "metadata": {},
   "outputs": [
    {
     "data": {
      "text/plain": [
       "director             2623\n",
       "cast                  820\n",
       "country               818\n",
       "date_added             97\n",
       "year_added             97\n",
       "month_added            97\n",
       "day_added              97\n",
       "show_id                 0\n",
       "type                    0\n",
       "title                   0\n",
       "release_year            0\n",
       "rating                  0\n",
       "duration                0\n",
       "listed_in               0\n",
       "description             0\n",
       "rating_meaningful       0\n",
       "dtype: int64"
      ]
     },
     "execution_count": 26,
     "metadata": {},
     "output_type": "execute_result"
    }
   ],
   "source": [
    "df.isnull().sum().sort_values(ascending=False)   "
   ]
  },
  {
   "cell_type": "code",
   "execution_count": 27,
   "metadata": {},
   "outputs": [],
   "source": [
    "df = df.dropna(subset=['date_added','year_added','month_added','day_added','director','cast','country'])"
   ]
  },
  {
   "cell_type": "markdown",
   "metadata": {},
   "source": [
    "### **Visualization of the data📊**"
   ]
  },
  {
   "cell_type": "markdown",
   "metadata": {},
   "source": [
    "-----"
   ]
  },
  {
   "cell_type": "markdown",
   "metadata": {},
   "source": [
    "### *1. Content type on Netflix*"
   ]
  },
  {
   "cell_type": "code",
   "execution_count": 44,
   "metadata": {},
   "outputs": [
    {
     "data": {
      "application/vnd.plotly.v1+json": {
       "config": {
        "plotlyServerURL": "https://plot.ly"
       },
       "data": [
        {
         "domain": {
          "x": [
           0,
           1
          ],
          "y": [
           0,
           1
          ]
         },
         "hole": 0.3,
         "hovertemplate": "label=%{label}<br>value=%{value}<extra></extra>",
         "labels": [
          "Movie",
          "TV Show"
         ],
         "legendgroup": "",
         "name": "",
         "opacity": 0.7,
         "pull": [
          0,
          0.1
         ],
         "showlegend": true,
         "textinfo": "percent+label",
         "type": "pie",
         "values": [
          97.32630389757108,
          2.673696102428921
         ]
        }
       ],
       "layout": {
        "legend": {
         "tracegroupgap": 0
        },
        "piecolorway": [
         "skyblue",
         "lightcoral"
        ],
        "template": {
         "data": {
          "bar": [
           {
            "error_x": {
             "color": "#2a3f5f"
            },
            "error_y": {
             "color": "#2a3f5f"
            },
            "marker": {
             "line": {
              "color": "#E5ECF6",
              "width": 0.5
             },
             "pattern": {
              "fillmode": "overlay",
              "size": 10,
              "solidity": 0.2
             }
            },
            "type": "bar"
           }
          ],
          "barpolar": [
           {
            "marker": {
             "line": {
              "color": "#E5ECF6",
              "width": 0.5
             },
             "pattern": {
              "fillmode": "overlay",
              "size": 10,
              "solidity": 0.2
             }
            },
            "type": "barpolar"
           }
          ],
          "carpet": [
           {
            "aaxis": {
             "endlinecolor": "#2a3f5f",
             "gridcolor": "white",
             "linecolor": "white",
             "minorgridcolor": "white",
             "startlinecolor": "#2a3f5f"
            },
            "baxis": {
             "endlinecolor": "#2a3f5f",
             "gridcolor": "white",
             "linecolor": "white",
             "minorgridcolor": "white",
             "startlinecolor": "#2a3f5f"
            },
            "type": "carpet"
           }
          ],
          "choropleth": [
           {
            "colorbar": {
             "outlinewidth": 0,
             "ticks": ""
            },
            "type": "choropleth"
           }
          ],
          "contour": [
           {
            "colorbar": {
             "outlinewidth": 0,
             "ticks": ""
            },
            "colorscale": [
             [
              0,
              "#0d0887"
             ],
             [
              0.1111111111111111,
              "#46039f"
             ],
             [
              0.2222222222222222,
              "#7201a8"
             ],
             [
              0.3333333333333333,
              "#9c179e"
             ],
             [
              0.4444444444444444,
              "#bd3786"
             ],
             [
              0.5555555555555556,
              "#d8576b"
             ],
             [
              0.6666666666666666,
              "#ed7953"
             ],
             [
              0.7777777777777778,
              "#fb9f3a"
             ],
             [
              0.8888888888888888,
              "#fdca26"
             ],
             [
              1,
              "#f0f921"
             ]
            ],
            "type": "contour"
           }
          ],
          "contourcarpet": [
           {
            "colorbar": {
             "outlinewidth": 0,
             "ticks": ""
            },
            "type": "contourcarpet"
           }
          ],
          "heatmap": [
           {
            "colorbar": {
             "outlinewidth": 0,
             "ticks": ""
            },
            "colorscale": [
             [
              0,
              "#0d0887"
             ],
             [
              0.1111111111111111,
              "#46039f"
             ],
             [
              0.2222222222222222,
              "#7201a8"
             ],
             [
              0.3333333333333333,
              "#9c179e"
             ],
             [
              0.4444444444444444,
              "#bd3786"
             ],
             [
              0.5555555555555556,
              "#d8576b"
             ],
             [
              0.6666666666666666,
              "#ed7953"
             ],
             [
              0.7777777777777778,
              "#fb9f3a"
             ],
             [
              0.8888888888888888,
              "#fdca26"
             ],
             [
              1,
              "#f0f921"
             ]
            ],
            "type": "heatmap"
           }
          ],
          "heatmapgl": [
           {
            "colorbar": {
             "outlinewidth": 0,
             "ticks": ""
            },
            "colorscale": [
             [
              0,
              "#0d0887"
             ],
             [
              0.1111111111111111,
              "#46039f"
             ],
             [
              0.2222222222222222,
              "#7201a8"
             ],
             [
              0.3333333333333333,
              "#9c179e"
             ],
             [
              0.4444444444444444,
              "#bd3786"
             ],
             [
              0.5555555555555556,
              "#d8576b"
             ],
             [
              0.6666666666666666,
              "#ed7953"
             ],
             [
              0.7777777777777778,
              "#fb9f3a"
             ],
             [
              0.8888888888888888,
              "#fdca26"
             ],
             [
              1,
              "#f0f921"
             ]
            ],
            "type": "heatmapgl"
           }
          ],
          "histogram": [
           {
            "marker": {
             "pattern": {
              "fillmode": "overlay",
              "size": 10,
              "solidity": 0.2
             }
            },
            "type": "histogram"
           }
          ],
          "histogram2d": [
           {
            "colorbar": {
             "outlinewidth": 0,
             "ticks": ""
            },
            "colorscale": [
             [
              0,
              "#0d0887"
             ],
             [
              0.1111111111111111,
              "#46039f"
             ],
             [
              0.2222222222222222,
              "#7201a8"
             ],
             [
              0.3333333333333333,
              "#9c179e"
             ],
             [
              0.4444444444444444,
              "#bd3786"
             ],
             [
              0.5555555555555556,
              "#d8576b"
             ],
             [
              0.6666666666666666,
              "#ed7953"
             ],
             [
              0.7777777777777778,
              "#fb9f3a"
             ],
             [
              0.8888888888888888,
              "#fdca26"
             ],
             [
              1,
              "#f0f921"
             ]
            ],
            "type": "histogram2d"
           }
          ],
          "histogram2dcontour": [
           {
            "colorbar": {
             "outlinewidth": 0,
             "ticks": ""
            },
            "colorscale": [
             [
              0,
              "#0d0887"
             ],
             [
              0.1111111111111111,
              "#46039f"
             ],
             [
              0.2222222222222222,
              "#7201a8"
             ],
             [
              0.3333333333333333,
              "#9c179e"
             ],
             [
              0.4444444444444444,
              "#bd3786"
             ],
             [
              0.5555555555555556,
              "#d8576b"
             ],
             [
              0.6666666666666666,
              "#ed7953"
             ],
             [
              0.7777777777777778,
              "#fb9f3a"
             ],
             [
              0.8888888888888888,
              "#fdca26"
             ],
             [
              1,
              "#f0f921"
             ]
            ],
            "type": "histogram2dcontour"
           }
          ],
          "mesh3d": [
           {
            "colorbar": {
             "outlinewidth": 0,
             "ticks": ""
            },
            "type": "mesh3d"
           }
          ],
          "parcoords": [
           {
            "line": {
             "colorbar": {
              "outlinewidth": 0,
              "ticks": ""
             }
            },
            "type": "parcoords"
           }
          ],
          "pie": [
           {
            "automargin": true,
            "type": "pie"
           }
          ],
          "scatter": [
           {
            "fillpattern": {
             "fillmode": "overlay",
             "size": 10,
             "solidity": 0.2
            },
            "type": "scatter"
           }
          ],
          "scatter3d": [
           {
            "line": {
             "colorbar": {
              "outlinewidth": 0,
              "ticks": ""
             }
            },
            "marker": {
             "colorbar": {
              "outlinewidth": 0,
              "ticks": ""
             }
            },
            "type": "scatter3d"
           }
          ],
          "scattercarpet": [
           {
            "marker": {
             "colorbar": {
              "outlinewidth": 0,
              "ticks": ""
             }
            },
            "type": "scattercarpet"
           }
          ],
          "scattergeo": [
           {
            "marker": {
             "colorbar": {
              "outlinewidth": 0,
              "ticks": ""
             }
            },
            "type": "scattergeo"
           }
          ],
          "scattergl": [
           {
            "marker": {
             "colorbar": {
              "outlinewidth": 0,
              "ticks": ""
             }
            },
            "type": "scattergl"
           }
          ],
          "scattermapbox": [
           {
            "marker": {
             "colorbar": {
              "outlinewidth": 0,
              "ticks": ""
             }
            },
            "type": "scattermapbox"
           }
          ],
          "scatterpolar": [
           {
            "marker": {
             "colorbar": {
              "outlinewidth": 0,
              "ticks": ""
             }
            },
            "type": "scatterpolar"
           }
          ],
          "scatterpolargl": [
           {
            "marker": {
             "colorbar": {
              "outlinewidth": 0,
              "ticks": ""
             }
            },
            "type": "scatterpolargl"
           }
          ],
          "scatterternary": [
           {
            "marker": {
             "colorbar": {
              "outlinewidth": 0,
              "ticks": ""
             }
            },
            "type": "scatterternary"
           }
          ],
          "surface": [
           {
            "colorbar": {
             "outlinewidth": 0,
             "ticks": ""
            },
            "colorscale": [
             [
              0,
              "#0d0887"
             ],
             [
              0.1111111111111111,
              "#46039f"
             ],
             [
              0.2222222222222222,
              "#7201a8"
             ],
             [
              0.3333333333333333,
              "#9c179e"
             ],
             [
              0.4444444444444444,
              "#bd3786"
             ],
             [
              0.5555555555555556,
              "#d8576b"
             ],
             [
              0.6666666666666666,
              "#ed7953"
             ],
             [
              0.7777777777777778,
              "#fb9f3a"
             ],
             [
              0.8888888888888888,
              "#fdca26"
             ],
             [
              1,
              "#f0f921"
             ]
            ],
            "type": "surface"
           }
          ],
          "table": [
           {
            "cells": {
             "fill": {
              "color": "#EBF0F8"
             },
             "line": {
              "color": "white"
             }
            },
            "header": {
             "fill": {
              "color": "#C8D4E3"
             },
             "line": {
              "color": "white"
             }
            },
            "type": "table"
           }
          ]
         },
         "layout": {
          "annotationdefaults": {
           "arrowcolor": "#2a3f5f",
           "arrowhead": 0,
           "arrowwidth": 1
          },
          "autotypenumbers": "strict",
          "coloraxis": {
           "colorbar": {
            "outlinewidth": 0,
            "ticks": ""
           }
          },
          "colorscale": {
           "diverging": [
            [
             0,
             "#8e0152"
            ],
            [
             0.1,
             "#c51b7d"
            ],
            [
             0.2,
             "#de77ae"
            ],
            [
             0.3,
             "#f1b6da"
            ],
            [
             0.4,
             "#fde0ef"
            ],
            [
             0.5,
             "#f7f7f7"
            ],
            [
             0.6,
             "#e6f5d0"
            ],
            [
             0.7,
             "#b8e186"
            ],
            [
             0.8,
             "#7fbc41"
            ],
            [
             0.9,
             "#4d9221"
            ],
            [
             1,
             "#276419"
            ]
           ],
           "sequential": [
            [
             0,
             "#0d0887"
            ],
            [
             0.1111111111111111,
             "#46039f"
            ],
            [
             0.2222222222222222,
             "#7201a8"
            ],
            [
             0.3333333333333333,
             "#9c179e"
            ],
            [
             0.4444444444444444,
             "#bd3786"
            ],
            [
             0.5555555555555556,
             "#d8576b"
            ],
            [
             0.6666666666666666,
             "#ed7953"
            ],
            [
             0.7777777777777778,
             "#fb9f3a"
            ],
            [
             0.8888888888888888,
             "#fdca26"
            ],
            [
             1,
             "#f0f921"
            ]
           ],
           "sequentialminus": [
            [
             0,
             "#0d0887"
            ],
            [
             0.1111111111111111,
             "#46039f"
            ],
            [
             0.2222222222222222,
             "#7201a8"
            ],
            [
             0.3333333333333333,
             "#9c179e"
            ],
            [
             0.4444444444444444,
             "#bd3786"
            ],
            [
             0.5555555555555556,
             "#d8576b"
            ],
            [
             0.6666666666666666,
             "#ed7953"
            ],
            [
             0.7777777777777778,
             "#fb9f3a"
            ],
            [
             0.8888888888888888,
             "#fdca26"
            ],
            [
             1,
             "#f0f921"
            ]
           ]
          },
          "colorway": [
           "#636efa",
           "#EF553B",
           "#00cc96",
           "#ab63fa",
           "#FFA15A",
           "#19d3f3",
           "#FF6692",
           "#B6E880",
           "#FF97FF",
           "#FECB52"
          ],
          "font": {
           "color": "#2a3f5f"
          },
          "geo": {
           "bgcolor": "white",
           "lakecolor": "white",
           "landcolor": "#E5ECF6",
           "showlakes": true,
           "showland": true,
           "subunitcolor": "white"
          },
          "hoverlabel": {
           "align": "left"
          },
          "hovermode": "closest",
          "mapbox": {
           "style": "light"
          },
          "paper_bgcolor": "white",
          "plot_bgcolor": "#E5ECF6",
          "polar": {
           "angularaxis": {
            "gridcolor": "white",
            "linecolor": "white",
            "ticks": ""
           },
           "bgcolor": "#E5ECF6",
           "radialaxis": {
            "gridcolor": "white",
            "linecolor": "white",
            "ticks": ""
           }
          },
          "scene": {
           "xaxis": {
            "backgroundcolor": "#E5ECF6",
            "gridcolor": "white",
            "gridwidth": 2,
            "linecolor": "white",
            "showbackground": true,
            "ticks": "",
            "zerolinecolor": "white"
           },
           "yaxis": {
            "backgroundcolor": "#E5ECF6",
            "gridcolor": "white",
            "gridwidth": 2,
            "linecolor": "white",
            "showbackground": true,
            "ticks": "",
            "zerolinecolor": "white"
           },
           "zaxis": {
            "backgroundcolor": "#E5ECF6",
            "gridcolor": "white",
            "gridwidth": 2,
            "linecolor": "white",
            "showbackground": true,
            "ticks": "",
            "zerolinecolor": "white"
           }
          },
          "shapedefaults": {
           "line": {
            "color": "#2a3f5f"
           }
          },
          "ternary": {
           "aaxis": {
            "gridcolor": "white",
            "linecolor": "white",
            "ticks": ""
           },
           "baxis": {
            "gridcolor": "white",
            "linecolor": "white",
            "ticks": ""
           },
           "bgcolor": "#E5ECF6",
           "caxis": {
            "gridcolor": "white",
            "linecolor": "white",
            "ticks": ""
           }
          },
          "title": {
           "x": 0.05
          },
          "xaxis": {
           "automargin": true,
           "gridcolor": "white",
           "linecolor": "white",
           "ticks": "",
           "title": {
            "standoff": 15
           },
           "zerolinecolor": "white",
           "zerolinewidth": 2
          },
          "yaxis": {
           "automargin": true,
           "gridcolor": "white",
           "linecolor": "white",
           "ticks": "",
           "title": {
            "standoff": 15
           },
           "zerolinecolor": "white",
           "zerolinewidth": 2
          }
         }
        },
        "title": {
         "text": "Content Type on Netflix"
        }
       }
      },
      "text/html": [
       "<div>                            <div id=\"fed4bcab-69a1-4de9-a321-6f018bdc8cf2\" class=\"plotly-graph-div\" style=\"height:525px; width:100%;\"></div>            <script type=\"text/javascript\">                require([\"plotly\"], function(Plotly) {                    window.PLOTLYENV=window.PLOTLYENV || {};                                    if (document.getElementById(\"fed4bcab-69a1-4de9-a321-6f018bdc8cf2\")) {                    Plotly.newPlot(                        \"fed4bcab-69a1-4de9-a321-6f018bdc8cf2\",                        [{\"domain\":{\"x\":[0.0,1.0],\"y\":[0.0,1.0]},\"hole\":0.3,\"hovertemplate\":\"label=%{label}\\u003cbr\\u003evalue=%{value}\\u003cextra\\u003e\\u003c\\u002fextra\\u003e\",\"labels\":[\"Movie\",\"TV Show\"],\"legendgroup\":\"\",\"name\":\"\",\"opacity\":0.7,\"showlegend\":true,\"values\":[97.32630389757108,2.673696102428921],\"type\":\"pie\",\"pull\":[0,0.1],\"textinfo\":\"percent+label\"}],                        {\"template\":{\"data\":{\"histogram2dcontour\":[{\"type\":\"histogram2dcontour\",\"colorbar\":{\"outlinewidth\":0,\"ticks\":\"\"},\"colorscale\":[[0.0,\"#0d0887\"],[0.1111111111111111,\"#46039f\"],[0.2222222222222222,\"#7201a8\"],[0.3333333333333333,\"#9c179e\"],[0.4444444444444444,\"#bd3786\"],[0.5555555555555556,\"#d8576b\"],[0.6666666666666666,\"#ed7953\"],[0.7777777777777778,\"#fb9f3a\"],[0.8888888888888888,\"#fdca26\"],[1.0,\"#f0f921\"]]}],\"choropleth\":[{\"type\":\"choropleth\",\"colorbar\":{\"outlinewidth\":0,\"ticks\":\"\"}}],\"histogram2d\":[{\"type\":\"histogram2d\",\"colorbar\":{\"outlinewidth\":0,\"ticks\":\"\"},\"colorscale\":[[0.0,\"#0d0887\"],[0.1111111111111111,\"#46039f\"],[0.2222222222222222,\"#7201a8\"],[0.3333333333333333,\"#9c179e\"],[0.4444444444444444,\"#bd3786\"],[0.5555555555555556,\"#d8576b\"],[0.6666666666666666,\"#ed7953\"],[0.7777777777777778,\"#fb9f3a\"],[0.8888888888888888,\"#fdca26\"],[1.0,\"#f0f921\"]]}],\"heatmap\":[{\"type\":\"heatmap\",\"colorbar\":{\"outlinewidth\":0,\"ticks\":\"\"},\"colorscale\":[[0.0,\"#0d0887\"],[0.1111111111111111,\"#46039f\"],[0.2222222222222222,\"#7201a8\"],[0.3333333333333333,\"#9c179e\"],[0.4444444444444444,\"#bd3786\"],[0.5555555555555556,\"#d8576b\"],[0.6666666666666666,\"#ed7953\"],[0.7777777777777778,\"#fb9f3a\"],[0.8888888888888888,\"#fdca26\"],[1.0,\"#f0f921\"]]}],\"heatmapgl\":[{\"type\":\"heatmapgl\",\"colorbar\":{\"outlinewidth\":0,\"ticks\":\"\"},\"colorscale\":[[0.0,\"#0d0887\"],[0.1111111111111111,\"#46039f\"],[0.2222222222222222,\"#7201a8\"],[0.3333333333333333,\"#9c179e\"],[0.4444444444444444,\"#bd3786\"],[0.5555555555555556,\"#d8576b\"],[0.6666666666666666,\"#ed7953\"],[0.7777777777777778,\"#fb9f3a\"],[0.8888888888888888,\"#fdca26\"],[1.0,\"#f0f921\"]]}],\"contourcarpet\":[{\"type\":\"contourcarpet\",\"colorbar\":{\"outlinewidth\":0,\"ticks\":\"\"}}],\"contour\":[{\"type\":\"contour\",\"colorbar\":{\"outlinewidth\":0,\"ticks\":\"\"},\"colorscale\":[[0.0,\"#0d0887\"],[0.1111111111111111,\"#46039f\"],[0.2222222222222222,\"#7201a8\"],[0.3333333333333333,\"#9c179e\"],[0.4444444444444444,\"#bd3786\"],[0.5555555555555556,\"#d8576b\"],[0.6666666666666666,\"#ed7953\"],[0.7777777777777778,\"#fb9f3a\"],[0.8888888888888888,\"#fdca26\"],[1.0,\"#f0f921\"]]}],\"surface\":[{\"type\":\"surface\",\"colorbar\":{\"outlinewidth\":0,\"ticks\":\"\"},\"colorscale\":[[0.0,\"#0d0887\"],[0.1111111111111111,\"#46039f\"],[0.2222222222222222,\"#7201a8\"],[0.3333333333333333,\"#9c179e\"],[0.4444444444444444,\"#bd3786\"],[0.5555555555555556,\"#d8576b\"],[0.6666666666666666,\"#ed7953\"],[0.7777777777777778,\"#fb9f3a\"],[0.8888888888888888,\"#fdca26\"],[1.0,\"#f0f921\"]]}],\"mesh3d\":[{\"type\":\"mesh3d\",\"colorbar\":{\"outlinewidth\":0,\"ticks\":\"\"}}],\"scatter\":[{\"fillpattern\":{\"fillmode\":\"overlay\",\"size\":10,\"solidity\":0.2},\"type\":\"scatter\"}],\"parcoords\":[{\"type\":\"parcoords\",\"line\":{\"colorbar\":{\"outlinewidth\":0,\"ticks\":\"\"}}}],\"scatterpolargl\":[{\"type\":\"scatterpolargl\",\"marker\":{\"colorbar\":{\"outlinewidth\":0,\"ticks\":\"\"}}}],\"bar\":[{\"error_x\":{\"color\":\"#2a3f5f\"},\"error_y\":{\"color\":\"#2a3f5f\"},\"marker\":{\"line\":{\"color\":\"#E5ECF6\",\"width\":0.5},\"pattern\":{\"fillmode\":\"overlay\",\"size\":10,\"solidity\":0.2}},\"type\":\"bar\"}],\"scattergeo\":[{\"type\":\"scattergeo\",\"marker\":{\"colorbar\":{\"outlinewidth\":0,\"ticks\":\"\"}}}],\"scatterpolar\":[{\"type\":\"scatterpolar\",\"marker\":{\"colorbar\":{\"outlinewidth\":0,\"ticks\":\"\"}}}],\"histogram\":[{\"marker\":{\"pattern\":{\"fillmode\":\"overlay\",\"size\":10,\"solidity\":0.2}},\"type\":\"histogram\"}],\"scattergl\":[{\"type\":\"scattergl\",\"marker\":{\"colorbar\":{\"outlinewidth\":0,\"ticks\":\"\"}}}],\"scatter3d\":[{\"type\":\"scatter3d\",\"line\":{\"colorbar\":{\"outlinewidth\":0,\"ticks\":\"\"}},\"marker\":{\"colorbar\":{\"outlinewidth\":0,\"ticks\":\"\"}}}],\"scattermapbox\":[{\"type\":\"scattermapbox\",\"marker\":{\"colorbar\":{\"outlinewidth\":0,\"ticks\":\"\"}}}],\"scatterternary\":[{\"type\":\"scatterternary\",\"marker\":{\"colorbar\":{\"outlinewidth\":0,\"ticks\":\"\"}}}],\"scattercarpet\":[{\"type\":\"scattercarpet\",\"marker\":{\"colorbar\":{\"outlinewidth\":0,\"ticks\":\"\"}}}],\"carpet\":[{\"aaxis\":{\"endlinecolor\":\"#2a3f5f\",\"gridcolor\":\"white\",\"linecolor\":\"white\",\"minorgridcolor\":\"white\",\"startlinecolor\":\"#2a3f5f\"},\"baxis\":{\"endlinecolor\":\"#2a3f5f\",\"gridcolor\":\"white\",\"linecolor\":\"white\",\"minorgridcolor\":\"white\",\"startlinecolor\":\"#2a3f5f\"},\"type\":\"carpet\"}],\"table\":[{\"cells\":{\"fill\":{\"color\":\"#EBF0F8\"},\"line\":{\"color\":\"white\"}},\"header\":{\"fill\":{\"color\":\"#C8D4E3\"},\"line\":{\"color\":\"white\"}},\"type\":\"table\"}],\"barpolar\":[{\"marker\":{\"line\":{\"color\":\"#E5ECF6\",\"width\":0.5},\"pattern\":{\"fillmode\":\"overlay\",\"size\":10,\"solidity\":0.2}},\"type\":\"barpolar\"}],\"pie\":[{\"automargin\":true,\"type\":\"pie\"}]},\"layout\":{\"autotypenumbers\":\"strict\",\"colorway\":[\"#636efa\",\"#EF553B\",\"#00cc96\",\"#ab63fa\",\"#FFA15A\",\"#19d3f3\",\"#FF6692\",\"#B6E880\",\"#FF97FF\",\"#FECB52\"],\"font\":{\"color\":\"#2a3f5f\"},\"hovermode\":\"closest\",\"hoverlabel\":{\"align\":\"left\"},\"paper_bgcolor\":\"white\",\"plot_bgcolor\":\"#E5ECF6\",\"polar\":{\"bgcolor\":\"#E5ECF6\",\"angularaxis\":{\"gridcolor\":\"white\",\"linecolor\":\"white\",\"ticks\":\"\"},\"radialaxis\":{\"gridcolor\":\"white\",\"linecolor\":\"white\",\"ticks\":\"\"}},\"ternary\":{\"bgcolor\":\"#E5ECF6\",\"aaxis\":{\"gridcolor\":\"white\",\"linecolor\":\"white\",\"ticks\":\"\"},\"baxis\":{\"gridcolor\":\"white\",\"linecolor\":\"white\",\"ticks\":\"\"},\"caxis\":{\"gridcolor\":\"white\",\"linecolor\":\"white\",\"ticks\":\"\"}},\"coloraxis\":{\"colorbar\":{\"outlinewidth\":0,\"ticks\":\"\"}},\"colorscale\":{\"sequential\":[[0.0,\"#0d0887\"],[0.1111111111111111,\"#46039f\"],[0.2222222222222222,\"#7201a8\"],[0.3333333333333333,\"#9c179e\"],[0.4444444444444444,\"#bd3786\"],[0.5555555555555556,\"#d8576b\"],[0.6666666666666666,\"#ed7953\"],[0.7777777777777778,\"#fb9f3a\"],[0.8888888888888888,\"#fdca26\"],[1.0,\"#f0f921\"]],\"sequentialminus\":[[0.0,\"#0d0887\"],[0.1111111111111111,\"#46039f\"],[0.2222222222222222,\"#7201a8\"],[0.3333333333333333,\"#9c179e\"],[0.4444444444444444,\"#bd3786\"],[0.5555555555555556,\"#d8576b\"],[0.6666666666666666,\"#ed7953\"],[0.7777777777777778,\"#fb9f3a\"],[0.8888888888888888,\"#fdca26\"],[1.0,\"#f0f921\"]],\"diverging\":[[0,\"#8e0152\"],[0.1,\"#c51b7d\"],[0.2,\"#de77ae\"],[0.3,\"#f1b6da\"],[0.4,\"#fde0ef\"],[0.5,\"#f7f7f7\"],[0.6,\"#e6f5d0\"],[0.7,\"#b8e186\"],[0.8,\"#7fbc41\"],[0.9,\"#4d9221\"],[1,\"#276419\"]]},\"xaxis\":{\"gridcolor\":\"white\",\"linecolor\":\"white\",\"ticks\":\"\",\"title\":{\"standoff\":15},\"zerolinecolor\":\"white\",\"automargin\":true,\"zerolinewidth\":2},\"yaxis\":{\"gridcolor\":\"white\",\"linecolor\":\"white\",\"ticks\":\"\",\"title\":{\"standoff\":15},\"zerolinecolor\":\"white\",\"automargin\":true,\"zerolinewidth\":2},\"scene\":{\"xaxis\":{\"backgroundcolor\":\"#E5ECF6\",\"gridcolor\":\"white\",\"linecolor\":\"white\",\"showbackground\":true,\"ticks\":\"\",\"zerolinecolor\":\"white\",\"gridwidth\":2},\"yaxis\":{\"backgroundcolor\":\"#E5ECF6\",\"gridcolor\":\"white\",\"linecolor\":\"white\",\"showbackground\":true,\"ticks\":\"\",\"zerolinecolor\":\"white\",\"gridwidth\":2},\"zaxis\":{\"backgroundcolor\":\"#E5ECF6\",\"gridcolor\":\"white\",\"linecolor\":\"white\",\"showbackground\":true,\"ticks\":\"\",\"zerolinecolor\":\"white\",\"gridwidth\":2}},\"shapedefaults\":{\"line\":{\"color\":\"#2a3f5f\"}},\"annotationdefaults\":{\"arrowcolor\":\"#2a3f5f\",\"arrowhead\":0,\"arrowwidth\":1},\"geo\":{\"bgcolor\":\"white\",\"landcolor\":\"#E5ECF6\",\"subunitcolor\":\"white\",\"showland\":true,\"showlakes\":true,\"lakecolor\":\"white\"},\"title\":{\"x\":0.05},\"mapbox\":{\"style\":\"light\"}}},\"legend\":{\"tracegroupgap\":0},\"title\":{\"text\":\"Content Type on Netflix\"},\"piecolorway\":[\"skyblue\",\"lightcoral\"]},                        {\"responsive\": true}                    ).then(function(){\n",
       "                            \n",
       "var gd = document.getElementById('fed4bcab-69a1-4de9-a321-6f018bdc8cf2');\n",
       "var x = new MutationObserver(function (mutations, observer) {{\n",
       "        var display = window.getComputedStyle(gd).display;\n",
       "        if (!display || display === 'none') {{\n",
       "            console.log([gd, 'removed!']);\n",
       "            Plotly.purge(gd);\n",
       "            observer.disconnect();\n",
       "        }}\n",
       "}});\n",
       "\n",
       "// Listen for the removal of the full notebook cells\n",
       "var notebookContainer = gd.closest('#notebook-container');\n",
       "if (notebookContainer) {{\n",
       "    x.observe(notebookContainer, {childList: true});\n",
       "}}\n",
       "\n",
       "// Listen for the clearing of the current output cell\n",
       "var outputEl = gd.closest('.output');\n",
       "if (outputEl) {{\n",
       "    x.observe(outputEl, {childList: true});\n",
       "}}\n",
       "\n",
       "                        })                };                });            </script>        </div>"
      ]
     },
     "metadata": {},
     "output_type": "display_data"
    }
   ],
   "source": [
    "type_count = df['type'].value_counts()\n",
    "\n",
    "# Calculate percentages\n",
    "percentages = (type_count / type_count.sum()) * 100\n",
    "\n",
    "# pie chart using plotly\n",
    "fig = px.pie(names=percentages.index, values=percentages.values, \n",
    "             title='Content Type on Netflix', \n",
    "             labels=percentages.index, color_discrete_sequence=['skyblue', 'lightcoral'],\n",
    "             hole=0.3, opacity=0.7)\n",
    "fig.update_traces(textinfo='percent+label', pull=[0, 0.1])  # Adjust labels and pull a slice\n",
    "\n",
    "fig.show()\n"
   ]
  },
  {
   "cell_type": "markdown",
   "metadata": {},
   "source": [
    "### *2. Trend of content over the years*"
   ]
  },
  {
   "cell_type": "code",
   "execution_count": 48,
   "metadata": {},
   "outputs": [
    {
     "data": {
      "application/vnd.plotly.v1+json": {
       "config": {
        "plotlyServerURL": "https://plot.ly"
       },
       "data": [
        {
         "hovertemplate": "type=Movie<br>Year Added=%{x}<br>Count=%{y}<extra></extra>",
         "legendgroup": "Movie",
         "line": {
          "color": "#636efa",
          "dash": "solid"
         },
         "marker": {
          "symbol": "circle"
         },
         "mode": "lines",
         "name": "Movie",
         "orientation": "v",
         "showlegend": true,
         "type": "scatter",
         "x": [
          2008,
          2009,
          2010,
          2011,
          2012,
          2013,
          2014,
          2015,
          2016,
          2017,
          2018,
          2019,
          2020,
          2021
         ],
         "xaxis": "x",
         "y": [
          1,
          2,
          1,
          13,
          3,
          6,
          14,
          47,
          195,
          698,
          1082,
          1229,
          1149,
          729
         ],
         "yaxis": "y"
        },
        {
         "hovertemplate": "type=TV Show<br>Year Added=%{x}<br>Count=%{y}<extra></extra>",
         "legendgroup": "TV Show",
         "line": {
          "color": "#EF553B",
          "dash": "solid"
         },
         "marker": {
          "symbol": "circle"
         },
         "mode": "lines",
         "name": "TV Show",
         "orientation": "v",
         "showlegend": true,
         "type": "scatter",
         "x": [
          2013,
          2015,
          2016,
          2017,
          2018,
          2019,
          2020,
          2021
         ],
         "xaxis": "x",
         "y": [
          1,
          3,
          7,
          20,
          15,
          27,
          43,
          26
         ],
         "yaxis": "y"
        }
       ],
       "layout": {
        "legend": {
         "title": {
          "text": "type"
         },
         "tracegroupgap": 0
        },
        "template": {
         "data": {
          "bar": [
           {
            "error_x": {
             "color": "#2a3f5f"
            },
            "error_y": {
             "color": "#2a3f5f"
            },
            "marker": {
             "line": {
              "color": "#E5ECF6",
              "width": 0.5
             },
             "pattern": {
              "fillmode": "overlay",
              "size": 10,
              "solidity": 0.2
             }
            },
            "type": "bar"
           }
          ],
          "barpolar": [
           {
            "marker": {
             "line": {
              "color": "#E5ECF6",
              "width": 0.5
             },
             "pattern": {
              "fillmode": "overlay",
              "size": 10,
              "solidity": 0.2
             }
            },
            "type": "barpolar"
           }
          ],
          "carpet": [
           {
            "aaxis": {
             "endlinecolor": "#2a3f5f",
             "gridcolor": "white",
             "linecolor": "white",
             "minorgridcolor": "white",
             "startlinecolor": "#2a3f5f"
            },
            "baxis": {
             "endlinecolor": "#2a3f5f",
             "gridcolor": "white",
             "linecolor": "white",
             "minorgridcolor": "white",
             "startlinecolor": "#2a3f5f"
            },
            "type": "carpet"
           }
          ],
          "choropleth": [
           {
            "colorbar": {
             "outlinewidth": 0,
             "ticks": ""
            },
            "type": "choropleth"
           }
          ],
          "contour": [
           {
            "colorbar": {
             "outlinewidth": 0,
             "ticks": ""
            },
            "colorscale": [
             [
              0,
              "#0d0887"
             ],
             [
              0.1111111111111111,
              "#46039f"
             ],
             [
              0.2222222222222222,
              "#7201a8"
             ],
             [
              0.3333333333333333,
              "#9c179e"
             ],
             [
              0.4444444444444444,
              "#bd3786"
             ],
             [
              0.5555555555555556,
              "#d8576b"
             ],
             [
              0.6666666666666666,
              "#ed7953"
             ],
             [
              0.7777777777777778,
              "#fb9f3a"
             ],
             [
              0.8888888888888888,
              "#fdca26"
             ],
             [
              1,
              "#f0f921"
             ]
            ],
            "type": "contour"
           }
          ],
          "contourcarpet": [
           {
            "colorbar": {
             "outlinewidth": 0,
             "ticks": ""
            },
            "type": "contourcarpet"
           }
          ],
          "heatmap": [
           {
            "colorbar": {
             "outlinewidth": 0,
             "ticks": ""
            },
            "colorscale": [
             [
              0,
              "#0d0887"
             ],
             [
              0.1111111111111111,
              "#46039f"
             ],
             [
              0.2222222222222222,
              "#7201a8"
             ],
             [
              0.3333333333333333,
              "#9c179e"
             ],
             [
              0.4444444444444444,
              "#bd3786"
             ],
             [
              0.5555555555555556,
              "#d8576b"
             ],
             [
              0.6666666666666666,
              "#ed7953"
             ],
             [
              0.7777777777777778,
              "#fb9f3a"
             ],
             [
              0.8888888888888888,
              "#fdca26"
             ],
             [
              1,
              "#f0f921"
             ]
            ],
            "type": "heatmap"
           }
          ],
          "heatmapgl": [
           {
            "colorbar": {
             "outlinewidth": 0,
             "ticks": ""
            },
            "colorscale": [
             [
              0,
              "#0d0887"
             ],
             [
              0.1111111111111111,
              "#46039f"
             ],
             [
              0.2222222222222222,
              "#7201a8"
             ],
             [
              0.3333333333333333,
              "#9c179e"
             ],
             [
              0.4444444444444444,
              "#bd3786"
             ],
             [
              0.5555555555555556,
              "#d8576b"
             ],
             [
              0.6666666666666666,
              "#ed7953"
             ],
             [
              0.7777777777777778,
              "#fb9f3a"
             ],
             [
              0.8888888888888888,
              "#fdca26"
             ],
             [
              1,
              "#f0f921"
             ]
            ],
            "type": "heatmapgl"
           }
          ],
          "histogram": [
           {
            "marker": {
             "pattern": {
              "fillmode": "overlay",
              "size": 10,
              "solidity": 0.2
             }
            },
            "type": "histogram"
           }
          ],
          "histogram2d": [
           {
            "colorbar": {
             "outlinewidth": 0,
             "ticks": ""
            },
            "colorscale": [
             [
              0,
              "#0d0887"
             ],
             [
              0.1111111111111111,
              "#46039f"
             ],
             [
              0.2222222222222222,
              "#7201a8"
             ],
             [
              0.3333333333333333,
              "#9c179e"
             ],
             [
              0.4444444444444444,
              "#bd3786"
             ],
             [
              0.5555555555555556,
              "#d8576b"
             ],
             [
              0.6666666666666666,
              "#ed7953"
             ],
             [
              0.7777777777777778,
              "#fb9f3a"
             ],
             [
              0.8888888888888888,
              "#fdca26"
             ],
             [
              1,
              "#f0f921"
             ]
            ],
            "type": "histogram2d"
           }
          ],
          "histogram2dcontour": [
           {
            "colorbar": {
             "outlinewidth": 0,
             "ticks": ""
            },
            "colorscale": [
             [
              0,
              "#0d0887"
             ],
             [
              0.1111111111111111,
              "#46039f"
             ],
             [
              0.2222222222222222,
              "#7201a8"
             ],
             [
              0.3333333333333333,
              "#9c179e"
             ],
             [
              0.4444444444444444,
              "#bd3786"
             ],
             [
              0.5555555555555556,
              "#d8576b"
             ],
             [
              0.6666666666666666,
              "#ed7953"
             ],
             [
              0.7777777777777778,
              "#fb9f3a"
             ],
             [
              0.8888888888888888,
              "#fdca26"
             ],
             [
              1,
              "#f0f921"
             ]
            ],
            "type": "histogram2dcontour"
           }
          ],
          "mesh3d": [
           {
            "colorbar": {
             "outlinewidth": 0,
             "ticks": ""
            },
            "type": "mesh3d"
           }
          ],
          "parcoords": [
           {
            "line": {
             "colorbar": {
              "outlinewidth": 0,
              "ticks": ""
             }
            },
            "type": "parcoords"
           }
          ],
          "pie": [
           {
            "automargin": true,
            "type": "pie"
           }
          ],
          "scatter": [
           {
            "fillpattern": {
             "fillmode": "overlay",
             "size": 10,
             "solidity": 0.2
            },
            "type": "scatter"
           }
          ],
          "scatter3d": [
           {
            "line": {
             "colorbar": {
              "outlinewidth": 0,
              "ticks": ""
             }
            },
            "marker": {
             "colorbar": {
              "outlinewidth": 0,
              "ticks": ""
             }
            },
            "type": "scatter3d"
           }
          ],
          "scattercarpet": [
           {
            "marker": {
             "colorbar": {
              "outlinewidth": 0,
              "ticks": ""
             }
            },
            "type": "scattercarpet"
           }
          ],
          "scattergeo": [
           {
            "marker": {
             "colorbar": {
              "outlinewidth": 0,
              "ticks": ""
             }
            },
            "type": "scattergeo"
           }
          ],
          "scattergl": [
           {
            "marker": {
             "colorbar": {
              "outlinewidth": 0,
              "ticks": ""
             }
            },
            "type": "scattergl"
           }
          ],
          "scattermapbox": [
           {
            "marker": {
             "colorbar": {
              "outlinewidth": 0,
              "ticks": ""
             }
            },
            "type": "scattermapbox"
           }
          ],
          "scatterpolar": [
           {
            "marker": {
             "colorbar": {
              "outlinewidth": 0,
              "ticks": ""
             }
            },
            "type": "scatterpolar"
           }
          ],
          "scatterpolargl": [
           {
            "marker": {
             "colorbar": {
              "outlinewidth": 0,
              "ticks": ""
             }
            },
            "type": "scatterpolargl"
           }
          ],
          "scatterternary": [
           {
            "marker": {
             "colorbar": {
              "outlinewidth": 0,
              "ticks": ""
             }
            },
            "type": "scatterternary"
           }
          ],
          "surface": [
           {
            "colorbar": {
             "outlinewidth": 0,
             "ticks": ""
            },
            "colorscale": [
             [
              0,
              "#0d0887"
             ],
             [
              0.1111111111111111,
              "#46039f"
             ],
             [
              0.2222222222222222,
              "#7201a8"
             ],
             [
              0.3333333333333333,
              "#9c179e"
             ],
             [
              0.4444444444444444,
              "#bd3786"
             ],
             [
              0.5555555555555556,
              "#d8576b"
             ],
             [
              0.6666666666666666,
              "#ed7953"
             ],
             [
              0.7777777777777778,
              "#fb9f3a"
             ],
             [
              0.8888888888888888,
              "#fdca26"
             ],
             [
              1,
              "#f0f921"
             ]
            ],
            "type": "surface"
           }
          ],
          "table": [
           {
            "cells": {
             "fill": {
              "color": "#EBF0F8"
             },
             "line": {
              "color": "white"
             }
            },
            "header": {
             "fill": {
              "color": "#C8D4E3"
             },
             "line": {
              "color": "white"
             }
            },
            "type": "table"
           }
          ]
         },
         "layout": {
          "annotationdefaults": {
           "arrowcolor": "#2a3f5f",
           "arrowhead": 0,
           "arrowwidth": 1
          },
          "autotypenumbers": "strict",
          "coloraxis": {
           "colorbar": {
            "outlinewidth": 0,
            "ticks": ""
           }
          },
          "colorscale": {
           "diverging": [
            [
             0,
             "#8e0152"
            ],
            [
             0.1,
             "#c51b7d"
            ],
            [
             0.2,
             "#de77ae"
            ],
            [
             0.3,
             "#f1b6da"
            ],
            [
             0.4,
             "#fde0ef"
            ],
            [
             0.5,
             "#f7f7f7"
            ],
            [
             0.6,
             "#e6f5d0"
            ],
            [
             0.7,
             "#b8e186"
            ],
            [
             0.8,
             "#7fbc41"
            ],
            [
             0.9,
             "#4d9221"
            ],
            [
             1,
             "#276419"
            ]
           ],
           "sequential": [
            [
             0,
             "#0d0887"
            ],
            [
             0.1111111111111111,
             "#46039f"
            ],
            [
             0.2222222222222222,
             "#7201a8"
            ],
            [
             0.3333333333333333,
             "#9c179e"
            ],
            [
             0.4444444444444444,
             "#bd3786"
            ],
            [
             0.5555555555555556,
             "#d8576b"
            ],
            [
             0.6666666666666666,
             "#ed7953"
            ],
            [
             0.7777777777777778,
             "#fb9f3a"
            ],
            [
             0.8888888888888888,
             "#fdca26"
            ],
            [
             1,
             "#f0f921"
            ]
           ],
           "sequentialminus": [
            [
             0,
             "#0d0887"
            ],
            [
             0.1111111111111111,
             "#46039f"
            ],
            [
             0.2222222222222222,
             "#7201a8"
            ],
            [
             0.3333333333333333,
             "#9c179e"
            ],
            [
             0.4444444444444444,
             "#bd3786"
            ],
            [
             0.5555555555555556,
             "#d8576b"
            ],
            [
             0.6666666666666666,
             "#ed7953"
            ],
            [
             0.7777777777777778,
             "#fb9f3a"
            ],
            [
             0.8888888888888888,
             "#fdca26"
            ],
            [
             1,
             "#f0f921"
            ]
           ]
          },
          "colorway": [
           "#636efa",
           "#EF553B",
           "#00cc96",
           "#ab63fa",
           "#FFA15A",
           "#19d3f3",
           "#FF6692",
           "#B6E880",
           "#FF97FF",
           "#FECB52"
          ],
          "font": {
           "color": "#2a3f5f"
          },
          "geo": {
           "bgcolor": "white",
           "lakecolor": "white",
           "landcolor": "#E5ECF6",
           "showlakes": true,
           "showland": true,
           "subunitcolor": "white"
          },
          "hoverlabel": {
           "align": "left"
          },
          "hovermode": "closest",
          "mapbox": {
           "style": "light"
          },
          "paper_bgcolor": "white",
          "plot_bgcolor": "#E5ECF6",
          "polar": {
           "angularaxis": {
            "gridcolor": "white",
            "linecolor": "white",
            "ticks": ""
           },
           "bgcolor": "#E5ECF6",
           "radialaxis": {
            "gridcolor": "white",
            "linecolor": "white",
            "ticks": ""
           }
          },
          "scene": {
           "xaxis": {
            "backgroundcolor": "#E5ECF6",
            "gridcolor": "white",
            "gridwidth": 2,
            "linecolor": "white",
            "showbackground": true,
            "ticks": "",
            "zerolinecolor": "white"
           },
           "yaxis": {
            "backgroundcolor": "#E5ECF6",
            "gridcolor": "white",
            "gridwidth": 2,
            "linecolor": "white",
            "showbackground": true,
            "ticks": "",
            "zerolinecolor": "white"
           },
           "zaxis": {
            "backgroundcolor": "#E5ECF6",
            "gridcolor": "white",
            "gridwidth": 2,
            "linecolor": "white",
            "showbackground": true,
            "ticks": "",
            "zerolinecolor": "white"
           }
          },
          "shapedefaults": {
           "line": {
            "color": "#2a3f5f"
           }
          },
          "ternary": {
           "aaxis": {
            "gridcolor": "white",
            "linecolor": "white",
            "ticks": ""
           },
           "baxis": {
            "gridcolor": "white",
            "linecolor": "white",
            "ticks": ""
           },
           "bgcolor": "#E5ECF6",
           "caxis": {
            "gridcolor": "white",
            "linecolor": "white",
            "ticks": ""
           }
          },
          "title": {
           "x": 0.05
          },
          "xaxis": {
           "automargin": true,
           "gridcolor": "white",
           "linecolor": "white",
           "ticks": "",
           "title": {
            "standoff": 15
           },
           "zerolinecolor": "white",
           "zerolinewidth": 2
          },
          "yaxis": {
           "automargin": true,
           "gridcolor": "white",
           "linecolor": "white",
           "ticks": "",
           "title": {
            "standoff": 15
           },
           "zerolinecolor": "white",
           "zerolinewidth": 2
          }
         }
        },
        "title": {
         "text": "Trend of Movies and TV Shows Over the Years"
        },
        "xaxis": {
         "anchor": "y",
         "domain": [
          0,
          1
         ],
         "title": {
          "text": "Year Added"
         }
        },
        "yaxis": {
         "anchor": "x",
         "domain": [
          0,
          1
         ],
         "title": {
          "text": "Count"
         }
        }
       }
      },
      "text/html": [
       "<div>                            <div id=\"459d0096-63b1-4957-bd46-7a37b71337b7\" class=\"plotly-graph-div\" style=\"height:525px; width:100%;\"></div>            <script type=\"text/javascript\">                require([\"plotly\"], function(Plotly) {                    window.PLOTLYENV=window.PLOTLYENV || {};                                    if (document.getElementById(\"459d0096-63b1-4957-bd46-7a37b71337b7\")) {                    Plotly.newPlot(                        \"459d0096-63b1-4957-bd46-7a37b71337b7\",                        [{\"hovertemplate\":\"type=Movie\\u003cbr\\u003eYear Added=%{x}\\u003cbr\\u003eCount=%{y}\\u003cextra\\u003e\\u003c\\u002fextra\\u003e\",\"legendgroup\":\"Movie\",\"line\":{\"color\":\"#636efa\",\"dash\":\"solid\"},\"marker\":{\"symbol\":\"circle\"},\"mode\":\"lines\",\"name\":\"Movie\",\"orientation\":\"v\",\"showlegend\":true,\"x\":[2008.0,2009.0,2010.0,2011.0,2012.0,2013.0,2014.0,2015.0,2016.0,2017.0,2018.0,2019.0,2020.0,2021.0],\"xaxis\":\"x\",\"y\":[1,2,1,13,3,6,14,47,195,698,1082,1229,1149,729],\"yaxis\":\"y\",\"type\":\"scatter\"},{\"hovertemplate\":\"type=TV Show\\u003cbr\\u003eYear Added=%{x}\\u003cbr\\u003eCount=%{y}\\u003cextra\\u003e\\u003c\\u002fextra\\u003e\",\"legendgroup\":\"TV Show\",\"line\":{\"color\":\"#EF553B\",\"dash\":\"solid\"},\"marker\":{\"symbol\":\"circle\"},\"mode\":\"lines\",\"name\":\"TV Show\",\"orientation\":\"v\",\"showlegend\":true,\"x\":[2013.0,2015.0,2016.0,2017.0,2018.0,2019.0,2020.0,2021.0],\"xaxis\":\"x\",\"y\":[1,3,7,20,15,27,43,26],\"yaxis\":\"y\",\"type\":\"scatter\"}],                        {\"template\":{\"data\":{\"histogram2dcontour\":[{\"type\":\"histogram2dcontour\",\"colorbar\":{\"outlinewidth\":0,\"ticks\":\"\"},\"colorscale\":[[0.0,\"#0d0887\"],[0.1111111111111111,\"#46039f\"],[0.2222222222222222,\"#7201a8\"],[0.3333333333333333,\"#9c179e\"],[0.4444444444444444,\"#bd3786\"],[0.5555555555555556,\"#d8576b\"],[0.6666666666666666,\"#ed7953\"],[0.7777777777777778,\"#fb9f3a\"],[0.8888888888888888,\"#fdca26\"],[1.0,\"#f0f921\"]]}],\"choropleth\":[{\"type\":\"choropleth\",\"colorbar\":{\"outlinewidth\":0,\"ticks\":\"\"}}],\"histogram2d\":[{\"type\":\"histogram2d\",\"colorbar\":{\"outlinewidth\":0,\"ticks\":\"\"},\"colorscale\":[[0.0,\"#0d0887\"],[0.1111111111111111,\"#46039f\"],[0.2222222222222222,\"#7201a8\"],[0.3333333333333333,\"#9c179e\"],[0.4444444444444444,\"#bd3786\"],[0.5555555555555556,\"#d8576b\"],[0.6666666666666666,\"#ed7953\"],[0.7777777777777778,\"#fb9f3a\"],[0.8888888888888888,\"#fdca26\"],[1.0,\"#f0f921\"]]}],\"heatmap\":[{\"type\":\"heatmap\",\"colorbar\":{\"outlinewidth\":0,\"ticks\":\"\"},\"colorscale\":[[0.0,\"#0d0887\"],[0.1111111111111111,\"#46039f\"],[0.2222222222222222,\"#7201a8\"],[0.3333333333333333,\"#9c179e\"],[0.4444444444444444,\"#bd3786\"],[0.5555555555555556,\"#d8576b\"],[0.6666666666666666,\"#ed7953\"],[0.7777777777777778,\"#fb9f3a\"],[0.8888888888888888,\"#fdca26\"],[1.0,\"#f0f921\"]]}],\"heatmapgl\":[{\"type\":\"heatmapgl\",\"colorbar\":{\"outlinewidth\":0,\"ticks\":\"\"},\"colorscale\":[[0.0,\"#0d0887\"],[0.1111111111111111,\"#46039f\"],[0.2222222222222222,\"#7201a8\"],[0.3333333333333333,\"#9c179e\"],[0.4444444444444444,\"#bd3786\"],[0.5555555555555556,\"#d8576b\"],[0.6666666666666666,\"#ed7953\"],[0.7777777777777778,\"#fb9f3a\"],[0.8888888888888888,\"#fdca26\"],[1.0,\"#f0f921\"]]}],\"contourcarpet\":[{\"type\":\"contourcarpet\",\"colorbar\":{\"outlinewidth\":0,\"ticks\":\"\"}}],\"contour\":[{\"type\":\"contour\",\"colorbar\":{\"outlinewidth\":0,\"ticks\":\"\"},\"colorscale\":[[0.0,\"#0d0887\"],[0.1111111111111111,\"#46039f\"],[0.2222222222222222,\"#7201a8\"],[0.3333333333333333,\"#9c179e\"],[0.4444444444444444,\"#bd3786\"],[0.5555555555555556,\"#d8576b\"],[0.6666666666666666,\"#ed7953\"],[0.7777777777777778,\"#fb9f3a\"],[0.8888888888888888,\"#fdca26\"],[1.0,\"#f0f921\"]]}],\"surface\":[{\"type\":\"surface\",\"colorbar\":{\"outlinewidth\":0,\"ticks\":\"\"},\"colorscale\":[[0.0,\"#0d0887\"],[0.1111111111111111,\"#46039f\"],[0.2222222222222222,\"#7201a8\"],[0.3333333333333333,\"#9c179e\"],[0.4444444444444444,\"#bd3786\"],[0.5555555555555556,\"#d8576b\"],[0.6666666666666666,\"#ed7953\"],[0.7777777777777778,\"#fb9f3a\"],[0.8888888888888888,\"#fdca26\"],[1.0,\"#f0f921\"]]}],\"mesh3d\":[{\"type\":\"mesh3d\",\"colorbar\":{\"outlinewidth\":0,\"ticks\":\"\"}}],\"scatter\":[{\"fillpattern\":{\"fillmode\":\"overlay\",\"size\":10,\"solidity\":0.2},\"type\":\"scatter\"}],\"parcoords\":[{\"type\":\"parcoords\",\"line\":{\"colorbar\":{\"outlinewidth\":0,\"ticks\":\"\"}}}],\"scatterpolargl\":[{\"type\":\"scatterpolargl\",\"marker\":{\"colorbar\":{\"outlinewidth\":0,\"ticks\":\"\"}}}],\"bar\":[{\"error_x\":{\"color\":\"#2a3f5f\"},\"error_y\":{\"color\":\"#2a3f5f\"},\"marker\":{\"line\":{\"color\":\"#E5ECF6\",\"width\":0.5},\"pattern\":{\"fillmode\":\"overlay\",\"size\":10,\"solidity\":0.2}},\"type\":\"bar\"}],\"scattergeo\":[{\"type\":\"scattergeo\",\"marker\":{\"colorbar\":{\"outlinewidth\":0,\"ticks\":\"\"}}}],\"scatterpolar\":[{\"type\":\"scatterpolar\",\"marker\":{\"colorbar\":{\"outlinewidth\":0,\"ticks\":\"\"}}}],\"histogram\":[{\"marker\":{\"pattern\":{\"fillmode\":\"overlay\",\"size\":10,\"solidity\":0.2}},\"type\":\"histogram\"}],\"scattergl\":[{\"type\":\"scattergl\",\"marker\":{\"colorbar\":{\"outlinewidth\":0,\"ticks\":\"\"}}}],\"scatter3d\":[{\"type\":\"scatter3d\",\"line\":{\"colorbar\":{\"outlinewidth\":0,\"ticks\":\"\"}},\"marker\":{\"colorbar\":{\"outlinewidth\":0,\"ticks\":\"\"}}}],\"scattermapbox\":[{\"type\":\"scattermapbox\",\"marker\":{\"colorbar\":{\"outlinewidth\":0,\"ticks\":\"\"}}}],\"scatterternary\":[{\"type\":\"scatterternary\",\"marker\":{\"colorbar\":{\"outlinewidth\":0,\"ticks\":\"\"}}}],\"scattercarpet\":[{\"type\":\"scattercarpet\",\"marker\":{\"colorbar\":{\"outlinewidth\":0,\"ticks\":\"\"}}}],\"carpet\":[{\"aaxis\":{\"endlinecolor\":\"#2a3f5f\",\"gridcolor\":\"white\",\"linecolor\":\"white\",\"minorgridcolor\":\"white\",\"startlinecolor\":\"#2a3f5f\"},\"baxis\":{\"endlinecolor\":\"#2a3f5f\",\"gridcolor\":\"white\",\"linecolor\":\"white\",\"minorgridcolor\":\"white\",\"startlinecolor\":\"#2a3f5f\"},\"type\":\"carpet\"}],\"table\":[{\"cells\":{\"fill\":{\"color\":\"#EBF0F8\"},\"line\":{\"color\":\"white\"}},\"header\":{\"fill\":{\"color\":\"#C8D4E3\"},\"line\":{\"color\":\"white\"}},\"type\":\"table\"}],\"barpolar\":[{\"marker\":{\"line\":{\"color\":\"#E5ECF6\",\"width\":0.5},\"pattern\":{\"fillmode\":\"overlay\",\"size\":10,\"solidity\":0.2}},\"type\":\"barpolar\"}],\"pie\":[{\"automargin\":true,\"type\":\"pie\"}]},\"layout\":{\"autotypenumbers\":\"strict\",\"colorway\":[\"#636efa\",\"#EF553B\",\"#00cc96\",\"#ab63fa\",\"#FFA15A\",\"#19d3f3\",\"#FF6692\",\"#B6E880\",\"#FF97FF\",\"#FECB52\"],\"font\":{\"color\":\"#2a3f5f\"},\"hovermode\":\"closest\",\"hoverlabel\":{\"align\":\"left\"},\"paper_bgcolor\":\"white\",\"plot_bgcolor\":\"#E5ECF6\",\"polar\":{\"bgcolor\":\"#E5ECF6\",\"angularaxis\":{\"gridcolor\":\"white\",\"linecolor\":\"white\",\"ticks\":\"\"},\"radialaxis\":{\"gridcolor\":\"white\",\"linecolor\":\"white\",\"ticks\":\"\"}},\"ternary\":{\"bgcolor\":\"#E5ECF6\",\"aaxis\":{\"gridcolor\":\"white\",\"linecolor\":\"white\",\"ticks\":\"\"},\"baxis\":{\"gridcolor\":\"white\",\"linecolor\":\"white\",\"ticks\":\"\"},\"caxis\":{\"gridcolor\":\"white\",\"linecolor\":\"white\",\"ticks\":\"\"}},\"coloraxis\":{\"colorbar\":{\"outlinewidth\":0,\"ticks\":\"\"}},\"colorscale\":{\"sequential\":[[0.0,\"#0d0887\"],[0.1111111111111111,\"#46039f\"],[0.2222222222222222,\"#7201a8\"],[0.3333333333333333,\"#9c179e\"],[0.4444444444444444,\"#bd3786\"],[0.5555555555555556,\"#d8576b\"],[0.6666666666666666,\"#ed7953\"],[0.7777777777777778,\"#fb9f3a\"],[0.8888888888888888,\"#fdca26\"],[1.0,\"#f0f921\"]],\"sequentialminus\":[[0.0,\"#0d0887\"],[0.1111111111111111,\"#46039f\"],[0.2222222222222222,\"#7201a8\"],[0.3333333333333333,\"#9c179e\"],[0.4444444444444444,\"#bd3786\"],[0.5555555555555556,\"#d8576b\"],[0.6666666666666666,\"#ed7953\"],[0.7777777777777778,\"#fb9f3a\"],[0.8888888888888888,\"#fdca26\"],[1.0,\"#f0f921\"]],\"diverging\":[[0,\"#8e0152\"],[0.1,\"#c51b7d\"],[0.2,\"#de77ae\"],[0.3,\"#f1b6da\"],[0.4,\"#fde0ef\"],[0.5,\"#f7f7f7\"],[0.6,\"#e6f5d0\"],[0.7,\"#b8e186\"],[0.8,\"#7fbc41\"],[0.9,\"#4d9221\"],[1,\"#276419\"]]},\"xaxis\":{\"gridcolor\":\"white\",\"linecolor\":\"white\",\"ticks\":\"\",\"title\":{\"standoff\":15},\"zerolinecolor\":\"white\",\"automargin\":true,\"zerolinewidth\":2},\"yaxis\":{\"gridcolor\":\"white\",\"linecolor\":\"white\",\"ticks\":\"\",\"title\":{\"standoff\":15},\"zerolinecolor\":\"white\",\"automargin\":true,\"zerolinewidth\":2},\"scene\":{\"xaxis\":{\"backgroundcolor\":\"#E5ECF6\",\"gridcolor\":\"white\",\"linecolor\":\"white\",\"showbackground\":true,\"ticks\":\"\",\"zerolinecolor\":\"white\",\"gridwidth\":2},\"yaxis\":{\"backgroundcolor\":\"#E5ECF6\",\"gridcolor\":\"white\",\"linecolor\":\"white\",\"showbackground\":true,\"ticks\":\"\",\"zerolinecolor\":\"white\",\"gridwidth\":2},\"zaxis\":{\"backgroundcolor\":\"#E5ECF6\",\"gridcolor\":\"white\",\"linecolor\":\"white\",\"showbackground\":true,\"ticks\":\"\",\"zerolinecolor\":\"white\",\"gridwidth\":2}},\"shapedefaults\":{\"line\":{\"color\":\"#2a3f5f\"}},\"annotationdefaults\":{\"arrowcolor\":\"#2a3f5f\",\"arrowhead\":0,\"arrowwidth\":1},\"geo\":{\"bgcolor\":\"white\",\"landcolor\":\"#E5ECF6\",\"subunitcolor\":\"white\",\"showland\":true,\"showlakes\":true,\"lakecolor\":\"white\"},\"title\":{\"x\":0.05},\"mapbox\":{\"style\":\"light\"}}},\"xaxis\":{\"anchor\":\"y\",\"domain\":[0.0,1.0],\"title\":{\"text\":\"Year Added\"}},\"yaxis\":{\"anchor\":\"x\",\"domain\":[0.0,1.0],\"title\":{\"text\":\"Count\"}},\"legend\":{\"title\":{\"text\":\"type\"},\"tracegroupgap\":0},\"title\":{\"text\":\"Trend of Movies and TV Shows Over the Years\"}},                        {\"responsive\": true}                    ).then(function(){\n",
       "                            \n",
       "var gd = document.getElementById('459d0096-63b1-4957-bd46-7a37b71337b7');\n",
       "var x = new MutationObserver(function (mutations, observer) {{\n",
       "        var display = window.getComputedStyle(gd).display;\n",
       "        if (!display || display === 'none') {{\n",
       "            console.log([gd, 'removed!']);\n",
       "            Plotly.purge(gd);\n",
       "            observer.disconnect();\n",
       "        }}\n",
       "}});\n",
       "\n",
       "// Listen for the removal of the full notebook cells\n",
       "var notebookContainer = gd.closest('#notebook-container');\n",
       "if (notebookContainer) {{\n",
       "    x.observe(notebookContainer, {childList: true});\n",
       "}}\n",
       "\n",
       "// Listen for the clearing of the current output cell\n",
       "var outputEl = gd.closest('.output');\n",
       "if (outputEl) {{\n",
       "    x.observe(outputEl, {childList: true});\n",
       "}}\n",
       "\n",
       "                        })                };                });            </script>        </div>"
      ]
     },
     "metadata": {},
     "output_type": "display_data"
    }
   ],
   "source": [
    "type_counts = df.groupby(['year_added', 'type']).size().reset_index(name='count')\n",
    "\n",
    "# line chart using plotly\n",
    "fig = px.line(type_counts, x='year_added', y='count', color='type',\n",
    "              labels={'count': 'Count', 'year_added': 'Year Added'},\n",
    "              title='Trend of Movies and TV Shows Over the Years')\n",
    "\n",
    "fig.show()"
   ]
  },
  {
   "cell_type": "code",
   "execution_count": 54,
   "metadata": {},
   "outputs": [
    {
     "data": {
      "text/html": [
       "<div>\n",
       "<style scoped>\n",
       "    .dataframe tbody tr th:only-of-type {\n",
       "        vertical-align: middle;\n",
       "    }\n",
       "\n",
       "    .dataframe tbody tr th {\n",
       "        vertical-align: top;\n",
       "    }\n",
       "\n",
       "    .dataframe thead th {\n",
       "        text-align: right;\n",
       "    }\n",
       "</style>\n",
       "<table border=\"1\" class=\"dataframe\">\n",
       "  <thead>\n",
       "    <tr style=\"text-align: right;\">\n",
       "      <th></th>\n",
       "      <th>show_id</th>\n",
       "      <th>type</th>\n",
       "      <th>title</th>\n",
       "      <th>director</th>\n",
       "      <th>cast</th>\n",
       "      <th>country</th>\n",
       "      <th>date_added</th>\n",
       "      <th>release_year</th>\n",
       "      <th>rating</th>\n",
       "      <th>duration</th>\n",
       "      <th>listed_in</th>\n",
       "      <th>description</th>\n",
       "      <th>year_added</th>\n",
       "      <th>month_added</th>\n",
       "      <th>day_added</th>\n",
       "      <th>rating_meaningful</th>\n",
       "    </tr>\n",
       "  </thead>\n",
       "  <tbody>\n",
       "    <tr>\n",
       "      <th>7</th>\n",
       "      <td>8</td>\n",
       "      <td>Movie</td>\n",
       "      <td>Sankofa</td>\n",
       "      <td>Haile Gerima</td>\n",
       "      <td>Kofi Ghanaba, Oyafunmike Ogunlano, Alexandra D...</td>\n",
       "      <td>United States, Ghana, Burkina Faso, United Kin...</td>\n",
       "      <td>2021-09-24</td>\n",
       "      <td>1993</td>\n",
       "      <td>TV-MA</td>\n",
       "      <td>125 min</td>\n",
       "      <td>Dramas, Independent Movies, International Movies</td>\n",
       "      <td>On a photo shoot in Ghana, an American model s...</td>\n",
       "      <td>2021.0</td>\n",
       "      <td>9.0</td>\n",
       "      <td>24.0</td>\n",
       "      <td>Mature Audiences</td>\n",
       "    </tr>\n",
       "    <tr>\n",
       "      <th>8</th>\n",
       "      <td>9</td>\n",
       "      <td>TV Show</td>\n",
       "      <td>The Great British Baking Show</td>\n",
       "      <td>Andy Devonshire</td>\n",
       "      <td>Mel Giedroyc, Sue Perkins, Mary Berry, Paul Ho...</td>\n",
       "      <td>United Kingdom</td>\n",
       "      <td>2021-09-24</td>\n",
       "      <td>2021</td>\n",
       "      <td>TV-14</td>\n",
       "      <td>9 Seasons</td>\n",
       "      <td>British TV Shows, Reality TV</td>\n",
       "      <td>A talented batch of amateur bakers face off in...</td>\n",
       "      <td>2021.0</td>\n",
       "      <td>9.0</td>\n",
       "      <td>24.0</td>\n",
       "      <td>Parents Cautioned 14+</td>\n",
       "    </tr>\n",
       "    <tr>\n",
       "      <th>9</th>\n",
       "      <td>10</td>\n",
       "      <td>Movie</td>\n",
       "      <td>The Starling</td>\n",
       "      <td>Theodore Melfi</td>\n",
       "      <td>Melissa McCarthy, Chris O'Dowd, Kevin Kline, T...</td>\n",
       "      <td>United States</td>\n",
       "      <td>2021-09-24</td>\n",
       "      <td>2021</td>\n",
       "      <td>PG-13</td>\n",
       "      <td>104 min</td>\n",
       "      <td>Comedies, Dramas</td>\n",
       "      <td>A woman adjusting to life after a loss contend...</td>\n",
       "      <td>2021.0</td>\n",
       "      <td>9.0</td>\n",
       "      <td>24.0</td>\n",
       "      <td>Parental Guidance 13+</td>\n",
       "    </tr>\n",
       "    <tr>\n",
       "      <th>12</th>\n",
       "      <td>13</td>\n",
       "      <td>Movie</td>\n",
       "      <td>Je Suis Karl</td>\n",
       "      <td>Christian Schwochow</td>\n",
       "      <td>Luna Wedler, Jannis Niewöhner, Milan Peschel, ...</td>\n",
       "      <td>Germany, Czech Republic</td>\n",
       "      <td>2021-09-23</td>\n",
       "      <td>2021</td>\n",
       "      <td>TV-MA</td>\n",
       "      <td>127 min</td>\n",
       "      <td>Dramas, International Movies</td>\n",
       "      <td>After most of her family is murdered in a terr...</td>\n",
       "      <td>2021.0</td>\n",
       "      <td>9.0</td>\n",
       "      <td>23.0</td>\n",
       "      <td>Mature Audiences</td>\n",
       "    </tr>\n",
       "    <tr>\n",
       "      <th>24</th>\n",
       "      <td>25</td>\n",
       "      <td>Movie</td>\n",
       "      <td>Jeans</td>\n",
       "      <td>S. Shankar</td>\n",
       "      <td>Prashanth, Aishwarya Rai Bachchan, Sri Lakshmi...</td>\n",
       "      <td>India</td>\n",
       "      <td>2021-09-21</td>\n",
       "      <td>1998</td>\n",
       "      <td>TV-14</td>\n",
       "      <td>166 min</td>\n",
       "      <td>Comedies, International Movies, Romantic Movies</td>\n",
       "      <td>When the father of the man she loves insists t...</td>\n",
       "      <td>2021.0</td>\n",
       "      <td>9.0</td>\n",
       "      <td>21.0</td>\n",
       "      <td>Parents Cautioned 14+</td>\n",
       "    </tr>\n",
       "  </tbody>\n",
       "</table>\n",
       "</div>"
      ],
      "text/plain": [
       "    show_id     type                          title             director  \\\n",
       "7         8    Movie                        Sankofa         Haile Gerima   \n",
       "8         9  TV Show  The Great British Baking Show      Andy Devonshire   \n",
       "9        10    Movie                   The Starling       Theodore Melfi   \n",
       "12       13    Movie                   Je Suis Karl  Christian Schwochow   \n",
       "24       25    Movie                          Jeans           S. Shankar   \n",
       "\n",
       "                                                 cast  \\\n",
       "7   Kofi Ghanaba, Oyafunmike Ogunlano, Alexandra D...   \n",
       "8   Mel Giedroyc, Sue Perkins, Mary Berry, Paul Ho...   \n",
       "9   Melissa McCarthy, Chris O'Dowd, Kevin Kline, T...   \n",
       "12  Luna Wedler, Jannis Niewöhner, Milan Peschel, ...   \n",
       "24  Prashanth, Aishwarya Rai Bachchan, Sri Lakshmi...   \n",
       "\n",
       "                                              country date_added  \\\n",
       "7   United States, Ghana, Burkina Faso, United Kin... 2021-09-24   \n",
       "8                                      United Kingdom 2021-09-24   \n",
       "9                                       United States 2021-09-24   \n",
       "12                            Germany, Czech Republic 2021-09-23   \n",
       "24                                              India 2021-09-21   \n",
       "\n",
       "    release_year rating   duration  \\\n",
       "7           1993  TV-MA    125 min   \n",
       "8           2021  TV-14  9 Seasons   \n",
       "9           2021  PG-13    104 min   \n",
       "12          2021  TV-MA    127 min   \n",
       "24          1998  TV-14    166 min   \n",
       "\n",
       "                                           listed_in  \\\n",
       "7   Dramas, Independent Movies, International Movies   \n",
       "8                       British TV Shows, Reality TV   \n",
       "9                                   Comedies, Dramas   \n",
       "12                      Dramas, International Movies   \n",
       "24   Comedies, International Movies, Romantic Movies   \n",
       "\n",
       "                                          description  year_added  \\\n",
       "7   On a photo shoot in Ghana, an American model s...      2021.0   \n",
       "8   A talented batch of amateur bakers face off in...      2021.0   \n",
       "9   A woman adjusting to life after a loss contend...      2021.0   \n",
       "12  After most of her family is murdered in a terr...      2021.0   \n",
       "24  When the father of the man she loves insists t...      2021.0   \n",
       "\n",
       "    month_added  day_added      rating_meaningful  \n",
       "7           9.0       24.0       Mature Audiences  \n",
       "8           9.0       24.0  Parents Cautioned 14+  \n",
       "9           9.0       24.0  Parental Guidance 13+  \n",
       "12          9.0       23.0       Mature Audiences  \n",
       "24          9.0       21.0  Parents Cautioned 14+  "
      ]
     },
     "execution_count": 54,
     "metadata": {},
     "output_type": "execute_result"
    }
   ],
   "source": [
    "df.head()"
   ]
  },
  {
   "cell_type": "code",
   "execution_count": 61,
   "metadata": {},
   "outputs": [
    {
     "data": {
      "application/vnd.plotly.v1+json": {
       "config": {
        "plotlyServerURL": "https://plot.ly"
       },
       "data": [
        {
         "alignmentgroup": "True",
         "hovertemplate": "Time Gap (Years)=%{y}<extra></extra>",
         "legendgroup": "",
         "marker": {
          "color": "#636efa"
         },
         "name": "",
         "notched": false,
         "offsetgroup": "",
         "orientation": "v",
         "showlegend": false,
         "type": "box",
         "x0": " ",
         "xaxis": "x",
         "y": [
          28,
          0,
          0,
          0,
          23,
          11,
          8,
          8,
          4,
          46,
          43,
          38,
          34,
          9,
          20,
          19,
          18,
          17,
          20,
          10,
          13,
          12,
          14,
          11,
          16,
          15,
          17,
          3,
          0,
          1,
          2,
          3,
          3,
          4,
          3,
          27,
          12,
          6,
          4,
          18,
          1,
          17,
          16,
          39,
          6,
          27,
          28,
          18,
          20,
          11,
          32,
          7,
          6,
          14,
          10,
          31,
          30,
          27,
          23,
          22,
          16,
          5,
          35,
          11,
          3,
          18,
          11,
          25,
          4,
          18,
          22,
          37,
          13,
          20,
          15,
          24,
          4,
          18,
          6,
          18,
          41,
          35,
          60,
          7,
          25,
          13,
          28,
          13,
          0,
          4,
          13,
          13,
          0,
          15,
          17,
          18,
          16,
          5,
          9,
          20,
          11,
          13,
          11,
          8,
          10,
          7,
          14,
          10,
          10,
          1,
          7,
          1,
          0,
          0,
          10,
          26,
          3,
          7,
          28,
          0,
          0,
          0,
          0,
          0,
          5,
          1,
          0,
          8,
          9,
          0,
          0,
          0,
          1,
          0,
          0,
          8,
          36,
          0,
          28,
          5,
          0,
          9,
          26,
          11,
          10,
          29,
          28,
          14,
          5,
          19,
          12,
          22,
          35,
          2,
          15,
          14,
          11,
          22,
          26,
          30,
          27,
          6,
          13,
          12,
          2,
          18,
          21,
          17,
          5,
          8,
          30,
          10,
          11,
          17,
          26,
          21,
          11,
          7,
          8,
          0,
          0,
          9,
          2,
          9,
          0,
          0,
          8,
          12,
          0,
          1,
          1,
          0,
          0,
          0,
          4,
          4,
          10,
          9,
          11,
          12,
          13,
          0,
          14,
          0,
          2,
          6,
          5,
          4,
          4,
          3,
          6,
          7,
          11,
          0,
          0,
          2,
          1,
          9,
          45,
          3,
          2,
          3,
          62,
          0,
          1,
          8,
          0,
          3,
          9,
          24,
          19,
          24,
          22,
          24,
          21,
          26,
          28,
          2,
          2,
          13,
          10,
          11,
          2,
          16,
          33,
          26,
          5,
          10,
          20,
          3,
          2,
          13,
          11,
          21,
          12,
          22,
          2,
          15,
          11,
          2,
          24,
          37,
          35,
          32,
          18,
          41,
          15,
          13,
          19,
          11,
          18,
          9,
          12,
          1,
          23,
          23,
          0,
          2,
          9,
          2,
          11,
          0,
          0,
          5,
          18,
          7,
          5,
          6,
          2,
          3,
          0,
          1,
          2,
          1,
          2,
          9,
          2,
          5,
          0,
          49,
          8,
          1,
          16,
          7,
          7,
          0,
          0,
          0,
          0,
          0,
          7,
          9,
          0,
          7,
          2,
          0,
          8,
          0,
          7,
          3,
          1,
          0,
          0,
          0,
          0,
          0,
          0,
          0,
          0,
          2,
          1,
          9,
          20,
          12,
          21,
          24,
          0,
          10,
          8,
          18,
          20,
          6,
          13,
          11,
          24,
          2,
          10,
          20,
          24,
          17,
          9,
          10,
          12,
          15,
          15,
          7,
          17,
          37,
          20,
          40,
          16,
          6,
          25,
          45,
          3,
          2,
          2,
          3,
          0,
          5,
          0,
          0,
          0,
          3,
          0,
          6,
          0,
          0,
          10,
          10,
          7,
          4,
          0,
          0,
          5,
          0,
          0,
          0,
          0,
          0,
          0,
          3,
          1,
          0,
          17,
          3,
          0,
          0,
          1,
          2,
          0,
          4,
          0,
          22,
          0,
          0,
          1,
          4,
          1,
          8,
          2,
          3,
          1,
          15,
          32,
          11,
          16,
          11,
          12,
          3,
          9,
          18,
          13,
          3,
          1,
          27,
          12,
          3,
          10,
          12,
          19,
          21,
          5,
          3,
          29,
          13,
          0,
          3,
          0,
          7,
          10,
          3,
          1,
          2,
          4,
          5,
          7,
          8,
          6,
          17,
          6,
          0,
          6,
          6,
          5,
          0,
          4,
          6,
          1,
          1,
          20,
          0,
          0,
          6,
          0,
          5,
          29,
          10,
          11,
          13,
          20,
          17,
          11,
          14,
          0,
          0,
          0,
          6,
          8,
          1,
          1,
          8,
          1,
          4,
          4,
          0,
          1,
          5,
          2,
          2,
          0,
          9,
          7,
          40,
          0,
          1,
          1,
          0,
          1,
          0,
          5,
          0,
          0,
          0,
          1,
          0,
          1,
          1,
          8,
          15,
          3,
          9,
          0,
          2,
          3,
          0,
          0,
          0,
          13,
          4,
          12,
          12,
          9,
          11,
          6,
          5,
          20,
          1,
          25,
          57,
          4,
          4,
          5,
          4,
          11,
          0,
          2,
          19,
          12,
          22,
          5,
          4,
          13,
          3,
          1,
          0,
          0,
          8,
          9,
          0,
          23,
          1,
          1,
          0,
          0,
          0,
          0,
          0,
          8,
          1,
          1,
          1,
          0,
          1,
          0,
          0,
          0,
          1,
          7,
          1,
          4,
          0,
          7,
          0,
          9,
          0,
          5,
          6,
          1,
          6,
          0,
          11,
          8,
          0,
          5,
          0,
          1,
          1,
          0,
          0,
          0,
          0,
          1,
          0,
          1,
          8,
          8,
          0,
          7,
          1,
          0,
          31,
          3,
          2,
          33,
          15,
          0,
          5,
          0,
          15,
          6,
          10,
          0,
          13,
          7,
          0,
          1,
          0,
          0,
          8,
          5,
          1,
          3,
          0,
          1,
          0,
          2,
          3,
          0,
          19,
          4,
          3,
          0,
          1,
          0,
          2,
          0,
          0,
          3,
          1,
          9,
          0,
          0,
          13,
          0,
          2,
          5,
          1,
          4,
          4,
          1,
          0,
          0,
          1,
          0,
          1,
          1,
          1,
          24,
          2,
          11,
          13,
          1,
          16,
          1,
          3,
          0,
          0,
          0,
          0,
          0,
          1,
          0,
          3,
          1,
          11,
          0,
          1,
          1,
          1,
          1,
          8,
          5,
          1,
          3,
          1,
          0,
          7,
          2,
          1,
          0,
          0,
          0,
          10,
          1,
          4,
          2,
          1,
          10,
          16,
          16,
          0,
          18,
          3,
          0,
          1,
          5,
          1,
          1,
          22,
          9,
          1,
          7,
          12,
          34,
          1,
          8,
          24,
          12,
          14,
          4,
          10,
          33,
          7,
          2,
          10,
          0,
          28,
          3,
          6,
          0,
          1,
          0,
          0,
          9,
          0,
          0,
          0,
          0,
          1,
          0,
          1,
          2,
          1,
          8,
          0,
          0,
          0,
          0,
          0,
          0,
          0,
          2,
          1,
          0,
          8,
          0,
          0,
          14,
          0,
          16,
          11,
          0,
          2,
          1,
          3,
          1,
          0,
          0,
          8,
          4,
          7,
          4,
          0,
          2,
          1,
          0,
          0,
          0,
          0,
          0,
          4,
          7,
          1,
          1,
          0,
          0,
          0,
          0,
          4,
          0,
          0,
          0,
          0,
          0,
          0,
          0,
          1,
          2,
          0,
          7,
          0,
          0,
          6,
          0,
          11,
          6,
          6,
          14,
          0,
          2,
          30,
          14,
          2,
          0,
          0,
          2,
          1,
          0,
          0,
          0,
          0,
          0,
          0,
          2,
          0,
          0,
          3,
          0,
          0,
          0,
          5,
          0,
          0,
          0,
          0,
          0,
          2,
          0,
          7,
          1,
          0,
          0,
          16,
          9,
          10,
          5,
          10,
          4,
          9,
          4,
          0,
          2,
          11,
          0,
          0,
          4,
          3,
          7,
          2,
          66,
          1,
          0,
          0,
          0,
          0,
          12,
          2,
          7,
          0,
          1,
          12,
          0,
          0,
          0,
          0,
          1,
          4,
          0,
          1,
          0,
          8,
          0,
          2,
          0,
          0,
          0,
          2,
          1,
          0,
          0,
          2,
          31,
          2,
          2,
          4,
          8,
          26,
          0,
          3,
          2,
          1,
          0,
          3,
          0,
          0,
          0,
          7,
          0,
          7,
          0,
          0,
          0,
          11,
          2,
          1,
          1,
          0,
          2,
          0,
          2,
          1,
          2,
          2,
          0,
          0,
          0,
          0,
          0,
          45,
          15,
          7,
          6,
          3,
          29,
          3,
          8,
          17,
          38,
          13,
          21,
          2,
          40,
          15,
          8,
          0,
          2,
          4,
          0,
          0,
          6,
          0,
          4,
          2,
          3,
          0,
          0,
          0,
          16,
          0,
          30,
          38,
          5,
          14,
          18,
          3,
          0,
          2,
          0,
          0,
          16,
          0,
          0,
          0,
          1,
          0,
          3,
          0,
          0,
          2,
          4,
          0,
          0,
          0,
          3,
          0,
          0,
          0,
          3,
          1,
          7,
          4,
          4,
          15,
          0,
          0,
          2,
          1,
          2,
          0,
          0,
          0,
          18,
          7,
          6,
          12,
          17,
          11,
          13,
          21,
          13,
          13,
          5,
          9,
          0,
          0,
          2,
          4,
          3,
          3,
          4,
          4,
          1,
          7,
          5,
          7,
          4,
          6,
          0,
          0,
          6,
          0,
          0,
          0,
          0,
          0,
          4,
          0,
          0,
          18,
          7,
          2,
          0,
          6,
          0,
          2,
          2,
          1,
          1,
          2,
          3,
          0,
          1,
          2,
          4,
          4,
          3,
          2,
          0,
          0,
          0,
          0,
          0,
          0,
          10,
          0,
          0,
          1,
          1,
          5,
          0,
          2,
          0,
          0,
          11,
          0,
          2,
          4,
          0,
          1,
          4,
          9,
          12,
          22,
          2,
          0,
          0,
          9,
          0,
          0,
          0,
          0,
          0,
          0,
          0,
          22,
          0,
          4,
          1,
          0,
          4,
          0,
          0,
          0,
          0,
          1,
          0,
          1,
          3,
          0,
          8,
          6,
          11,
          0,
          2,
          0,
          0,
          1,
          4,
          8,
          0,
          6,
          0,
          0,
          0,
          0,
          2,
          0,
          0,
          0,
          0,
          0,
          0,
          0,
          3,
          0,
          0,
          3,
          2,
          0,
          0,
          0,
          0,
          3,
          0,
          4,
          1,
          0,
          0,
          0,
          0,
          0,
          4,
          0,
          0,
          1,
          0,
          0,
          0,
          0,
          1,
          1,
          0,
          2,
          1,
          0,
          2,
          1,
          2,
          0,
          0,
          4,
          2,
          0,
          1,
          2,
          0,
          2,
          8,
          1,
          8,
          9,
          8,
          7,
          7,
          4,
          7,
          5,
          5,
          5,
          6,
          0,
          7,
          7,
          6,
          9,
          6,
          8,
          6,
          1,
          1,
          8,
          5,
          6,
          9,
          7,
          9,
          7,
          0,
          0,
          3,
          1,
          0,
          1,
          1,
          0,
          5,
          1,
          21,
          6,
          13,
          1,
          30,
          0,
          0,
          9,
          0,
          1,
          0,
          0,
          1,
          4,
          1,
          0,
          5,
          14,
          0,
          0,
          0,
          0,
          3,
          3,
          1,
          0,
          23,
          0,
          0,
          0,
          26,
          0,
          0,
          41,
          31,
          38,
          62,
          64,
          1,
          0,
          57,
          10,
          66,
          50,
          6,
          2,
          0,
          8,
          4,
          7,
          1,
          1,
          0,
          0,
          0,
          0,
          0,
          2,
          6,
          12,
          0,
          11,
          2,
          3,
          0,
          0,
          2,
          0,
          4,
          6,
          0,
          1,
          1,
          0,
          3,
          3,
          13,
          3,
          12,
          14,
          14,
          8,
          12,
          16,
          14,
          9,
          1,
          0,
          3,
          1,
          2,
          3,
          4,
          1,
          2,
          0,
          21,
          6,
          5,
          0,
          1,
          0,
          1,
          1,
          1,
          0,
          0,
          1,
          2,
          0,
          0,
          2,
          39,
          1,
          41,
          39,
          47,
          44,
          10,
          0,
          6,
          10,
          0,
          0,
          14,
          11,
          8,
          13,
          12,
          11,
          0,
          14,
          16,
          8,
          15,
          1,
          1,
          3,
          1,
          0,
          0,
          2,
          1,
          2,
          0,
          2,
          2,
          2,
          8,
          0,
          1,
          0,
          10,
          26,
          0,
          0,
          0,
          0,
          4,
          1,
          0,
          2,
          0,
          0,
          1,
          0,
          1,
          0,
          1,
          0,
          1,
          7,
          0,
          0,
          0,
          2,
          1,
          0,
          12,
          8,
          0,
          0,
          0,
          13,
          17,
          0,
          0,
          0,
          0,
          4,
          1,
          1,
          14,
          4,
          12,
          9,
          4,
          3,
          4,
          11,
          15,
          1,
          8,
          1,
          0,
          0,
          0,
          10,
          15,
          14,
          9,
          10,
          11,
          12,
          11,
          1,
          0,
          4,
          1,
          1,
          0,
          2,
          1,
          1,
          0,
          0,
          0,
          2,
          0,
          0,
          0,
          1,
          1,
          0,
          4,
          5,
          0,
          5,
          1,
          2,
          1,
          0,
          0,
          2,
          2,
          1,
          0,
          1,
          0,
          1,
          0,
          1,
          10,
          3,
          1,
          3,
          1,
          3,
          1,
          0,
          3,
          1,
          30,
          5,
          8,
          0,
          12,
          36,
          22,
          40,
          7,
          27,
          6,
          6,
          15,
          14,
          19,
          17,
          4,
          22,
          5,
          33,
          0,
          3,
          10,
          6,
          2,
          0,
          4,
          3,
          1,
          2,
          1,
          0,
          1,
          0,
          0,
          0,
          1,
          0,
          0,
          1,
          1,
          1,
          2,
          0,
          0,
          3,
          0,
          1,
          0,
          0,
          3,
          3,
          0,
          6,
          1,
          0,
          2,
          0,
          1,
          0,
          0,
          1,
          0,
          0,
          3,
          0,
          1,
          1,
          0,
          0,
          4,
          1,
          10,
          1,
          15,
          4,
          2,
          1,
          0,
          1,
          1,
          9,
          0,
          1,
          4,
          9,
          4,
          3,
          13,
          2,
          0,
          1,
          0,
          4,
          5,
          5,
          4,
          6,
          0,
          1,
          1,
          2,
          0,
          1,
          0,
          0,
          8,
          5,
          1,
          5,
          3,
          4,
          4,
          1,
          1,
          3,
          0,
          10,
          1,
          2,
          1,
          1,
          5,
          0,
          3,
          1,
          2,
          1,
          1,
          1,
          2,
          0,
          1,
          3,
          6,
          1,
          0,
          0,
          1,
          0,
          1,
          0,
          4,
          26,
          3,
          2,
          1,
          1,
          1,
          21,
          0,
          4,
          3,
          0,
          11,
          2,
          0,
          1,
          0,
          3,
          1,
          5,
          0,
          0,
          0,
          16,
          0,
          1,
          1,
          0,
          7,
          0,
          1,
          9,
          1,
          5,
          1,
          5,
          2,
          1,
          3,
          1,
          0,
          1,
          2,
          1,
          0,
          6,
          0,
          3,
          0,
          0,
          3,
          2,
          6,
          13,
          12,
          11,
          0,
          5,
          19,
          14,
          2,
          3,
          11,
          0,
          0,
          0,
          0,
          0,
          6,
          1,
          0,
          0,
          0,
          2,
          0,
          0,
          2,
          0,
          0,
          0,
          0,
          0,
          2,
          5,
          4,
          0,
          0,
          1,
          4,
          4,
          1,
          18,
          4,
          13,
          8,
          6,
          8,
          7,
          12,
          2,
          9,
          15,
          10,
          2,
          11,
          7,
          8,
          0,
          3,
          2,
          0,
          0,
          0,
          2,
          0,
          0,
          2,
          0,
          0,
          2,
          0,
          2,
          2,
          0,
          3,
          2,
          0,
          0,
          0,
          0,
          5,
          0,
          0,
          2,
          2,
          1,
          0,
          2,
          0,
          4,
          0,
          0,
          0,
          1,
          0,
          3,
          1,
          2,
          1,
          0,
          11,
          0,
          0,
          0,
          0,
          0,
          0,
          2,
          0,
          4,
          0,
          0,
          0,
          0,
          0,
          0,
          0,
          5,
          4,
          6,
          0,
          0,
          0,
          0,
          0,
          8,
          0,
          1,
          6,
          0,
          0,
          10,
          0,
          0,
          3,
          0,
          1,
          0,
          0,
          2,
          0,
          0,
          3,
          0,
          5,
          7,
          2,
          2,
          6,
          3,
          4,
          9,
          4,
          0,
          0,
          2,
          1,
          0,
          0,
          1,
          0,
          0,
          0,
          3,
          0,
          0,
          3,
          0,
          0,
          1,
          5,
          0,
          0,
          1,
          0,
          0,
          0,
          1,
          0,
          3,
          1,
          2,
          0,
          2,
          0,
          2,
          0,
          1,
          0,
          2,
          0,
          4,
          1,
          5,
          0,
          0,
          2,
          0,
          0,
          0,
          0,
          0,
          0,
          0,
          0,
          1,
          0,
          0,
          0,
          0,
          0,
          0,
          3,
          1,
          0,
          19,
          21,
          14,
          0,
          0,
          0,
          1,
          0,
          0,
          6,
          0,
          0,
          0,
          1,
          10,
          0,
          0,
          0,
          1,
          0,
          0,
          7,
          0,
          13,
          0,
          0,
          1,
          0,
          0,
          0,
          0,
          1,
          1,
          0,
          3,
          0,
          13,
          5,
          15,
          0,
          1,
          0,
          1,
          0,
          0,
          0,
          0,
          3,
          0,
          1,
          0,
          0,
          1,
          0,
          4,
          0,
          0,
          0,
          0,
          0,
          0,
          0,
          0,
          1,
          0,
          0,
          5,
          7,
          0,
          3,
          4,
          4,
          5,
          3,
          0,
          2,
          2,
          0,
          1,
          0,
          1,
          0,
          0,
          0,
          1,
          1,
          11,
          6,
          15,
          12,
          0,
          0,
          0,
          1,
          1,
          0,
          0,
          1,
          0,
          0,
          0,
          0,
          0,
          0,
          0,
          1,
          2,
          0,
          0,
          7,
          0,
          0,
          0,
          0,
          21,
          22,
          0,
          0,
          0,
          0,
          4,
          1,
          0,
          1,
          0,
          0,
          0,
          0,
          0,
          0,
          1,
          0,
          0,
          0,
          0,
          0,
          1,
          0,
          0,
          3,
          4,
          0,
          0,
          2,
          0,
          0,
          0,
          0,
          0,
          0,
          0,
          0,
          0,
          1,
          0,
          0,
          0,
          0,
          0,
          1,
          0,
          1,
          0,
          0,
          1,
          1,
          0,
          8,
          1,
          0,
          1,
          0,
          0,
          0,
          0,
          1,
          0,
          1,
          6,
          1,
          0,
          1,
          0,
          0,
          0,
          1,
          0,
          0,
          1,
          1,
          0,
          0,
          0,
          5,
          0,
          6,
          18,
          14,
          16,
          16,
          16,
          1,
          14,
          3,
          1,
          0,
          5,
          6,
          0,
          0,
          0,
          0,
          1,
          0,
          0,
          1,
          0,
          4,
          0,
          3,
          1,
          2,
          0,
          1,
          0,
          0,
          0,
          2,
          11,
          0,
          1,
          1,
          2,
          1,
          0,
          5,
          3,
          3,
          3,
          3,
          0,
          1,
          0,
          5,
          1,
          2,
          0,
          1,
          13,
          8,
          7,
          11,
          1,
          1,
          12,
          3,
          3,
          2,
          2,
          0,
          1,
          0,
          0,
          0,
          1,
          7,
          5,
          4,
          4,
          0,
          4,
          8,
          1,
          1,
          1,
          5,
          1,
          7,
          0,
          1,
          11,
          1,
          1,
          4,
          4,
          5,
          2,
          1,
          6,
          6,
          2,
          5,
          4,
          7,
          13,
          1,
          1,
          3,
          0,
          0,
          0,
          1,
          1,
          18,
          2,
          1,
          4,
          1,
          2,
          7,
          2,
          15,
          7,
          4,
          1,
          13,
          17,
          1,
          11,
          1,
          0,
          0,
          0,
          0,
          1,
          0,
          1,
          2,
          1,
          5,
          1,
          0,
          1,
          2,
          9,
          2,
          1,
          1,
          7,
          1,
          3,
          4,
          2,
          1,
          1,
          1,
          1,
          2,
          0,
          1,
          0,
          1,
          3,
          1,
          2,
          1,
          1,
          0,
          3,
          2,
          1,
          2,
          1,
          0,
          1,
          1,
          1,
          20,
          1,
          1,
          44,
          4,
          1,
          7,
          2,
          2,
          2,
          9,
          27,
          26,
          25,
          29,
          31,
          27,
          27,
          0,
          28,
          7,
          10,
          6,
          7,
          0,
          6,
          0,
          0,
          0,
          0,
          7,
          0,
          6,
          3,
          4,
          0,
          0,
          0,
          0,
          0,
          4,
          4,
          4,
          0,
          4,
          0,
          1,
          0,
          0,
          0,
          0,
          0,
          0,
          0,
          0,
          0,
          0,
          0,
          7,
          9,
          0,
          5,
          4,
          4,
          0,
          7,
          4,
          3,
          3,
          2,
          9,
          8,
          1,
          5,
          10,
          0,
          0,
          0,
          0,
          0,
          0,
          0,
          0,
          0,
          0,
          0,
          0,
          0,
          0,
          0,
          11,
          0,
          0,
          0,
          0,
          1,
          0,
          0,
          0,
          0,
          1,
          0,
          9,
          1,
          0,
          0,
          0,
          0,
          0,
          0,
          9,
          10,
          3,
          5,
          7,
          0,
          6,
          8,
          0,
          12,
          11,
          9,
          8,
          0,
          1,
          3,
          5,
          6,
          11,
          6,
          5,
          6,
          5,
          5,
          6,
          12,
          3,
          11,
          5,
          10,
          4,
          7,
          10,
          8,
          4,
          5,
          5,
          4,
          3,
          1,
          2,
          10,
          7,
          0,
          3,
          12,
          0,
          0,
          0,
          0,
          0,
          0,
          0,
          0,
          0,
          0,
          5,
          2,
          0,
          0,
          0,
          1,
          0,
          0,
          0,
          0,
          0,
          0,
          0,
          0,
          0,
          0,
          0,
          0,
          0,
          1,
          1,
          1,
          6,
          4,
          18,
          36,
          4,
          39,
          29,
          2,
          1,
          9,
          4,
          2,
          9,
          9,
          4,
          6,
          5,
          4,
          9,
          1,
          4,
          10,
          3,
          9,
          0,
          4,
          9,
          10,
          9,
          2,
          6,
          13,
          1,
          2,
          6,
          7,
          7,
          0,
          0,
          9,
          4,
          5,
          5,
          2,
          2,
          3,
          4,
          5,
          10,
          5,
          3,
          1,
          6,
          5,
          2,
          8,
          6,
          9,
          8,
          3,
          2,
          6,
          0,
          0,
          0,
          0,
          0,
          0,
          0,
          0,
          0,
          0,
          0,
          0,
          0,
          4,
          0,
          0,
          1,
          0,
          0,
          1,
          0,
          1,
          0,
          1,
          1,
          1,
          6,
          0,
          20,
          0,
          0,
          1,
          1,
          1,
          0,
          1,
          1,
          0,
          0,
          0,
          3,
          0,
          0,
          0,
          0,
          4,
          2,
          0,
          0,
          0,
          7,
          7,
          10,
          2,
          18,
          8,
          4,
          4,
          8,
          6,
          9,
          2,
          8,
          12,
          6,
          3,
          6,
          7,
          13,
          0,
          1,
          13,
          6,
          1,
          0,
          0,
          0,
          0,
          0,
          0,
          0,
          0,
          0,
          0,
          0,
          0,
          0,
          0,
          0,
          0,
          0,
          0,
          5,
          6,
          6,
          6,
          0,
          12,
          5,
          15,
          5,
          0,
          8,
          0,
          11,
          3,
          8,
          0,
          6,
          1,
          0,
          0,
          0,
          0,
          0,
          4,
          0,
          2,
          0,
          0,
          0,
          0,
          0,
          1,
          1,
          0,
          0,
          0,
          1,
          1,
          0,
          3,
          0,
          0,
          0,
          0,
          0,
          0,
          11,
          0,
          39,
          0,
          1,
          0,
          0,
          0,
          11,
          0,
          0,
          0,
          0,
          0,
          0,
          1,
          1,
          0,
          1,
          1,
          1,
          0,
          1,
          0,
          0,
          10,
          2,
          1,
          1,
          1,
          1,
          0,
          1,
          0,
          0,
          1,
          0,
          0,
          0,
          0,
          0,
          1,
          1,
          0,
          0,
          1,
          0,
          0,
          0,
          1,
          0,
          0,
          1,
          0,
          0,
          0,
          1,
          1,
          9,
          6,
          14,
          2,
          11,
          13,
          18,
          1,
          0,
          0,
          0,
          0,
          9,
          12,
          0,
          2,
          0,
          2,
          0,
          0,
          1,
          0,
          2,
          2,
          1,
          0,
          0,
          0,
          0,
          0,
          1,
          0,
          0,
          0,
          1,
          0,
          20,
          11,
          1,
          2,
          2,
          1,
          1,
          14,
          4,
          4,
          4,
          10,
          14,
          2,
          14,
          1,
          0,
          1,
          0,
          1,
          1,
          0,
          0,
          0,
          0,
          0,
          0,
          0,
          0,
          1,
          1,
          1,
          1,
          20,
          1,
          0,
          0,
          0,
          1,
          0,
          0,
          0,
          0,
          0,
          1,
          0,
          1,
          38,
          32,
          1,
          1,
          0,
          0,
          1,
          2,
          0,
          1,
          8,
          0,
          0,
          1,
          0,
          0,
          0,
          0,
          0,
          0,
          0,
          0,
          0,
          1,
          0,
          0,
          0,
          0,
          2,
          0,
          0,
          31,
          26,
          0,
          0,
          0,
          0,
          0,
          0,
          0,
          0,
          1,
          0,
          0,
          1,
          0,
          0,
          0,
          0,
          0,
          0,
          0,
          0,
          0,
          0,
          0,
          0,
          15,
          1,
          0,
          39,
          1,
          1,
          1,
          0,
          0,
          1,
          0,
          0,
          0,
          1,
          2,
          0,
          0,
          0,
          0,
          0,
          0,
          0,
          2,
          57,
          1,
          1,
          0,
          0,
          0,
          1,
          0,
          0,
          0,
          5,
          0,
          1,
          1,
          0,
          0,
          0,
          2,
          0,
          3,
          0,
          0,
          1,
          0,
          0,
          0,
          0,
          0,
          0,
          0,
          1,
          0,
          29,
          5,
          4,
          11,
          34,
          44,
          0,
          43,
          28,
          1,
          1,
          33,
          1,
          1,
          1,
          0,
          1,
          0,
          1,
          0,
          0,
          0,
          6,
          0,
          0,
          2,
          0,
          0,
          2,
          0,
          2,
          0,
          0,
          2,
          2,
          1,
          0,
          0,
          0,
          0,
          1,
          1,
          1,
          1,
          1,
          2,
          0,
          0,
          0,
          0,
          0,
          0,
          0,
          0,
          3,
          3,
          0,
          0,
          5,
          1,
          6,
          51,
          -1,
          46,
          4,
          55,
          1,
          23,
          1,
          0,
          0,
          2,
          0,
          1,
          0,
          0,
          0,
          0,
          0,
          0,
          0,
          0,
          0,
          0,
          1,
          1,
          0,
          24,
          0,
          1,
          0,
          0,
          2,
          1,
          0,
          24,
          22,
          48,
          19,
          1,
          0,
          0,
          0,
          0,
          0,
          1,
          0,
          0,
          0,
          25,
          23,
          1,
          22,
          1,
          1,
          0,
          0,
          0,
          0,
          0,
          0,
          0,
          0,
          1,
          21,
          21,
          1,
          1,
          0,
          2,
          1,
          1,
          0,
          0,
          1,
          1,
          1,
          0,
          0,
          0,
          0,
          3,
          3,
          1,
          0,
          1,
          1,
          1,
          0,
          1,
          1,
          0,
          1,
          0,
          1,
          1,
          46,
          2,
          3,
          42,
          0,
          1,
          1,
          1,
          0,
          0,
          0,
          1,
          0,
          0,
          1,
          0,
          1,
          25,
          16,
          11,
          1,
          16,
          0,
          1,
          0,
          4,
          0,
          1,
          0,
          1,
          2,
          2,
          0,
          0,
          1,
          1,
          1,
          1,
          2,
          1,
          2,
          0,
          0,
          1,
          0,
          0,
          3,
          2,
          3,
          2,
          1,
          1,
          3,
          0,
          2,
          1,
          0,
          1,
          0,
          0,
          1,
          0,
          0,
          9,
          3,
          3,
          3,
          0,
          2,
          0,
          1,
          0,
          4,
          1,
          1,
          0,
          1,
          10,
          6,
          1,
          0,
          0,
          0,
          0,
          0,
          0,
          0,
          1,
          1,
          4,
          0,
          0,
          0,
          1,
          0,
          0,
          0,
          0,
          0,
          0,
          0,
          0,
          2,
          3,
          1,
          1,
          0,
          37,
          0,
          0,
          0,
          0,
          4,
          0,
          4,
          0,
          0,
          0,
          4,
          0,
          0,
          0,
          1,
          0,
          1,
          0,
          0,
          0,
          0,
          0,
          0,
          0,
          0,
          0,
          4,
          8,
          6,
          1,
          0,
          0,
          0,
          0,
          0,
          0,
          0,
          1,
          6,
          0,
          1,
          0,
          1,
          0,
          1,
          0,
          3,
          0,
          0,
          0,
          4,
          0,
          0,
          0,
          11,
          7,
          4,
          2,
          0,
          5,
          8,
          8,
          0,
          0,
          0,
          1,
          0,
          0,
          0,
          1,
          0,
          0,
          1,
          0,
          0,
          0,
          0,
          0,
          0,
          0,
          1,
          0,
          0,
          0,
          0,
          1,
          0,
          0,
          8,
          6,
          0,
          0,
          0,
          0,
          0,
          0,
          0,
          0,
          0,
          0,
          0,
          0,
          0,
          0,
          0,
          0,
          0,
          1,
          0,
          0,
          0,
          1,
          0,
          0,
          0,
          1,
          0,
          0,
          0,
          0,
          0,
          0,
          0,
          0,
          0,
          0,
          0,
          0,
          0,
          1,
          0,
          0,
          0,
          1,
          23,
          25,
          25,
          21,
          23,
          24,
          22,
          23,
          20,
          21,
          20,
          11,
          1,
          0,
          2,
          2,
          8,
          12,
          22,
          0,
          9,
          5,
          0,
          1,
          1,
          1,
          1,
          7,
          13,
          3,
          0,
          11,
          2,
          1,
          5,
          9,
          0,
          13,
          12,
          1,
          1,
          5,
          0,
          3,
          6,
          2,
          1,
          0,
          1,
          20,
          2,
          3,
          3,
          10,
          30,
          1,
          1,
          3,
          16,
          8,
          6,
          1,
          3,
          2,
          1,
          3,
          2,
          2,
          43,
          49,
          25,
          1,
          3,
          1,
          6,
          7,
          0,
          8,
          1,
          4,
          21,
          1,
          2,
          6,
          9,
          2,
          1,
          8,
          9,
          2,
          4,
          24,
          8,
          18,
          10,
          0,
          1,
          1,
          7,
          1,
          5,
          8,
          7,
          8,
          2,
          2,
          4,
          17,
          1,
          1,
          4,
          12,
          8,
          8,
          2,
          6,
          6,
          2,
          0,
          12,
          6,
          1,
          13,
          6,
          2,
          14,
          1,
          0,
          45,
          1,
          0,
          1,
          31,
          0,
          1,
          1,
          12,
          1,
          3,
          18,
          6,
          6,
          1,
          2,
          42,
          8,
          1,
          3,
          21,
          0,
          1,
          0,
          5,
          21,
          3,
          1,
          19,
          0,
          3,
          32,
          27,
          19,
          18,
          7,
          1,
          5,
          0,
          2,
          3,
          19,
          16,
          2,
          4,
          1,
          1,
          1,
          2,
          1,
          12,
          0,
          8,
          2,
          2,
          1,
          7,
          8,
          9,
          4,
          23,
          0,
          2,
          0,
          0,
          6,
          2,
          2,
          25,
          3,
          0,
          1,
          3,
          5,
          13,
          13,
          1,
          3,
          0,
          3,
          24,
          16,
          1,
          1,
          12,
          1,
          23,
          17,
          14,
          1,
          2,
          2,
          1,
          8,
          16,
          9,
          3,
          10,
          4,
          7,
          2,
          2,
          1,
          7,
          6,
          1,
          5,
          0,
          3,
          5,
          23,
          20,
          28,
          1,
          47,
          37,
          2,
          3,
          21,
          23,
          27,
          10,
          3,
          12,
          11,
          2,
          1,
          1,
          1,
          1,
          0,
          14,
          40,
          5,
          0,
          14,
          9,
          4,
          0,
          13,
          10,
          16,
          0,
          1,
          21,
          18,
          1,
          1,
          0,
          17,
          7,
          19,
          1,
          1,
          3,
          0,
          1,
          1,
          1,
          8,
          0,
          18,
          0,
          0,
          12,
          0,
          2,
          2,
          4,
          2,
          1,
          4,
          18,
          3,
          6,
          0,
          6,
          22,
          8,
          1,
          0,
          1,
          46,
          0,
          0,
          10,
          1,
          1,
          54,
          15,
          0,
          1,
          3,
          4,
          3,
          1,
          13,
          5,
          1,
          2,
          0,
          13,
          0,
          9,
          1,
          1,
          0,
          0,
          1,
          1,
          9,
          1,
          0,
          59,
          1,
          3,
          4,
          1,
          1,
          2,
          3,
          1,
          1,
          3,
          23,
          27,
          1,
          2,
          11,
          5,
          43,
          10,
          0,
          14,
          26,
          26,
          61,
          9,
          1,
          5,
          20,
          4,
          8,
          19,
          1,
          7,
          2,
          3,
          1,
          15,
          16,
          46,
          23,
          1,
          1,
          2,
          6,
          0,
          1,
          11,
          1,
          31,
          1,
          6,
          52,
          11,
          0,
          5,
          7,
          4,
          15,
          1,
          12,
          2,
          44,
          9,
          18,
          1,
          0,
          9,
          25,
          0,
          46,
          14,
          2,
          4,
          5,
          3,
          12,
          15,
          12,
          0,
          1,
          3,
          10,
          3,
          16,
          2,
          5,
          4,
          1,
          11,
          54,
          0,
          8,
          0,
          0,
          15,
          3,
          19,
          0,
          5,
          3,
          4,
          29,
          16,
          0,
          1,
          1,
          3,
          5,
          1,
          1,
          2,
          22,
          1,
          3,
          3,
          16,
          1,
          26,
          1,
          1,
          3,
          1,
          13,
          1,
          4,
          3,
          4,
          8,
          10,
          2,
          1,
          18,
          1,
          0,
          2,
          25,
          1,
          2,
          1,
          0,
          1,
          3,
          14,
          12,
          1,
          0,
          1,
          17,
          16,
          10,
          33,
          0,
          1,
          10,
          54,
          0,
          0,
          5,
          0,
          3,
          5,
          9,
          5,
          4,
          3,
          3,
          1,
          1,
          23,
          15,
          29,
          11,
          16,
          1,
          24,
          5,
          20,
          0,
          1,
          1,
          2,
          15,
          16,
          3,
          5,
          5,
          10,
          9,
          35,
          0,
          2,
          9,
          15,
          6,
          0,
          12,
          1,
          3,
          1,
          2,
          2,
          2,
          14,
          17,
          7,
          5,
          1,
          0,
          48,
          3,
          17,
          29,
          1,
          1,
          12,
          23,
          1,
          0,
          18,
          3,
          23,
          7,
          18,
          0,
          7,
          6,
          3,
          1,
          1,
          7,
          1,
          21,
          2,
          0,
          4,
          2,
          21,
          0,
          49,
          0,
          8,
          0,
          1,
          3,
          20,
          17,
          14,
          1,
          6,
          1,
          2,
          1,
          3,
          37,
          9,
          3,
          0,
          40,
          1,
          10,
          7,
          0,
          1,
          41,
          0,
          63,
          13,
          25,
          12,
          5,
          2,
          14,
          27,
          2,
          3,
          1,
          1,
          11,
          2,
          2,
          10,
          2,
          5,
          11,
          1,
          0,
          2,
          10,
          1,
          4,
          1,
          17,
          9,
          7,
          2,
          1,
          0,
          13,
          6,
          10,
          0,
          11,
          14,
          29,
          0,
          6,
          13,
          5,
          6,
          22,
          13,
          61,
          6,
          6,
          1,
          2,
          0,
          6,
          0,
          1,
          40,
          24,
          1,
          2,
          13,
          1,
          2,
          1,
          3,
          1,
          7,
          14,
          3,
          31,
          1,
          6,
          1,
          18,
          18,
          2,
          12,
          5,
          2,
          41,
          3,
          2,
          4,
          3,
          4,
          4,
          4,
          13,
          8,
          1,
          18,
          32,
          2,
          3,
          5,
          1,
          1,
          3,
          2,
          5,
          11,
          16,
          3,
          8,
          2,
          1,
          19,
          1,
          2,
          1,
          9,
          3,
          1,
          1,
          20,
          2,
          18,
          1,
          3,
          3,
          3,
          14,
          5,
          1,
          43,
          1,
          21,
          3,
          8,
          1,
          2,
          7,
          1,
          15,
          2,
          11,
          1,
          0,
          10,
          8,
          1,
          8,
          0,
          7,
          0,
          0,
          2,
          6,
          6,
          1,
          0,
          1,
          12,
          44,
          1,
          8,
          2,
          1,
          1,
          17,
          2,
          22,
          23,
          6,
          11,
          11,
          4,
          10,
          4,
          1,
          0,
          14,
          1,
          9,
          1,
          0,
          1,
          1,
          0,
          3,
          8,
          4,
          3,
          4,
          4,
          1,
          4,
          8,
          11,
          0,
          10,
          45,
          1,
          1,
          3,
          -1,
          0,
          1,
          1,
          3,
          11,
          30,
          38,
          35,
          1,
          5,
          10,
          11,
          13,
          7,
          0,
          3,
          13,
          10,
          1,
          12,
          8,
          1,
          0,
          3,
          5,
          24,
          1,
          2,
          2,
          13,
          4,
          -3,
          22,
          3,
          10,
          4,
          6,
          1,
          18,
          46,
          1,
          5,
          1,
          2,
          46,
          8,
          7,
          6,
          1,
          1,
          1,
          22,
          8,
          12,
          9,
          14,
          4,
          14,
          26,
          7,
          17,
          0,
          3,
          38,
          1,
          1,
          1,
          3,
          7,
          2,
          1,
          9,
          19,
          37,
          12,
          1,
          13,
          27,
          7,
          5,
          8,
          2,
          25,
          12,
          39,
          15,
          1,
          1,
          0,
          24,
          4,
          2,
          17,
          16,
          1,
          4,
          1,
          9,
          32,
          11,
          2,
          5,
          1,
          14,
          24,
          1,
          2,
          23,
          4,
          5,
          72,
          10,
          1,
          7,
          47,
          3,
          0,
          3,
          2,
          2,
          2,
          16,
          8,
          2,
          0,
          21,
          5,
          18,
          1,
          14,
          1,
          33,
          1,
          3,
          2,
          7,
          1,
          13,
          8,
          0,
          1,
          4,
          9,
          1,
          9,
          17,
          9,
          9,
          1,
          4,
          10,
          1,
          36,
          9,
          1,
          2,
          71,
          3,
          1,
          4,
          1,
          21,
          1,
          27,
          1,
          6,
          6,
          35,
          2,
          2,
          1,
          20,
          1,
          2,
          0,
          21,
          5,
          8,
          0,
          43,
          57,
          2,
          0,
          28,
          1,
          2,
          1,
          8,
          1,
          24,
          1,
          8,
          4,
          5,
          12,
          23,
          2,
          12,
          1,
          1,
          1,
          1,
          4,
          3,
          41,
          11,
          23,
          2,
          1,
          1,
          1,
          2,
          2,
          2,
          1,
          5,
          37,
          14,
          29,
          1,
          1,
          5,
          3,
          37,
          1,
          3,
          2,
          3,
          1,
          21,
          0,
          0,
          2,
          4,
          1,
          32,
          17,
          1,
          1,
          1,
          1,
          36,
          2,
          1,
          12,
          4,
          4,
          2,
          1,
          30,
          1,
          3,
          46,
          1,
          34,
          1,
          15,
          1,
          22,
          17,
          1,
          10,
          1,
          9,
          4,
          3,
          4,
          9,
          1,
          14,
          8,
          1,
          2,
          1,
          0,
          2,
          0,
          1,
          3,
          3,
          1,
          1,
          3,
          0,
          3,
          16,
          1,
          22,
          0,
          2,
          1,
          5,
          0,
          6,
          4,
          5,
          7,
          4,
          6,
          1,
          7,
          2,
          5,
          15,
          11,
          3,
          2,
          2,
          2,
          7,
          1,
          6,
          2,
          18,
          2,
          34,
          12,
          7,
          9,
          15,
          4,
          6,
          11,
          57,
          8,
          13,
          1,
          6,
          2,
          2,
          1,
          0,
          0,
          17,
          2,
          10,
          6,
          8,
          1,
          13,
          1,
          37,
          1,
          0,
          2,
          14,
          2,
          0,
          1,
          1,
          1,
          16,
          12,
          1,
          2,
          6,
          6,
          11,
          13,
          0,
          12,
          0,
          1,
          0,
          1,
          2,
          2,
          2,
          2,
          1,
          2,
          1,
          2,
          2,
          2,
          1,
          2,
          7,
          3,
          24,
          2,
          9,
          5,
          5,
          2,
          4,
          10,
          1,
          59,
          12,
          15,
          1,
          1,
          7,
          6,
          3,
          7,
          35,
          1,
          2,
          0,
          0,
          0,
          1,
          51,
          2,
          6,
          1,
          1,
          5,
          3,
          13,
          2,
          1,
          0,
          1,
          34,
          1,
          0,
          3,
          0,
          2,
          1,
          13,
          3,
          12,
          1,
          11,
          17,
          2,
          30,
          1,
          17,
          17,
          1,
          13,
          21,
          1,
          29,
          6,
          28,
          3,
          11,
          2,
          9,
          5,
          26,
          1,
          13,
          1,
          2,
          12,
          3,
          1,
          0,
          2,
          26,
          3,
          9,
          7,
          2,
          1,
          1,
          16,
          20,
          1,
          9,
          10,
          2,
          34,
          37,
          1,
          39,
          2,
          1,
          2,
          3,
          4,
          5,
          1,
          23,
          34,
          1,
          1,
          0,
          18,
          25,
          3,
          5,
          6,
          12,
          4,
          10,
          10,
          11,
          2,
          39,
          3,
          1,
          21,
          45,
          1,
          34,
          1,
          14,
          1,
          8,
          1,
          8,
          6,
          64,
          1,
          1,
          35,
          1,
          1,
          4,
          4,
          2,
          3,
          10,
          3,
          10,
          1,
          1,
          38,
          1,
          4,
          1,
          11,
          4,
          11,
          3,
          4,
          6,
          9,
          1,
          2,
          1,
          43,
          40,
          37,
          34,
          29,
          0,
          5,
          3,
          3,
          2,
          7,
          51,
          21,
          1,
          1,
          24,
          14,
          14,
          21,
          1,
          1,
          0,
          0,
          1,
          18,
          37,
          3,
          1,
          36,
          2,
          1,
          8,
          1,
          2,
          11,
          5,
          1,
          1,
          6,
          0,
          10,
          55,
          3,
          5,
          9,
          2,
          1,
          13,
          1,
          11,
          1,
          6,
          37,
          3,
          0,
          1,
          6,
          1,
          4,
          3,
          65,
          20,
          7,
          25,
          32,
          21,
          8,
          22,
          19,
          8,
          27,
          7,
          8,
          11,
          3,
          4,
          4,
          4,
          3,
          4,
          4,
          3,
          4,
          3,
          3,
          5,
          9,
          1,
          9,
          11,
          13,
          1,
          18,
          0,
          7,
          16,
          6,
          16,
          16,
          8,
          10,
          7,
          12,
          29,
          2,
          0,
          1,
          2,
          6,
          10,
          1,
          1,
          14,
          2,
          4,
          0,
          7,
          4,
          3,
          1,
          2,
          4,
          1,
          4,
          3,
          1,
          9,
          2,
          16,
          23,
          27,
          3,
          21,
          11,
          0,
          4,
          13,
          6,
          27,
          1,
          9,
          0,
          16,
          4,
          9,
          0,
          43,
          0,
          12,
          1,
          1,
          5,
          9,
          2,
          18,
          17,
          16,
          1,
          1,
          0,
          3,
          1,
          6,
          10,
          11,
          1,
          1,
          8,
          8,
          3,
          3,
          0,
          0,
          1,
          14,
          28,
          38,
          25,
          1,
          18,
          0,
          0,
          7,
          0,
          2,
          3,
          1,
          1,
          3,
          1,
          1,
          4,
          14,
          47,
          13,
          20,
          2,
          1,
          1,
          42,
          13,
          2,
          3,
          1,
          38,
          19,
          10,
          8,
          3,
          3,
          19,
          12,
          6,
          3,
          8,
          1,
          12,
          29,
          8,
          1,
          4,
          17,
          11,
          1,
          1,
          1,
          5,
          3,
          2,
          3,
          1,
          15,
          8,
          11,
          2,
          26,
          15,
          1,
          9,
          2,
          5,
          20,
          4,
          2,
          1,
          3,
          25,
          1,
          75,
          0,
          1,
          4,
          3,
          14,
          9,
          2,
          9,
          10,
          4,
          11,
          12,
          0,
          1,
          13,
          2,
          14,
          12,
          2,
          1,
          1,
          4,
          43,
          1,
          0,
          2,
          3,
          1,
          9,
          1,
          1,
          6,
          3,
          54,
          8,
          1,
          3,
          6,
          8,
          24,
          6,
          25,
          49,
          28,
          2,
          9,
          7,
          37,
          1,
          2,
          2,
          15,
          1,
          2,
          7,
          3,
          9,
          1,
          3,
          15,
          13,
          2,
          3,
          1,
          39,
          3,
          1,
          5,
          0,
          9,
          10,
          11,
          2,
          0,
          23,
          1,
          40,
          25,
          19,
          43,
          11,
          3,
          3,
          4,
          1,
          7,
          15,
          1,
          10,
          1,
          1,
          0,
          10,
          4,
          3,
          40,
          14,
          9,
          0,
          10,
          3,
          9,
          2,
          1,
          1,
          1,
          13,
          1,
          5,
          0,
          1,
          10,
          3,
          1,
          25,
          9,
          1,
          1,
          11,
          1,
          8,
          12,
          5,
          1,
          8,
          13,
          1,
          1,
          24,
          9,
          4,
          0,
          2,
          0,
          3,
          1,
          0,
          5,
          13,
          3,
          1,
          45,
          11,
          17,
          18,
          11,
          37,
          25,
          1,
          9,
          22,
          20,
          16,
          16,
          1,
          0,
          10,
          0,
          3,
          0,
          9,
          1,
          33,
          36,
          1,
          1,
          5,
          11,
          10,
          17,
          3,
          23,
          26,
          8,
          15,
          2,
          13,
          0,
          1,
          8,
          5,
          3,
          7,
          17,
          13,
          5,
          16,
          10,
          0,
          0,
          13,
          1,
          10,
          22,
          2,
          3,
          2,
          1,
          2,
          8,
          18,
          3,
          1,
          24,
          3,
          9,
          4,
          8,
          2,
          3,
          7,
          18,
          3,
          0,
          4,
          3,
          65,
          4,
          2,
          5,
          10,
          3,
          5,
          41,
          10,
          2,
          2,
          2,
          10,
          21,
          45,
          6,
          2,
          1,
          17,
          10,
          2,
          22,
          1,
          4,
          1,
          17,
          10,
          7,
          1,
          6,
          5,
          4,
          5,
          11,
          19,
          13,
          2,
          3,
          1,
          1,
          1,
          20,
          1,
          2,
          1,
          33,
          1,
          1,
          31,
          0,
          2,
          1,
          1,
          9,
          6,
          6,
          1,
          1,
          70,
          1,
          1,
          5,
          1,
          1,
          24,
          2,
          22,
          2,
          19,
          0,
          4,
          12,
          11,
          1,
          23,
          10,
          4,
          5,
          1,
          30,
          19,
          16,
          5,
          0,
          3,
          34,
          23,
          3,
          1,
          1,
          51,
          1,
          5,
          9,
          6,
          73,
          6,
          4,
          7,
          1,
          1,
          1,
          11,
          4,
          2,
          13,
          0,
          5,
          1,
          7,
          2,
          8,
          11,
          1,
          1,
          3,
          13,
          11,
          1,
          1,
          0,
          2,
          1,
          1,
          1,
          1,
          3,
          13,
          1,
          1,
          4,
          1,
          3,
          15,
          3,
          0,
          2,
          12,
          6,
          8,
          3,
          5,
          2,
          5,
          1,
          0,
          1,
          2,
          36,
          2,
          3,
          1,
          3,
          1,
          52,
          1,
          20,
          0,
          16,
          20,
          1,
          2,
          1,
          1,
          0,
          52,
          3,
          21,
          2,
          49,
          35,
          9,
          4,
          0,
          1,
          3,
          13,
          6,
          2,
          1,
          26,
          0,
          17,
          14,
          16,
          10,
          17,
          6,
          4,
          12,
          1,
          1,
          8,
          6,
          3,
          0,
          0,
          0,
          0,
          1,
          10,
          11,
          8,
          43,
          14,
          2,
          5,
          9,
          1,
          12,
          10,
          14,
          4
         ],
         "y0": " ",
         "yaxis": "y"
        }
       ],
       "layout": {
        "boxmode": "group",
        "legend": {
         "tracegroupgap": 0
        },
        "template": {
         "data": {
          "bar": [
           {
            "error_x": {
             "color": "#2a3f5f"
            },
            "error_y": {
             "color": "#2a3f5f"
            },
            "marker": {
             "line": {
              "color": "#E5ECF6",
              "width": 0.5
             },
             "pattern": {
              "fillmode": "overlay",
              "size": 10,
              "solidity": 0.2
             }
            },
            "type": "bar"
           }
          ],
          "barpolar": [
           {
            "marker": {
             "line": {
              "color": "#E5ECF6",
              "width": 0.5
             },
             "pattern": {
              "fillmode": "overlay",
              "size": 10,
              "solidity": 0.2
             }
            },
            "type": "barpolar"
           }
          ],
          "carpet": [
           {
            "aaxis": {
             "endlinecolor": "#2a3f5f",
             "gridcolor": "white",
             "linecolor": "white",
             "minorgridcolor": "white",
             "startlinecolor": "#2a3f5f"
            },
            "baxis": {
             "endlinecolor": "#2a3f5f",
             "gridcolor": "white",
             "linecolor": "white",
             "minorgridcolor": "white",
             "startlinecolor": "#2a3f5f"
            },
            "type": "carpet"
           }
          ],
          "choropleth": [
           {
            "colorbar": {
             "outlinewidth": 0,
             "ticks": ""
            },
            "type": "choropleth"
           }
          ],
          "contour": [
           {
            "colorbar": {
             "outlinewidth": 0,
             "ticks": ""
            },
            "colorscale": [
             [
              0,
              "#0d0887"
             ],
             [
              0.1111111111111111,
              "#46039f"
             ],
             [
              0.2222222222222222,
              "#7201a8"
             ],
             [
              0.3333333333333333,
              "#9c179e"
             ],
             [
              0.4444444444444444,
              "#bd3786"
             ],
             [
              0.5555555555555556,
              "#d8576b"
             ],
             [
              0.6666666666666666,
              "#ed7953"
             ],
             [
              0.7777777777777778,
              "#fb9f3a"
             ],
             [
              0.8888888888888888,
              "#fdca26"
             ],
             [
              1,
              "#f0f921"
             ]
            ],
            "type": "contour"
           }
          ],
          "contourcarpet": [
           {
            "colorbar": {
             "outlinewidth": 0,
             "ticks": ""
            },
            "type": "contourcarpet"
           }
          ],
          "heatmap": [
           {
            "colorbar": {
             "outlinewidth": 0,
             "ticks": ""
            },
            "colorscale": [
             [
              0,
              "#0d0887"
             ],
             [
              0.1111111111111111,
              "#46039f"
             ],
             [
              0.2222222222222222,
              "#7201a8"
             ],
             [
              0.3333333333333333,
              "#9c179e"
             ],
             [
              0.4444444444444444,
              "#bd3786"
             ],
             [
              0.5555555555555556,
              "#d8576b"
             ],
             [
              0.6666666666666666,
              "#ed7953"
             ],
             [
              0.7777777777777778,
              "#fb9f3a"
             ],
             [
              0.8888888888888888,
              "#fdca26"
             ],
             [
              1,
              "#f0f921"
             ]
            ],
            "type": "heatmap"
           }
          ],
          "heatmapgl": [
           {
            "colorbar": {
             "outlinewidth": 0,
             "ticks": ""
            },
            "colorscale": [
             [
              0,
              "#0d0887"
             ],
             [
              0.1111111111111111,
              "#46039f"
             ],
             [
              0.2222222222222222,
              "#7201a8"
             ],
             [
              0.3333333333333333,
              "#9c179e"
             ],
             [
              0.4444444444444444,
              "#bd3786"
             ],
             [
              0.5555555555555556,
              "#d8576b"
             ],
             [
              0.6666666666666666,
              "#ed7953"
             ],
             [
              0.7777777777777778,
              "#fb9f3a"
             ],
             [
              0.8888888888888888,
              "#fdca26"
             ],
             [
              1,
              "#f0f921"
             ]
            ],
            "type": "heatmapgl"
           }
          ],
          "histogram": [
           {
            "marker": {
             "pattern": {
              "fillmode": "overlay",
              "size": 10,
              "solidity": 0.2
             }
            },
            "type": "histogram"
           }
          ],
          "histogram2d": [
           {
            "colorbar": {
             "outlinewidth": 0,
             "ticks": ""
            },
            "colorscale": [
             [
              0,
              "#0d0887"
             ],
             [
              0.1111111111111111,
              "#46039f"
             ],
             [
              0.2222222222222222,
              "#7201a8"
             ],
             [
              0.3333333333333333,
              "#9c179e"
             ],
             [
              0.4444444444444444,
              "#bd3786"
             ],
             [
              0.5555555555555556,
              "#d8576b"
             ],
             [
              0.6666666666666666,
              "#ed7953"
             ],
             [
              0.7777777777777778,
              "#fb9f3a"
             ],
             [
              0.8888888888888888,
              "#fdca26"
             ],
             [
              1,
              "#f0f921"
             ]
            ],
            "type": "histogram2d"
           }
          ],
          "histogram2dcontour": [
           {
            "colorbar": {
             "outlinewidth": 0,
             "ticks": ""
            },
            "colorscale": [
             [
              0,
              "#0d0887"
             ],
             [
              0.1111111111111111,
              "#46039f"
             ],
             [
              0.2222222222222222,
              "#7201a8"
             ],
             [
              0.3333333333333333,
              "#9c179e"
             ],
             [
              0.4444444444444444,
              "#bd3786"
             ],
             [
              0.5555555555555556,
              "#d8576b"
             ],
             [
              0.6666666666666666,
              "#ed7953"
             ],
             [
              0.7777777777777778,
              "#fb9f3a"
             ],
             [
              0.8888888888888888,
              "#fdca26"
             ],
             [
              1,
              "#f0f921"
             ]
            ],
            "type": "histogram2dcontour"
           }
          ],
          "mesh3d": [
           {
            "colorbar": {
             "outlinewidth": 0,
             "ticks": ""
            },
            "type": "mesh3d"
           }
          ],
          "parcoords": [
           {
            "line": {
             "colorbar": {
              "outlinewidth": 0,
              "ticks": ""
             }
            },
            "type": "parcoords"
           }
          ],
          "pie": [
           {
            "automargin": true,
            "type": "pie"
           }
          ],
          "scatter": [
           {
            "fillpattern": {
             "fillmode": "overlay",
             "size": 10,
             "solidity": 0.2
            },
            "type": "scatter"
           }
          ],
          "scatter3d": [
           {
            "line": {
             "colorbar": {
              "outlinewidth": 0,
              "ticks": ""
             }
            },
            "marker": {
             "colorbar": {
              "outlinewidth": 0,
              "ticks": ""
             }
            },
            "type": "scatter3d"
           }
          ],
          "scattercarpet": [
           {
            "marker": {
             "colorbar": {
              "outlinewidth": 0,
              "ticks": ""
             }
            },
            "type": "scattercarpet"
           }
          ],
          "scattergeo": [
           {
            "marker": {
             "colorbar": {
              "outlinewidth": 0,
              "ticks": ""
             }
            },
            "type": "scattergeo"
           }
          ],
          "scattergl": [
           {
            "marker": {
             "colorbar": {
              "outlinewidth": 0,
              "ticks": ""
             }
            },
            "type": "scattergl"
           }
          ],
          "scattermapbox": [
           {
            "marker": {
             "colorbar": {
              "outlinewidth": 0,
              "ticks": ""
             }
            },
            "type": "scattermapbox"
           }
          ],
          "scatterpolar": [
           {
            "marker": {
             "colorbar": {
              "outlinewidth": 0,
              "ticks": ""
             }
            },
            "type": "scatterpolar"
           }
          ],
          "scatterpolargl": [
           {
            "marker": {
             "colorbar": {
              "outlinewidth": 0,
              "ticks": ""
             }
            },
            "type": "scatterpolargl"
           }
          ],
          "scatterternary": [
           {
            "marker": {
             "colorbar": {
              "outlinewidth": 0,
              "ticks": ""
             }
            },
            "type": "scatterternary"
           }
          ],
          "surface": [
           {
            "colorbar": {
             "outlinewidth": 0,
             "ticks": ""
            },
            "colorscale": [
             [
              0,
              "#0d0887"
             ],
             [
              0.1111111111111111,
              "#46039f"
             ],
             [
              0.2222222222222222,
              "#7201a8"
             ],
             [
              0.3333333333333333,
              "#9c179e"
             ],
             [
              0.4444444444444444,
              "#bd3786"
             ],
             [
              0.5555555555555556,
              "#d8576b"
             ],
             [
              0.6666666666666666,
              "#ed7953"
             ],
             [
              0.7777777777777778,
              "#fb9f3a"
             ],
             [
              0.8888888888888888,
              "#fdca26"
             ],
             [
              1,
              "#f0f921"
             ]
            ],
            "type": "surface"
           }
          ],
          "table": [
           {
            "cells": {
             "fill": {
              "color": "#EBF0F8"
             },
             "line": {
              "color": "white"
             }
            },
            "header": {
             "fill": {
              "color": "#C8D4E3"
             },
             "line": {
              "color": "white"
             }
            },
            "type": "table"
           }
          ]
         },
         "layout": {
          "annotationdefaults": {
           "arrowcolor": "#2a3f5f",
           "arrowhead": 0,
           "arrowwidth": 1
          },
          "autotypenumbers": "strict",
          "coloraxis": {
           "colorbar": {
            "outlinewidth": 0,
            "ticks": ""
           }
          },
          "colorscale": {
           "diverging": [
            [
             0,
             "#8e0152"
            ],
            [
             0.1,
             "#c51b7d"
            ],
            [
             0.2,
             "#de77ae"
            ],
            [
             0.3,
             "#f1b6da"
            ],
            [
             0.4,
             "#fde0ef"
            ],
            [
             0.5,
             "#f7f7f7"
            ],
            [
             0.6,
             "#e6f5d0"
            ],
            [
             0.7,
             "#b8e186"
            ],
            [
             0.8,
             "#7fbc41"
            ],
            [
             0.9,
             "#4d9221"
            ],
            [
             1,
             "#276419"
            ]
           ],
           "sequential": [
            [
             0,
             "#0d0887"
            ],
            [
             0.1111111111111111,
             "#46039f"
            ],
            [
             0.2222222222222222,
             "#7201a8"
            ],
            [
             0.3333333333333333,
             "#9c179e"
            ],
            [
             0.4444444444444444,
             "#bd3786"
            ],
            [
             0.5555555555555556,
             "#d8576b"
            ],
            [
             0.6666666666666666,
             "#ed7953"
            ],
            [
             0.7777777777777778,
             "#fb9f3a"
            ],
            [
             0.8888888888888888,
             "#fdca26"
            ],
            [
             1,
             "#f0f921"
            ]
           ],
           "sequentialminus": [
            [
             0,
             "#0d0887"
            ],
            [
             0.1111111111111111,
             "#46039f"
            ],
            [
             0.2222222222222222,
             "#7201a8"
            ],
            [
             0.3333333333333333,
             "#9c179e"
            ],
            [
             0.4444444444444444,
             "#bd3786"
            ],
            [
             0.5555555555555556,
             "#d8576b"
            ],
            [
             0.6666666666666666,
             "#ed7953"
            ],
            [
             0.7777777777777778,
             "#fb9f3a"
            ],
            [
             0.8888888888888888,
             "#fdca26"
            ],
            [
             1,
             "#f0f921"
            ]
           ]
          },
          "colorway": [
           "#636efa",
           "#EF553B",
           "#00cc96",
           "#ab63fa",
           "#FFA15A",
           "#19d3f3",
           "#FF6692",
           "#B6E880",
           "#FF97FF",
           "#FECB52"
          ],
          "font": {
           "color": "#2a3f5f"
          },
          "geo": {
           "bgcolor": "white",
           "lakecolor": "white",
           "landcolor": "#E5ECF6",
           "showlakes": true,
           "showland": true,
           "subunitcolor": "white"
          },
          "hoverlabel": {
           "align": "left"
          },
          "hovermode": "closest",
          "mapbox": {
           "style": "light"
          },
          "paper_bgcolor": "white",
          "plot_bgcolor": "#E5ECF6",
          "polar": {
           "angularaxis": {
            "gridcolor": "white",
            "linecolor": "white",
            "ticks": ""
           },
           "bgcolor": "#E5ECF6",
           "radialaxis": {
            "gridcolor": "white",
            "linecolor": "white",
            "ticks": ""
           }
          },
          "scene": {
           "xaxis": {
            "backgroundcolor": "#E5ECF6",
            "gridcolor": "white",
            "gridwidth": 2,
            "linecolor": "white",
            "showbackground": true,
            "ticks": "",
            "zerolinecolor": "white"
           },
           "yaxis": {
            "backgroundcolor": "#E5ECF6",
            "gridcolor": "white",
            "gridwidth": 2,
            "linecolor": "white",
            "showbackground": true,
            "ticks": "",
            "zerolinecolor": "white"
           },
           "zaxis": {
            "backgroundcolor": "#E5ECF6",
            "gridcolor": "white",
            "gridwidth": 2,
            "linecolor": "white",
            "showbackground": true,
            "ticks": "",
            "zerolinecolor": "white"
           }
          },
          "shapedefaults": {
           "line": {
            "color": "#2a3f5f"
           }
          },
          "ternary": {
           "aaxis": {
            "gridcolor": "white",
            "linecolor": "white",
            "ticks": ""
           },
           "baxis": {
            "gridcolor": "white",
            "linecolor": "white",
            "ticks": ""
           },
           "bgcolor": "#E5ECF6",
           "caxis": {
            "gridcolor": "white",
            "linecolor": "white",
            "ticks": ""
           }
          },
          "title": {
           "x": 0.05
          },
          "xaxis": {
           "automargin": true,
           "gridcolor": "white",
           "linecolor": "white",
           "ticks": "",
           "title": {
            "standoff": 15
           },
           "zerolinecolor": "white",
           "zerolinewidth": 2
          },
          "yaxis": {
           "automargin": true,
           "gridcolor": "white",
           "linecolor": "white",
           "ticks": "",
           "title": {
            "standoff": 15
           },
           "zerolinecolor": "white",
           "zerolinewidth": 2
          }
         }
        },
        "title": {
         "text": "Box Plot of Time Gaps Between Release Year and Date Added"
        },
        "xaxis": {
         "anchor": "y",
         "domain": [
          0,
          1
         ]
        },
        "yaxis": {
         "anchor": "x",
         "domain": [
          0,
          1
         ],
         "title": {
          "text": "Time Gap (Years)"
         }
        }
       }
      },
      "text/html": [
       "<div>                            <div id=\"afa55a94-2438-4d96-9443-6b527e2a2201\" class=\"plotly-graph-div\" style=\"height:525px; width:100%;\"></div>            <script type=\"text/javascript\">                require([\"plotly\"], function(Plotly) {                    window.PLOTLYENV=window.PLOTLYENV || {};                                    if (document.getElementById(\"afa55a94-2438-4d96-9443-6b527e2a2201\")) {                    Plotly.newPlot(                        \"afa55a94-2438-4d96-9443-6b527e2a2201\",                        [{\"alignmentgroup\":\"True\",\"hovertemplate\":\"Time Gap (Years)=%{y}\\u003cextra\\u003e\\u003c\\u002fextra\\u003e\",\"legendgroup\":\"\",\"marker\":{\"color\":\"#636efa\"},\"name\":\"\",\"notched\":false,\"offsetgroup\":\"\",\"orientation\":\"v\",\"showlegend\":false,\"x0\":\" \",\"xaxis\":\"x\",\"y\":[28,0,0,0,23,11,8,8,4,46,43,38,34,9,20,19,18,17,20,10,13,12,14,11,16,15,17,3,0,1,2,3,3,4,3,27,12,6,4,18,1,17,16,39,6,27,28,18,20,11,32,7,6,14,10,31,30,27,23,22,16,5,35,11,3,18,11,25,4,18,22,37,13,20,15,24,4,18,6,18,41,35,60,7,25,13,28,13,0,4,13,13,0,15,17,18,16,5,9,20,11,13,11,8,10,7,14,10,10,1,7,1,0,0,10,26,3,7,28,0,0,0,0,0,5,1,0,8,9,0,0,0,1,0,0,8,36,0,28,5,0,9,26,11,10,29,28,14,5,19,12,22,35,2,15,14,11,22,26,30,27,6,13,12,2,18,21,17,5,8,30,10,11,17,26,21,11,7,8,0,0,9,2,9,0,0,8,12,0,1,1,0,0,0,4,4,10,9,11,12,13,0,14,0,2,6,5,4,4,3,6,7,11,0,0,2,1,9,45,3,2,3,62,0,1,8,0,3,9,24,19,24,22,24,21,26,28,2,2,13,10,11,2,16,33,26,5,10,20,3,2,13,11,21,12,22,2,15,11,2,24,37,35,32,18,41,15,13,19,11,18,9,12,1,23,23,0,2,9,2,11,0,0,5,18,7,5,6,2,3,0,1,2,1,2,9,2,5,0,49,8,1,16,7,7,0,0,0,0,0,7,9,0,7,2,0,8,0,7,3,1,0,0,0,0,0,0,0,0,2,1,9,20,12,21,24,0,10,8,18,20,6,13,11,24,2,10,20,24,17,9,10,12,15,15,7,17,37,20,40,16,6,25,45,3,2,2,3,0,5,0,0,0,3,0,6,0,0,10,10,7,4,0,0,5,0,0,0,0,0,0,3,1,0,17,3,0,0,1,2,0,4,0,22,0,0,1,4,1,8,2,3,1,15,32,11,16,11,12,3,9,18,13,3,1,27,12,3,10,12,19,21,5,3,29,13,0,3,0,7,10,3,1,2,4,5,7,8,6,17,6,0,6,6,5,0,4,6,1,1,20,0,0,6,0,5,29,10,11,13,20,17,11,14,0,0,0,6,8,1,1,8,1,4,4,0,1,5,2,2,0,9,7,40,0,1,1,0,1,0,5,0,0,0,1,0,1,1,8,15,3,9,0,2,3,0,0,0,13,4,12,12,9,11,6,5,20,1,25,57,4,4,5,4,11,0,2,19,12,22,5,4,13,3,1,0,0,8,9,0,23,1,1,0,0,0,0,0,8,1,1,1,0,1,0,0,0,1,7,1,4,0,7,0,9,0,5,6,1,6,0,11,8,0,5,0,1,1,0,0,0,0,1,0,1,8,8,0,7,1,0,31,3,2,33,15,0,5,0,15,6,10,0,13,7,0,1,0,0,8,5,1,3,0,1,0,2,3,0,19,4,3,0,1,0,2,0,0,3,1,9,0,0,13,0,2,5,1,4,4,1,0,0,1,0,1,1,1,24,2,11,13,1,16,1,3,0,0,0,0,0,1,0,3,1,11,0,1,1,1,1,8,5,1,3,1,0,7,2,1,0,0,0,10,1,4,2,1,10,16,16,0,18,3,0,1,5,1,1,22,9,1,7,12,34,1,8,24,12,14,4,10,33,7,2,10,0,28,3,6,0,1,0,0,9,0,0,0,0,1,0,1,2,1,8,0,0,0,0,0,0,0,2,1,0,8,0,0,14,0,16,11,0,2,1,3,1,0,0,8,4,7,4,0,2,1,0,0,0,0,0,4,7,1,1,0,0,0,0,4,0,0,0,0,0,0,0,1,2,0,7,0,0,6,0,11,6,6,14,0,2,30,14,2,0,0,2,1,0,0,0,0,0,0,2,0,0,3,0,0,0,5,0,0,0,0,0,2,0,7,1,0,0,16,9,10,5,10,4,9,4,0,2,11,0,0,4,3,7,2,66,1,0,0,0,0,12,2,7,0,1,12,0,0,0,0,1,4,0,1,0,8,0,2,0,0,0,2,1,0,0,2,31,2,2,4,8,26,0,3,2,1,0,3,0,0,0,7,0,7,0,0,0,11,2,1,1,0,2,0,2,1,2,2,0,0,0,0,0,45,15,7,6,3,29,3,8,17,38,13,21,2,40,15,8,0,2,4,0,0,6,0,4,2,3,0,0,0,16,0,30,38,5,14,18,3,0,2,0,0,16,0,0,0,1,0,3,0,0,2,4,0,0,0,3,0,0,0,3,1,7,4,4,15,0,0,2,1,2,0,0,0,18,7,6,12,17,11,13,21,13,13,5,9,0,0,2,4,3,3,4,4,1,7,5,7,4,6,0,0,6,0,0,0,0,0,4,0,0,18,7,2,0,6,0,2,2,1,1,2,3,0,1,2,4,4,3,2,0,0,0,0,0,0,10,0,0,1,1,5,0,2,0,0,11,0,2,4,0,1,4,9,12,22,2,0,0,9,0,0,0,0,0,0,0,22,0,4,1,0,4,0,0,0,0,1,0,1,3,0,8,6,11,0,2,0,0,1,4,8,0,6,0,0,0,0,2,0,0,0,0,0,0,0,3,0,0,3,2,0,0,0,0,3,0,4,1,0,0,0,0,0,4,0,0,1,0,0,0,0,1,1,0,2,1,0,2,1,2,0,0,4,2,0,1,2,0,2,8,1,8,9,8,7,7,4,7,5,5,5,6,0,7,7,6,9,6,8,6,1,1,8,5,6,9,7,9,7,0,0,3,1,0,1,1,0,5,1,21,6,13,1,30,0,0,9,0,1,0,0,1,4,1,0,5,14,0,0,0,0,3,3,1,0,23,0,0,0,26,0,0,41,31,38,62,64,1,0,57,10,66,50,6,2,0,8,4,7,1,1,0,0,0,0,0,2,6,12,0,11,2,3,0,0,2,0,4,6,0,1,1,0,3,3,13,3,12,14,14,8,12,16,14,9,1,0,3,1,2,3,4,1,2,0,21,6,5,0,1,0,1,1,1,0,0,1,2,0,0,2,39,1,41,39,47,44,10,0,6,10,0,0,14,11,8,13,12,11,0,14,16,8,15,1,1,3,1,0,0,2,1,2,0,2,2,2,8,0,1,0,10,26,0,0,0,0,4,1,0,2,0,0,1,0,1,0,1,0,1,7,0,0,0,2,1,0,12,8,0,0,0,13,17,0,0,0,0,4,1,1,14,4,12,9,4,3,4,11,15,1,8,1,0,0,0,10,15,14,9,10,11,12,11,1,0,4,1,1,0,2,1,1,0,0,0,2,0,0,0,1,1,0,4,5,0,5,1,2,1,0,0,2,2,1,0,1,0,1,0,1,10,3,1,3,1,3,1,0,3,1,30,5,8,0,12,36,22,40,7,27,6,6,15,14,19,17,4,22,5,33,0,3,10,6,2,0,4,3,1,2,1,0,1,0,0,0,1,0,0,1,1,1,2,0,0,3,0,1,0,0,3,3,0,6,1,0,2,0,1,0,0,1,0,0,3,0,1,1,0,0,4,1,10,1,15,4,2,1,0,1,1,9,0,1,4,9,4,3,13,2,0,1,0,4,5,5,4,6,0,1,1,2,0,1,0,0,8,5,1,5,3,4,4,1,1,3,0,10,1,2,1,1,5,0,3,1,2,1,1,1,2,0,1,3,6,1,0,0,1,0,1,0,4,26,3,2,1,1,1,21,0,4,3,0,11,2,0,1,0,3,1,5,0,0,0,16,0,1,1,0,7,0,1,9,1,5,1,5,2,1,3,1,0,1,2,1,0,6,0,3,0,0,3,2,6,13,12,11,0,5,19,14,2,3,11,0,0,0,0,0,6,1,0,0,0,2,0,0,2,0,0,0,0,0,2,5,4,0,0,1,4,4,1,18,4,13,8,6,8,7,12,2,9,15,10,2,11,7,8,0,3,2,0,0,0,2,0,0,2,0,0,2,0,2,2,0,3,2,0,0,0,0,5,0,0,2,2,1,0,2,0,4,0,0,0,1,0,3,1,2,1,0,11,0,0,0,0,0,0,2,0,4,0,0,0,0,0,0,0,5,4,6,0,0,0,0,0,8,0,1,6,0,0,10,0,0,3,0,1,0,0,2,0,0,3,0,5,7,2,2,6,3,4,9,4,0,0,2,1,0,0,1,0,0,0,3,0,0,3,0,0,1,5,0,0,1,0,0,0,1,0,3,1,2,0,2,0,2,0,1,0,2,0,4,1,5,0,0,2,0,0,0,0,0,0,0,0,1,0,0,0,0,0,0,3,1,0,19,21,14,0,0,0,1,0,0,6,0,0,0,1,10,0,0,0,1,0,0,7,0,13,0,0,1,0,0,0,0,1,1,0,3,0,13,5,15,0,1,0,1,0,0,0,0,3,0,1,0,0,1,0,4,0,0,0,0,0,0,0,0,1,0,0,5,7,0,3,4,4,5,3,0,2,2,0,1,0,1,0,0,0,1,1,11,6,15,12,0,0,0,1,1,0,0,1,0,0,0,0,0,0,0,1,2,0,0,7,0,0,0,0,21,22,0,0,0,0,4,1,0,1,0,0,0,0,0,0,1,0,0,0,0,0,1,0,0,3,4,0,0,2,0,0,0,0,0,0,0,0,0,1,0,0,0,0,0,1,0,1,0,0,1,1,0,8,1,0,1,0,0,0,0,1,0,1,6,1,0,1,0,0,0,1,0,0,1,1,0,0,0,5,0,6,18,14,16,16,16,1,14,3,1,0,5,6,0,0,0,0,1,0,0,1,0,4,0,3,1,2,0,1,0,0,0,2,11,0,1,1,2,1,0,5,3,3,3,3,0,1,0,5,1,2,0,1,13,8,7,11,1,1,12,3,3,2,2,0,1,0,0,0,1,7,5,4,4,0,4,8,1,1,1,5,1,7,0,1,11,1,1,4,4,5,2,1,6,6,2,5,4,7,13,1,1,3,0,0,0,1,1,18,2,1,4,1,2,7,2,15,7,4,1,13,17,1,11,1,0,0,0,0,1,0,1,2,1,5,1,0,1,2,9,2,1,1,7,1,3,4,2,1,1,1,1,2,0,1,0,1,3,1,2,1,1,0,3,2,1,2,1,0,1,1,1,20,1,1,44,4,1,7,2,2,2,9,27,26,25,29,31,27,27,0,28,7,10,6,7,0,6,0,0,0,0,7,0,6,3,4,0,0,0,0,0,4,4,4,0,4,0,1,0,0,0,0,0,0,0,0,0,0,0,7,9,0,5,4,4,0,7,4,3,3,2,9,8,1,5,10,0,0,0,0,0,0,0,0,0,0,0,0,0,0,0,11,0,0,0,0,1,0,0,0,0,1,0,9,1,0,0,0,0,0,0,9,10,3,5,7,0,6,8,0,12,11,9,8,0,1,3,5,6,11,6,5,6,5,5,6,12,3,11,5,10,4,7,10,8,4,5,5,4,3,1,2,10,7,0,3,12,0,0,0,0,0,0,0,0,0,0,5,2,0,0,0,1,0,0,0,0,0,0,0,0,0,0,0,0,0,1,1,1,6,4,18,36,4,39,29,2,1,9,4,2,9,9,4,6,5,4,9,1,4,10,3,9,0,4,9,10,9,2,6,13,1,2,6,7,7,0,0,9,4,5,5,2,2,3,4,5,10,5,3,1,6,5,2,8,6,9,8,3,2,6,0,0,0,0,0,0,0,0,0,0,0,0,0,4,0,0,1,0,0,1,0,1,0,1,1,1,6,0,20,0,0,1,1,1,0,1,1,0,0,0,3,0,0,0,0,4,2,0,0,0,7,7,10,2,18,8,4,4,8,6,9,2,8,12,6,3,6,7,13,0,1,13,6,1,0,0,0,0,0,0,0,0,0,0,0,0,0,0,0,0,0,0,5,6,6,6,0,12,5,15,5,0,8,0,11,3,8,0,6,1,0,0,0,0,0,4,0,2,0,0,0,0,0,1,1,0,0,0,1,1,0,3,0,0,0,0,0,0,11,0,39,0,1,0,0,0,11,0,0,0,0,0,0,1,1,0,1,1,1,0,1,0,0,10,2,1,1,1,1,0,1,0,0,1,0,0,0,0,0,1,1,0,0,1,0,0,0,1,0,0,1,0,0,0,1,1,9,6,14,2,11,13,18,1,0,0,0,0,9,12,0,2,0,2,0,0,1,0,2,2,1,0,0,0,0,0,1,0,0,0,1,0,20,11,1,2,2,1,1,14,4,4,4,10,14,2,14,1,0,1,0,1,1,0,0,0,0,0,0,0,0,1,1,1,1,20,1,0,0,0,1,0,0,0,0,0,1,0,1,38,32,1,1,0,0,1,2,0,1,8,0,0,1,0,0,0,0,0,0,0,0,0,1,0,0,0,0,2,0,0,31,26,0,0,0,0,0,0,0,0,1,0,0,1,0,0,0,0,0,0,0,0,0,0,0,0,15,1,0,39,1,1,1,0,0,1,0,0,0,1,2,0,0,0,0,0,0,0,2,57,1,1,0,0,0,1,0,0,0,5,0,1,1,0,0,0,2,0,3,0,0,1,0,0,0,0,0,0,0,1,0,29,5,4,11,34,44,0,43,28,1,1,33,1,1,1,0,1,0,1,0,0,0,6,0,0,2,0,0,2,0,2,0,0,2,2,1,0,0,0,0,1,1,1,1,1,2,0,0,0,0,0,0,0,0,3,3,0,0,5,1,6,51,-1,46,4,55,1,23,1,0,0,2,0,1,0,0,0,0,0,0,0,0,0,0,1,1,0,24,0,1,0,0,2,1,0,24,22,48,19,1,0,0,0,0,0,1,0,0,0,25,23,1,22,1,1,0,0,0,0,0,0,0,0,1,21,21,1,1,0,2,1,1,0,0,1,1,1,0,0,0,0,3,3,1,0,1,1,1,0,1,1,0,1,0,1,1,46,2,3,42,0,1,1,1,0,0,0,1,0,0,1,0,1,25,16,11,1,16,0,1,0,4,0,1,0,1,2,2,0,0,1,1,1,1,2,1,2,0,0,1,0,0,3,2,3,2,1,1,3,0,2,1,0,1,0,0,1,0,0,9,3,3,3,0,2,0,1,0,4,1,1,0,1,10,6,1,0,0,0,0,0,0,0,1,1,4,0,0,0,1,0,0,0,0,0,0,0,0,2,3,1,1,0,37,0,0,0,0,4,0,4,0,0,0,4,0,0,0,1,0,1,0,0,0,0,0,0,0,0,0,4,8,6,1,0,0,0,0,0,0,0,1,6,0,1,0,1,0,1,0,3,0,0,0,4,0,0,0,11,7,4,2,0,5,8,8,0,0,0,1,0,0,0,1,0,0,1,0,0,0,0,0,0,0,1,0,0,0,0,1,0,0,8,6,0,0,0,0,0,0,0,0,0,0,0,0,0,0,0,0,0,1,0,0,0,1,0,0,0,1,0,0,0,0,0,0,0,0,0,0,0,0,0,1,0,0,0,1,23,25,25,21,23,24,22,23,20,21,20,11,1,0,2,2,8,12,22,0,9,5,0,1,1,1,1,7,13,3,0,11,2,1,5,9,0,13,12,1,1,5,0,3,6,2,1,0,1,20,2,3,3,10,30,1,1,3,16,8,6,1,3,2,1,3,2,2,43,49,25,1,3,1,6,7,0,8,1,4,21,1,2,6,9,2,1,8,9,2,4,24,8,18,10,0,1,1,7,1,5,8,7,8,2,2,4,17,1,1,4,12,8,8,2,6,6,2,0,12,6,1,13,6,2,14,1,0,45,1,0,1,31,0,1,1,12,1,3,18,6,6,1,2,42,8,1,3,21,0,1,0,5,21,3,1,19,0,3,32,27,19,18,7,1,5,0,2,3,19,16,2,4,1,1,1,2,1,12,0,8,2,2,1,7,8,9,4,23,0,2,0,0,6,2,2,25,3,0,1,3,5,13,13,1,3,0,3,24,16,1,1,12,1,23,17,14,1,2,2,1,8,16,9,3,10,4,7,2,2,1,7,6,1,5,0,3,5,23,20,28,1,47,37,2,3,21,23,27,10,3,12,11,2,1,1,1,1,0,14,40,5,0,14,9,4,0,13,10,16,0,1,21,18,1,1,0,17,7,19,1,1,3,0,1,1,1,8,0,18,0,0,12,0,2,2,4,2,1,4,18,3,6,0,6,22,8,1,0,1,46,0,0,10,1,1,54,15,0,1,3,4,3,1,13,5,1,2,0,13,0,9,1,1,0,0,1,1,9,1,0,59,1,3,4,1,1,2,3,1,1,3,23,27,1,2,11,5,43,10,0,14,26,26,61,9,1,5,20,4,8,19,1,7,2,3,1,15,16,46,23,1,1,2,6,0,1,11,1,31,1,6,52,11,0,5,7,4,15,1,12,2,44,9,18,1,0,9,25,0,46,14,2,4,5,3,12,15,12,0,1,3,10,3,16,2,5,4,1,11,54,0,8,0,0,15,3,19,0,5,3,4,29,16,0,1,1,3,5,1,1,2,22,1,3,3,16,1,26,1,1,3,1,13,1,4,3,4,8,10,2,1,18,1,0,2,25,1,2,1,0,1,3,14,12,1,0,1,17,16,10,33,0,1,10,54,0,0,5,0,3,5,9,5,4,3,3,1,1,23,15,29,11,16,1,24,5,20,0,1,1,2,15,16,3,5,5,10,9,35,0,2,9,15,6,0,12,1,3,1,2,2,2,14,17,7,5,1,0,48,3,17,29,1,1,12,23,1,0,18,3,23,7,18,0,7,6,3,1,1,7,1,21,2,0,4,2,21,0,49,0,8,0,1,3,20,17,14,1,6,1,2,1,3,37,9,3,0,40,1,10,7,0,1,41,0,63,13,25,12,5,2,14,27,2,3,1,1,11,2,2,10,2,5,11,1,0,2,10,1,4,1,17,9,7,2,1,0,13,6,10,0,11,14,29,0,6,13,5,6,22,13,61,6,6,1,2,0,6,0,1,40,24,1,2,13,1,2,1,3,1,7,14,3,31,1,6,1,18,18,2,12,5,2,41,3,2,4,3,4,4,4,13,8,1,18,32,2,3,5,1,1,3,2,5,11,16,3,8,2,1,19,1,2,1,9,3,1,1,20,2,18,1,3,3,3,14,5,1,43,1,21,3,8,1,2,7,1,15,2,11,1,0,10,8,1,8,0,7,0,0,2,6,6,1,0,1,12,44,1,8,2,1,1,17,2,22,23,6,11,11,4,10,4,1,0,14,1,9,1,0,1,1,0,3,8,4,3,4,4,1,4,8,11,0,10,45,1,1,3,-1,0,1,1,3,11,30,38,35,1,5,10,11,13,7,0,3,13,10,1,12,8,1,0,3,5,24,1,2,2,13,4,-3,22,3,10,4,6,1,18,46,1,5,1,2,46,8,7,6,1,1,1,22,8,12,9,14,4,14,26,7,17,0,3,38,1,1,1,3,7,2,1,9,19,37,12,1,13,27,7,5,8,2,25,12,39,15,1,1,0,24,4,2,17,16,1,4,1,9,32,11,2,5,1,14,24,1,2,23,4,5,72,10,1,7,47,3,0,3,2,2,2,16,8,2,0,21,5,18,1,14,1,33,1,3,2,7,1,13,8,0,1,4,9,1,9,17,9,9,1,4,10,1,36,9,1,2,71,3,1,4,1,21,1,27,1,6,6,35,2,2,1,20,1,2,0,21,5,8,0,43,57,2,0,28,1,2,1,8,1,24,1,8,4,5,12,23,2,12,1,1,1,1,4,3,41,11,23,2,1,1,1,2,2,2,1,5,37,14,29,1,1,5,3,37,1,3,2,3,1,21,0,0,2,4,1,32,17,1,1,1,1,36,2,1,12,4,4,2,1,30,1,3,46,1,34,1,15,1,22,17,1,10,1,9,4,3,4,9,1,14,8,1,2,1,0,2,0,1,3,3,1,1,3,0,3,16,1,22,0,2,1,5,0,6,4,5,7,4,6,1,7,2,5,15,11,3,2,2,2,7,1,6,2,18,2,34,12,7,9,15,4,6,11,57,8,13,1,6,2,2,1,0,0,17,2,10,6,8,1,13,1,37,1,0,2,14,2,0,1,1,1,16,12,1,2,6,6,11,13,0,12,0,1,0,1,2,2,2,2,1,2,1,2,2,2,1,2,7,3,24,2,9,5,5,2,4,10,1,59,12,15,1,1,7,6,3,7,35,1,2,0,0,0,1,51,2,6,1,1,5,3,13,2,1,0,1,34,1,0,3,0,2,1,13,3,12,1,11,17,2,30,1,17,17,1,13,21,1,29,6,28,3,11,2,9,5,26,1,13,1,2,12,3,1,0,2,26,3,9,7,2,1,1,16,20,1,9,10,2,34,37,1,39,2,1,2,3,4,5,1,23,34,1,1,0,18,25,3,5,6,12,4,10,10,11,2,39,3,1,21,45,1,34,1,14,1,8,1,8,6,64,1,1,35,1,1,4,4,2,3,10,3,10,1,1,38,1,4,1,11,4,11,3,4,6,9,1,2,1,43,40,37,34,29,0,5,3,3,2,7,51,21,1,1,24,14,14,21,1,1,0,0,1,18,37,3,1,36,2,1,8,1,2,11,5,1,1,6,0,10,55,3,5,9,2,1,13,1,11,1,6,37,3,0,1,6,1,4,3,65,20,7,25,32,21,8,22,19,8,27,7,8,11,3,4,4,4,3,4,4,3,4,3,3,5,9,1,9,11,13,1,18,0,7,16,6,16,16,8,10,7,12,29,2,0,1,2,6,10,1,1,14,2,4,0,7,4,3,1,2,4,1,4,3,1,9,2,16,23,27,3,21,11,0,4,13,6,27,1,9,0,16,4,9,0,43,0,12,1,1,5,9,2,18,17,16,1,1,0,3,1,6,10,11,1,1,8,8,3,3,0,0,1,14,28,38,25,1,18,0,0,7,0,2,3,1,1,3,1,1,4,14,47,13,20,2,1,1,42,13,2,3,1,38,19,10,8,3,3,19,12,6,3,8,1,12,29,8,1,4,17,11,1,1,1,5,3,2,3,1,15,8,11,2,26,15,1,9,2,5,20,4,2,1,3,25,1,75,0,1,4,3,14,9,2,9,10,4,11,12,0,1,13,2,14,12,2,1,1,4,43,1,0,2,3,1,9,1,1,6,3,54,8,1,3,6,8,24,6,25,49,28,2,9,7,37,1,2,2,15,1,2,7,3,9,1,3,15,13,2,3,1,39,3,1,5,0,9,10,11,2,0,23,1,40,25,19,43,11,3,3,4,1,7,15,1,10,1,1,0,10,4,3,40,14,9,0,10,3,9,2,1,1,1,13,1,5,0,1,10,3,1,25,9,1,1,11,1,8,12,5,1,8,13,1,1,24,9,4,0,2,0,3,1,0,5,13,3,1,45,11,17,18,11,37,25,1,9,22,20,16,16,1,0,10,0,3,0,9,1,33,36,1,1,5,11,10,17,3,23,26,8,15,2,13,0,1,8,5,3,7,17,13,5,16,10,0,0,13,1,10,22,2,3,2,1,2,8,18,3,1,24,3,9,4,8,2,3,7,18,3,0,4,3,65,4,2,5,10,3,5,41,10,2,2,2,10,21,45,6,2,1,17,10,2,22,1,4,1,17,10,7,1,6,5,4,5,11,19,13,2,3,1,1,1,20,1,2,1,33,1,1,31,0,2,1,1,9,6,6,1,1,70,1,1,5,1,1,24,2,22,2,19,0,4,12,11,1,23,10,4,5,1,30,19,16,5,0,3,34,23,3,1,1,51,1,5,9,6,73,6,4,7,1,1,1,11,4,2,13,0,5,1,7,2,8,11,1,1,3,13,11,1,1,0,2,1,1,1,1,3,13,1,1,4,1,3,15,3,0,2,12,6,8,3,5,2,5,1,0,1,2,36,2,3,1,3,1,52,1,20,0,16,20,1,2,1,1,0,52,3,21,2,49,35,9,4,0,1,3,13,6,2,1,26,0,17,14,16,10,17,6,4,12,1,1,8,6,3,0,0,0,0,1,10,11,8,43,14,2,5,9,1,12,10,14,4],\"y0\":\" \",\"yaxis\":\"y\",\"type\":\"box\"}],                        {\"template\":{\"data\":{\"histogram2dcontour\":[{\"type\":\"histogram2dcontour\",\"colorbar\":{\"outlinewidth\":0,\"ticks\":\"\"},\"colorscale\":[[0.0,\"#0d0887\"],[0.1111111111111111,\"#46039f\"],[0.2222222222222222,\"#7201a8\"],[0.3333333333333333,\"#9c179e\"],[0.4444444444444444,\"#bd3786\"],[0.5555555555555556,\"#d8576b\"],[0.6666666666666666,\"#ed7953\"],[0.7777777777777778,\"#fb9f3a\"],[0.8888888888888888,\"#fdca26\"],[1.0,\"#f0f921\"]]}],\"choropleth\":[{\"type\":\"choropleth\",\"colorbar\":{\"outlinewidth\":0,\"ticks\":\"\"}}],\"histogram2d\":[{\"type\":\"histogram2d\",\"colorbar\":{\"outlinewidth\":0,\"ticks\":\"\"},\"colorscale\":[[0.0,\"#0d0887\"],[0.1111111111111111,\"#46039f\"],[0.2222222222222222,\"#7201a8\"],[0.3333333333333333,\"#9c179e\"],[0.4444444444444444,\"#bd3786\"],[0.5555555555555556,\"#d8576b\"],[0.6666666666666666,\"#ed7953\"],[0.7777777777777778,\"#fb9f3a\"],[0.8888888888888888,\"#fdca26\"],[1.0,\"#f0f921\"]]}],\"heatmap\":[{\"type\":\"heatmap\",\"colorbar\":{\"outlinewidth\":0,\"ticks\":\"\"},\"colorscale\":[[0.0,\"#0d0887\"],[0.1111111111111111,\"#46039f\"],[0.2222222222222222,\"#7201a8\"],[0.3333333333333333,\"#9c179e\"],[0.4444444444444444,\"#bd3786\"],[0.5555555555555556,\"#d8576b\"],[0.6666666666666666,\"#ed7953\"],[0.7777777777777778,\"#fb9f3a\"],[0.8888888888888888,\"#fdca26\"],[1.0,\"#f0f921\"]]}],\"heatmapgl\":[{\"type\":\"heatmapgl\",\"colorbar\":{\"outlinewidth\":0,\"ticks\":\"\"},\"colorscale\":[[0.0,\"#0d0887\"],[0.1111111111111111,\"#46039f\"],[0.2222222222222222,\"#7201a8\"],[0.3333333333333333,\"#9c179e\"],[0.4444444444444444,\"#bd3786\"],[0.5555555555555556,\"#d8576b\"],[0.6666666666666666,\"#ed7953\"],[0.7777777777777778,\"#fb9f3a\"],[0.8888888888888888,\"#fdca26\"],[1.0,\"#f0f921\"]]}],\"contourcarpet\":[{\"type\":\"contourcarpet\",\"colorbar\":{\"outlinewidth\":0,\"ticks\":\"\"}}],\"contour\":[{\"type\":\"contour\",\"colorbar\":{\"outlinewidth\":0,\"ticks\":\"\"},\"colorscale\":[[0.0,\"#0d0887\"],[0.1111111111111111,\"#46039f\"],[0.2222222222222222,\"#7201a8\"],[0.3333333333333333,\"#9c179e\"],[0.4444444444444444,\"#bd3786\"],[0.5555555555555556,\"#d8576b\"],[0.6666666666666666,\"#ed7953\"],[0.7777777777777778,\"#fb9f3a\"],[0.8888888888888888,\"#fdca26\"],[1.0,\"#f0f921\"]]}],\"surface\":[{\"type\":\"surface\",\"colorbar\":{\"outlinewidth\":0,\"ticks\":\"\"},\"colorscale\":[[0.0,\"#0d0887\"],[0.1111111111111111,\"#46039f\"],[0.2222222222222222,\"#7201a8\"],[0.3333333333333333,\"#9c179e\"],[0.4444444444444444,\"#bd3786\"],[0.5555555555555556,\"#d8576b\"],[0.6666666666666666,\"#ed7953\"],[0.7777777777777778,\"#fb9f3a\"],[0.8888888888888888,\"#fdca26\"],[1.0,\"#f0f921\"]]}],\"mesh3d\":[{\"type\":\"mesh3d\",\"colorbar\":{\"outlinewidth\":0,\"ticks\":\"\"}}],\"scatter\":[{\"fillpattern\":{\"fillmode\":\"overlay\",\"size\":10,\"solidity\":0.2},\"type\":\"scatter\"}],\"parcoords\":[{\"type\":\"parcoords\",\"line\":{\"colorbar\":{\"outlinewidth\":0,\"ticks\":\"\"}}}],\"scatterpolargl\":[{\"type\":\"scatterpolargl\",\"marker\":{\"colorbar\":{\"outlinewidth\":0,\"ticks\":\"\"}}}],\"bar\":[{\"error_x\":{\"color\":\"#2a3f5f\"},\"error_y\":{\"color\":\"#2a3f5f\"},\"marker\":{\"line\":{\"color\":\"#E5ECF6\",\"width\":0.5},\"pattern\":{\"fillmode\":\"overlay\",\"size\":10,\"solidity\":0.2}},\"type\":\"bar\"}],\"scattergeo\":[{\"type\":\"scattergeo\",\"marker\":{\"colorbar\":{\"outlinewidth\":0,\"ticks\":\"\"}}}],\"scatterpolar\":[{\"type\":\"scatterpolar\",\"marker\":{\"colorbar\":{\"outlinewidth\":0,\"ticks\":\"\"}}}],\"histogram\":[{\"marker\":{\"pattern\":{\"fillmode\":\"overlay\",\"size\":10,\"solidity\":0.2}},\"type\":\"histogram\"}],\"scattergl\":[{\"type\":\"scattergl\",\"marker\":{\"colorbar\":{\"outlinewidth\":0,\"ticks\":\"\"}}}],\"scatter3d\":[{\"type\":\"scatter3d\",\"line\":{\"colorbar\":{\"outlinewidth\":0,\"ticks\":\"\"}},\"marker\":{\"colorbar\":{\"outlinewidth\":0,\"ticks\":\"\"}}}],\"scattermapbox\":[{\"type\":\"scattermapbox\",\"marker\":{\"colorbar\":{\"outlinewidth\":0,\"ticks\":\"\"}}}],\"scatterternary\":[{\"type\":\"scatterternary\",\"marker\":{\"colorbar\":{\"outlinewidth\":0,\"ticks\":\"\"}}}],\"scattercarpet\":[{\"type\":\"scattercarpet\",\"marker\":{\"colorbar\":{\"outlinewidth\":0,\"ticks\":\"\"}}}],\"carpet\":[{\"aaxis\":{\"endlinecolor\":\"#2a3f5f\",\"gridcolor\":\"white\",\"linecolor\":\"white\",\"minorgridcolor\":\"white\",\"startlinecolor\":\"#2a3f5f\"},\"baxis\":{\"endlinecolor\":\"#2a3f5f\",\"gridcolor\":\"white\",\"linecolor\":\"white\",\"minorgridcolor\":\"white\",\"startlinecolor\":\"#2a3f5f\"},\"type\":\"carpet\"}],\"table\":[{\"cells\":{\"fill\":{\"color\":\"#EBF0F8\"},\"line\":{\"color\":\"white\"}},\"header\":{\"fill\":{\"color\":\"#C8D4E3\"},\"line\":{\"color\":\"white\"}},\"type\":\"table\"}],\"barpolar\":[{\"marker\":{\"line\":{\"color\":\"#E5ECF6\",\"width\":0.5},\"pattern\":{\"fillmode\":\"overlay\",\"size\":10,\"solidity\":0.2}},\"type\":\"barpolar\"}],\"pie\":[{\"automargin\":true,\"type\":\"pie\"}]},\"layout\":{\"autotypenumbers\":\"strict\",\"colorway\":[\"#636efa\",\"#EF553B\",\"#00cc96\",\"#ab63fa\",\"#FFA15A\",\"#19d3f3\",\"#FF6692\",\"#B6E880\",\"#FF97FF\",\"#FECB52\"],\"font\":{\"color\":\"#2a3f5f\"},\"hovermode\":\"closest\",\"hoverlabel\":{\"align\":\"left\"},\"paper_bgcolor\":\"white\",\"plot_bgcolor\":\"#E5ECF6\",\"polar\":{\"bgcolor\":\"#E5ECF6\",\"angularaxis\":{\"gridcolor\":\"white\",\"linecolor\":\"white\",\"ticks\":\"\"},\"radialaxis\":{\"gridcolor\":\"white\",\"linecolor\":\"white\",\"ticks\":\"\"}},\"ternary\":{\"bgcolor\":\"#E5ECF6\",\"aaxis\":{\"gridcolor\":\"white\",\"linecolor\":\"white\",\"ticks\":\"\"},\"baxis\":{\"gridcolor\":\"white\",\"linecolor\":\"white\",\"ticks\":\"\"},\"caxis\":{\"gridcolor\":\"white\",\"linecolor\":\"white\",\"ticks\":\"\"}},\"coloraxis\":{\"colorbar\":{\"outlinewidth\":0,\"ticks\":\"\"}},\"colorscale\":{\"sequential\":[[0.0,\"#0d0887\"],[0.1111111111111111,\"#46039f\"],[0.2222222222222222,\"#7201a8\"],[0.3333333333333333,\"#9c179e\"],[0.4444444444444444,\"#bd3786\"],[0.5555555555555556,\"#d8576b\"],[0.6666666666666666,\"#ed7953\"],[0.7777777777777778,\"#fb9f3a\"],[0.8888888888888888,\"#fdca26\"],[1.0,\"#f0f921\"]],\"sequentialminus\":[[0.0,\"#0d0887\"],[0.1111111111111111,\"#46039f\"],[0.2222222222222222,\"#7201a8\"],[0.3333333333333333,\"#9c179e\"],[0.4444444444444444,\"#bd3786\"],[0.5555555555555556,\"#d8576b\"],[0.6666666666666666,\"#ed7953\"],[0.7777777777777778,\"#fb9f3a\"],[0.8888888888888888,\"#fdca26\"],[1.0,\"#f0f921\"]],\"diverging\":[[0,\"#8e0152\"],[0.1,\"#c51b7d\"],[0.2,\"#de77ae\"],[0.3,\"#f1b6da\"],[0.4,\"#fde0ef\"],[0.5,\"#f7f7f7\"],[0.6,\"#e6f5d0\"],[0.7,\"#b8e186\"],[0.8,\"#7fbc41\"],[0.9,\"#4d9221\"],[1,\"#276419\"]]},\"xaxis\":{\"gridcolor\":\"white\",\"linecolor\":\"white\",\"ticks\":\"\",\"title\":{\"standoff\":15},\"zerolinecolor\":\"white\",\"automargin\":true,\"zerolinewidth\":2},\"yaxis\":{\"gridcolor\":\"white\",\"linecolor\":\"white\",\"ticks\":\"\",\"title\":{\"standoff\":15},\"zerolinecolor\":\"white\",\"automargin\":true,\"zerolinewidth\":2},\"scene\":{\"xaxis\":{\"backgroundcolor\":\"#E5ECF6\",\"gridcolor\":\"white\",\"linecolor\":\"white\",\"showbackground\":true,\"ticks\":\"\",\"zerolinecolor\":\"white\",\"gridwidth\":2},\"yaxis\":{\"backgroundcolor\":\"#E5ECF6\",\"gridcolor\":\"white\",\"linecolor\":\"white\",\"showbackground\":true,\"ticks\":\"\",\"zerolinecolor\":\"white\",\"gridwidth\":2},\"zaxis\":{\"backgroundcolor\":\"#E5ECF6\",\"gridcolor\":\"white\",\"linecolor\":\"white\",\"showbackground\":true,\"ticks\":\"\",\"zerolinecolor\":\"white\",\"gridwidth\":2}},\"shapedefaults\":{\"line\":{\"color\":\"#2a3f5f\"}},\"annotationdefaults\":{\"arrowcolor\":\"#2a3f5f\",\"arrowhead\":0,\"arrowwidth\":1},\"geo\":{\"bgcolor\":\"white\",\"landcolor\":\"#E5ECF6\",\"subunitcolor\":\"white\",\"showland\":true,\"showlakes\":true,\"lakecolor\":\"white\"},\"title\":{\"x\":0.05},\"mapbox\":{\"style\":\"light\"}}},\"xaxis\":{\"anchor\":\"y\",\"domain\":[0.0,1.0]},\"yaxis\":{\"anchor\":\"x\",\"domain\":[0.0,1.0],\"title\":{\"text\":\"Time Gap (Years)\"}},\"legend\":{\"tracegroupgap\":0},\"title\":{\"text\":\"Box Plot of Time Gaps Between Release Year and Date Added\"},\"boxmode\":\"group\"},                        {\"responsive\": true}                    ).then(function(){\n",
       "                            \n",
       "var gd = document.getElementById('afa55a94-2438-4d96-9443-6b527e2a2201');\n",
       "var x = new MutationObserver(function (mutations, observer) {{\n",
       "        var display = window.getComputedStyle(gd).display;\n",
       "        if (!display || display === 'none') {{\n",
       "            console.log([gd, 'removed!']);\n",
       "            Plotly.purge(gd);\n",
       "            observer.disconnect();\n",
       "        }}\n",
       "}});\n",
       "\n",
       "// Listen for the removal of the full notebook cells\n",
       "var notebookContainer = gd.closest('#notebook-container');\n",
       "if (notebookContainer) {{\n",
       "    x.observe(notebookContainer, {childList: true});\n",
       "}}\n",
       "\n",
       "// Listen for the clearing of the current output cell\n",
       "var outputEl = gd.closest('.output');\n",
       "if (outputEl) {{\n",
       "    x.observe(outputEl, {childList: true});\n",
       "}}\n",
       "\n",
       "                        })                };                });            </script>        </div>"
      ]
     },
     "metadata": {},
     "output_type": "display_data"
    }
   ],
   "source": [
    "import plotly.express as px\n",
    "\n",
    "# Assuming your DataFrame is named 'df'\n",
    "# Convert 'date_added' to datetime if it's not already\n",
    "df['date_added'] = pd.to_datetime(df['date_added'], errors='coerce')\n",
    "\n",
    "# Calculate the time gap between release year and date added\n",
    "df['time_gap'] = df['date_added'].dt.year - df['release_year']\n",
    "\n",
    "# Create a box plot\n",
    "fig = px.box(df, y='time_gap',\n",
    "             labels={'time_gap': 'Time Gap (Years)'},\n",
    "             title='Box Plot of Time Gaps Between Release Year and Date Added')\n",
    "\n",
    "# Show the plot\n",
    "fig.show()\n"
   ]
  },
  {
   "cell_type": "code",
   "execution_count": null,
   "metadata": {},
   "outputs": [],
   "source": []
  }
 ],
 "metadata": {
  "kernelspec": {
   "display_name": "ydata_profiling",
   "language": "python",
   "name": "python3"
  },
  "language_info": {
   "codemirror_mode": {
    "name": "ipython",
    "version": 3
   },
   "file_extension": ".py",
   "mimetype": "text/x-python",
   "name": "python",
   "nbconvert_exporter": "python",
   "pygments_lexer": "ipython3",
   "version": "3.11.5"
  }
 },
 "nbformat": 4,
 "nbformat_minor": 2
}
